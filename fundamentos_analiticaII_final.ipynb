{
  "nbformat": 4,
  "nbformat_minor": 0,
  "metadata": {
    "colab": {
      "name": "fundamentos_analiticaII_final.ipynb",
      "provenance": [],
      "collapsed_sections": [],
      "toc_visible": true,
      "include_colab_link": true
    },
    "kernelspec": {
      "name": "python3",
      "display_name": "Python 3"
    }
  },
  "cells": [
    {
      "cell_type": "markdown",
      "metadata": {
        "id": "view-in-github",
        "colab_type": "text"
      },
      "source": [
        "<a href=\"https://colab.research.google.com/github/statscol/icesi_faii_final/blob/master/fundamentos_analiticaII_final.ipynb\" target=\"_parent\"><img src=\"https://colab.research.google.com/assets/colab-badge.svg\" alt=\"Open In Colab\"/></a>"
      ]
    },
    {
      "cell_type": "markdown",
      "metadata": {
        "id": "tXGZtYJB79w2",
        "colab_type": "text"
      },
      "source": [
        "# Taller Fundamentos de Analítica 2\n",
        "\n",
        "## Jhon Parra - Jhon López\n",
        "\n",
        "El dataset \"TransaccionesBancarias.csv\" contiene la historia transaccional de diferentes clientes a los que se les otorgó un crédito bancario. Se trata de las agregaciones de las operaciones diarias de los 3 meses (90 días) previos a la demanda del crédito. Tenemos además la fecha del crédito, el monto prestado, y una indicación de si el cliente pudo cumplir con sus obligaciones de pago o no.\n",
        "\n",
        "\n",
        "## **Carga de librerías necesarias**\n",
        "\n",
        "\n",
        "\n"
      ]
    },
    {
      "cell_type": "markdown",
      "metadata": {
        "id": "12h_fMiz8DEi",
        "colab_type": "text"
      },
      "source": [
        ""
      ]
    },
    {
      "cell_type": "code",
      "metadata": {
        "id": "WIX91MWJ73S2",
        "colab_type": "code",
        "colab": {}
      },
      "source": [
        "import pandas as pd\n",
        "import numpy as np\n",
        "import os\n",
        "import seaborn as sns\n",
        "import tensorflow as tf\n",
        "from plotnine import *\n",
        "import matplotlib.pyplot as plt\n",
        "from pandas.api.types import CategoricalDtype\n",
        "from sklearn.preprocessing import StandardScaler\n",
        "from sklearn.preprocessing import LabelEncoder\n",
        "from sklearn.compose import ColumnTransformer\n",
        "from sklearn.discriminant_analysis import LinearDiscriminantAnalysis\n",
        "from sklearn.model_selection import train_test_split\n",
        "from sklearn.model_selection import GridSearchCV\n",
        "from sklearn.pipeline import Pipeline\n",
        "from sklearn.neighbors import KNeighborsClassifier\n",
        "from sklearn.svm import SVC\n",
        "from sklearn.metrics import cohen_kappa_score,accuracy_score,f1_score\n",
        "from sklearn_pandas import DataFrameMapper\n",
        "from sklearn.linear_model import SGDClassifier\n"
      ],
      "execution_count": 0,
      "outputs": []
    },
    {
      "cell_type": "markdown",
      "metadata": {
        "id": "bzE_S_al789n",
        "colab_type": "text"
      },
      "source": [
        "## **Lectura de la información**"
      ]
    },
    {
      "cell_type": "code",
      "metadata": {
        "id": "3U1C4-9R8B_7",
        "colab_type": "code",
        "outputId": "09dc498f-2068-4ee9-b7d4-23df7709290f",
        "colab": {
          "base_uri": "https://localhost:8080/",
          "height": 143
        }
      },
      "source": [
        "##READ FROM GITHUB REPO\n",
        "!git clone https://github.com/statscol/icesi_faii_final\n",
        "%ls"
      ],
      "execution_count": 2,
      "outputs": [
        {
          "output_type": "stream",
          "text": [
            "Cloning into 'icesi_faii_final'...\n",
            "remote: Enumerating objects: 22, done.\u001b[K\n",
            "remote: Counting objects:   4% (1/22)\u001b[K\rremote: Counting objects:   9% (2/22)\u001b[K\rremote: Counting objects:  13% (3/22)\u001b[K\rremote: Counting objects:  18% (4/22)\u001b[K\rremote: Counting objects:  22% (5/22)\u001b[K\rremote: Counting objects:  27% (6/22)\u001b[K\rremote: Counting objects:  31% (7/22)\u001b[K\rremote: Counting objects:  36% (8/22)\u001b[K\rremote: Counting objects:  40% (9/22)\u001b[K\rremote: Counting objects:  45% (10/22)\u001b[K\rremote: Counting objects:  50% (11/22)\u001b[K\rremote: Counting objects:  54% (12/22)\u001b[K\rremote: Counting objects:  59% (13/22)\u001b[K\rremote: Counting objects:  63% (14/22)\u001b[K\rremote: Counting objects:  68% (15/22)\u001b[K\rremote: Counting objects:  72% (16/22)\u001b[K\rremote: Counting objects:  77% (17/22)\u001b[K\rremote: Counting objects:  81% (18/22)\u001b[K\rremote: Counting objects:  86% (19/22)\u001b[K\rremote: Counting objects:  90% (20/22)\u001b[K\rremote: Counting objects:  95% (21/22)\u001b[K\rremote: Counting objects: 100% (22/22)\u001b[K\rremote: Counting objects: 100% (22/22), done.\u001b[K\n",
            "remote: Compressing objects: 100% (22/22), done.\u001b[K\n",
            "remote: Total 22 (delta 10), reused 0 (delta 0), pack-reused 0\u001b[K\n",
            "Unpacking objects: 100% (22/22), done.\n",
            "\u001b[0m\u001b[01;34micesi_faii_final\u001b[0m/  \u001b[01;34msample_data\u001b[0m/\n"
          ],
          "name": "stdout"
        }
      ]
    },
    {
      "cell_type": "code",
      "metadata": {
        "id": "PmWLN-HU8py8",
        "colab_type": "code",
        "outputId": "f1d824d3-219e-4303-8101-bb46adab8adf",
        "colab": {
          "base_uri": "https://localhost:8080/",
          "height": 338
        }
      },
      "source": [
        "datos=pd.read_csv(\"icesi_faii_final/TransaccionesBancarias.csv\")\n",
        "datos.head()"
      ],
      "execution_count": 4,
      "outputs": [
        {
          "output_type": "execute_result",
          "data": {
            "text/html": [
              "<div>\n",
              "<style scoped>\n",
              "    .dataframe tbody tr th:only-of-type {\n",
              "        vertical-align: middle;\n",
              "    }\n",
              "\n",
              "    .dataframe tbody tr th {\n",
              "        vertical-align: top;\n",
              "    }\n",
              "\n",
              "    .dataframe thead th {\n",
              "        text-align: right;\n",
              "    }\n",
              "</style>\n",
              "<table border=\"1\" class=\"dataframe\">\n",
              "  <thead>\n",
              "    <tr style=\"text-align: right;\">\n",
              "      <th></th>\n",
              "      <th>ID</th>\n",
              "      <th>dia_1</th>\n",
              "      <th>dia_2</th>\n",
              "      <th>dia_3</th>\n",
              "      <th>dia_4</th>\n",
              "      <th>dia_5</th>\n",
              "      <th>dia_6</th>\n",
              "      <th>dia_7</th>\n",
              "      <th>dia_8</th>\n",
              "      <th>dia_9</th>\n",
              "      <th>dia_10</th>\n",
              "      <th>dia_11</th>\n",
              "      <th>dia_12</th>\n",
              "      <th>dia_13</th>\n",
              "      <th>dia_14</th>\n",
              "      <th>dia_15</th>\n",
              "      <th>dia_16</th>\n",
              "      <th>dia_17</th>\n",
              "      <th>dia_18</th>\n",
              "      <th>dia_19</th>\n",
              "      <th>dia_20</th>\n",
              "      <th>dia_21</th>\n",
              "      <th>dia_22</th>\n",
              "      <th>dia_23</th>\n",
              "      <th>dia_24</th>\n",
              "      <th>dia_25</th>\n",
              "      <th>dia_26</th>\n",
              "      <th>dia_27</th>\n",
              "      <th>dia_28</th>\n",
              "      <th>dia_29</th>\n",
              "      <th>dia_30</th>\n",
              "      <th>dia_31</th>\n",
              "      <th>dia_32</th>\n",
              "      <th>dia_33</th>\n",
              "      <th>dia_34</th>\n",
              "      <th>dia_35</th>\n",
              "      <th>dia_36</th>\n",
              "      <th>dia_37</th>\n",
              "      <th>dia_38</th>\n",
              "      <th>dia_39</th>\n",
              "      <th>...</th>\n",
              "      <th>dia_54</th>\n",
              "      <th>dia_55</th>\n",
              "      <th>dia_56</th>\n",
              "      <th>dia_57</th>\n",
              "      <th>dia_58</th>\n",
              "      <th>dia_59</th>\n",
              "      <th>dia_60</th>\n",
              "      <th>dia_61</th>\n",
              "      <th>dia_62</th>\n",
              "      <th>dia_63</th>\n",
              "      <th>dia_64</th>\n",
              "      <th>dia_65</th>\n",
              "      <th>dia_66</th>\n",
              "      <th>dia_67</th>\n",
              "      <th>dia_68</th>\n",
              "      <th>dia_69</th>\n",
              "      <th>dia_70</th>\n",
              "      <th>dia_71</th>\n",
              "      <th>dia_72</th>\n",
              "      <th>dia_73</th>\n",
              "      <th>dia_74</th>\n",
              "      <th>dia_75</th>\n",
              "      <th>dia_76</th>\n",
              "      <th>dia_77</th>\n",
              "      <th>dia_78</th>\n",
              "      <th>dia_79</th>\n",
              "      <th>dia_80</th>\n",
              "      <th>dia_81</th>\n",
              "      <th>dia_82</th>\n",
              "      <th>dia_83</th>\n",
              "      <th>dia_84</th>\n",
              "      <th>dia_85</th>\n",
              "      <th>dia_86</th>\n",
              "      <th>dia_87</th>\n",
              "      <th>dia_88</th>\n",
              "      <th>dia_89</th>\n",
              "      <th>dia_90</th>\n",
              "      <th>pago</th>\n",
              "      <th>fecha</th>\n",
              "      <th>monto</th>\n",
              "    </tr>\n",
              "  </thead>\n",
              "  <tbody>\n",
              "    <tr>\n",
              "      <th>0</th>\n",
              "      <td>1</td>\n",
              "      <td>0.00</td>\n",
              "      <td>0.00</td>\n",
              "      <td>0.00</td>\n",
              "      <td>0.00</td>\n",
              "      <td>0.00</td>\n",
              "      <td>0.00</td>\n",
              "      <td>0.00</td>\n",
              "      <td>0.00</td>\n",
              "      <td>0.00</td>\n",
              "      <td>0.00</td>\n",
              "      <td>0.00</td>\n",
              "      <td>0.00</td>\n",
              "      <td>0.00</td>\n",
              "      <td>0.00</td>\n",
              "      <td>0.00</td>\n",
              "      <td>0.00</td>\n",
              "      <td>0.00</td>\n",
              "      <td>-30.00</td>\n",
              "      <td>0.0</td>\n",
              "      <td>0.00</td>\n",
              "      <td>0.00</td>\n",
              "      <td>0.00</td>\n",
              "      <td>0.00</td>\n",
              "      <td>0.00</td>\n",
              "      <td>0.00</td>\n",
              "      <td>0.00</td>\n",
              "      <td>0.00</td>\n",
              "      <td>0.00</td>\n",
              "      <td>0.00</td>\n",
              "      <td>0.00</td>\n",
              "      <td>0.00</td>\n",
              "      <td>0.00</td>\n",
              "      <td>0.00</td>\n",
              "      <td>0.0</td>\n",
              "      <td>0.00</td>\n",
              "      <td>0.00</td>\n",
              "      <td>0.00</td>\n",
              "      <td>0.00</td>\n",
              "      <td>-3500.00</td>\n",
              "      <td>...</td>\n",
              "      <td>0.00</td>\n",
              "      <td>0.00</td>\n",
              "      <td>0.00</td>\n",
              "      <td>0.0</td>\n",
              "      <td>0.0</td>\n",
              "      <td>0.0</td>\n",
              "      <td>0.00</td>\n",
              "      <td>0.00</td>\n",
              "      <td>0.00</td>\n",
              "      <td>0.00</td>\n",
              "      <td>0.0</td>\n",
              "      <td>0.0</td>\n",
              "      <td>0.0</td>\n",
              "      <td>0.00</td>\n",
              "      <td>0.00</td>\n",
              "      <td>0.00</td>\n",
              "      <td>0.00</td>\n",
              "      <td>0.0</td>\n",
              "      <td>0.0</td>\n",
              "      <td>0.0</td>\n",
              "      <td>0.0</td>\n",
              "      <td>-30.0</td>\n",
              "      <td>0.0</td>\n",
              "      <td>0.0</td>\n",
              "      <td>-102.00</td>\n",
              "      <td>0.0</td>\n",
              "      <td>0.0</td>\n",
              "      <td>0.00</td>\n",
              "      <td>0.00</td>\n",
              "      <td>0.0</td>\n",
              "      <td>-488.43</td>\n",
              "      <td>0.0</td>\n",
              "      <td>0.0</td>\n",
              "      <td>0.0</td>\n",
              "      <td>0.0</td>\n",
              "      <td>-20.0</td>\n",
              "      <td>-5743.11</td>\n",
              "      <td>NO</td>\n",
              "      <td>2019-04-16 10:55:50.111</td>\n",
              "      <td>150.0</td>\n",
              "    </tr>\n",
              "    <tr>\n",
              "      <th>1</th>\n",
              "      <td>2</td>\n",
              "      <td>20323.83</td>\n",
              "      <td>0.00</td>\n",
              "      <td>0.00</td>\n",
              "      <td>1149.58</td>\n",
              "      <td>-807.37</td>\n",
              "      <td>1240.97</td>\n",
              "      <td>1189.47</td>\n",
              "      <td>-11766.97</td>\n",
              "      <td>0.00</td>\n",
              "      <td>0.00</td>\n",
              "      <td>-277.23</td>\n",
              "      <td>1911.71</td>\n",
              "      <td>-3333.63</td>\n",
              "      <td>1351.12</td>\n",
              "      <td>-994.11</td>\n",
              "      <td>0.00</td>\n",
              "      <td>0.00</td>\n",
              "      <td>-2584.20</td>\n",
              "      <td>1490.1</td>\n",
              "      <td>1497.91</td>\n",
              "      <td>909.02</td>\n",
              "      <td>-2552.57</td>\n",
              "      <td>0.00</td>\n",
              "      <td>0.00</td>\n",
              "      <td>1369.02</td>\n",
              "      <td>-2527.99</td>\n",
              "      <td>1349.96</td>\n",
              "      <td>-2708.84</td>\n",
              "      <td>-948.15</td>\n",
              "      <td>0.00</td>\n",
              "      <td>0.00</td>\n",
              "      <td>1751.82</td>\n",
              "      <td>1523.25</td>\n",
              "      <td>2105.0</td>\n",
              "      <td>1785.60</td>\n",
              "      <td>526.27</td>\n",
              "      <td>0.00</td>\n",
              "      <td>0.00</td>\n",
              "      <td>299.15</td>\n",
              "      <td>...</td>\n",
              "      <td>1490.23</td>\n",
              "      <td>1470.19</td>\n",
              "      <td>1744.23</td>\n",
              "      <td>0.0</td>\n",
              "      <td>0.0</td>\n",
              "      <td>0.0</td>\n",
              "      <td>-270.07</td>\n",
              "      <td>1590.93</td>\n",
              "      <td>-7581.79</td>\n",
              "      <td>-3303.89</td>\n",
              "      <td>1256.7</td>\n",
              "      <td>0.0</td>\n",
              "      <td>0.0</td>\n",
              "      <td>1224.79</td>\n",
              "      <td>-1671.22</td>\n",
              "      <td>1303.49</td>\n",
              "      <td>-3220.97</td>\n",
              "      <td>1509.8</td>\n",
              "      <td>0.0</td>\n",
              "      <td>0.0</td>\n",
              "      <td>-1490.2</td>\n",
              "      <td>1509.8</td>\n",
              "      <td>0.0</td>\n",
              "      <td>0.0</td>\n",
              "      <td>-3034.03</td>\n",
              "      <td>0.0</td>\n",
              "      <td>0.0</td>\n",
              "      <td>1323.34</td>\n",
              "      <td>1323.34</td>\n",
              "      <td>0.0</td>\n",
              "      <td>0.00</td>\n",
              "      <td>0.0</td>\n",
              "      <td>0.0</td>\n",
              "      <td>0.0</td>\n",
              "      <td>0.0</td>\n",
              "      <td>0.0</td>\n",
              "      <td>0.00</td>\n",
              "      <td>NO</td>\n",
              "      <td>2019-04-16 16:15:32.991</td>\n",
              "      <td>100.0</td>\n",
              "    </tr>\n",
              "    <tr>\n",
              "      <th>2</th>\n",
              "      <td>3</td>\n",
              "      <td>0.00</td>\n",
              "      <td>0.00</td>\n",
              "      <td>-7.15</td>\n",
              "      <td>-7.15</td>\n",
              "      <td>0.00</td>\n",
              "      <td>0.00</td>\n",
              "      <td>0.00</td>\n",
              "      <td>0.00</td>\n",
              "      <td>0.00</td>\n",
              "      <td>0.00</td>\n",
              "      <td>0.00</td>\n",
              "      <td>0.00</td>\n",
              "      <td>-150.00</td>\n",
              "      <td>0.00</td>\n",
              "      <td>0.00</td>\n",
              "      <td>0.00</td>\n",
              "      <td>0.00</td>\n",
              "      <td>0.00</td>\n",
              "      <td>0.0</td>\n",
              "      <td>0.00</td>\n",
              "      <td>0.00</td>\n",
              "      <td>0.00</td>\n",
              "      <td>0.00</td>\n",
              "      <td>0.00</td>\n",
              "      <td>0.00</td>\n",
              "      <td>0.00</td>\n",
              "      <td>0.00</td>\n",
              "      <td>0.00</td>\n",
              "      <td>0.00</td>\n",
              "      <td>0.00</td>\n",
              "      <td>-30.00</td>\n",
              "      <td>0.00</td>\n",
              "      <td>0.00</td>\n",
              "      <td>0.0</td>\n",
              "      <td>0.00</td>\n",
              "      <td>0.00</td>\n",
              "      <td>0.00</td>\n",
              "      <td>0.00</td>\n",
              "      <td>0.00</td>\n",
              "      <td>...</td>\n",
              "      <td>0.00</td>\n",
              "      <td>0.00</td>\n",
              "      <td>0.00</td>\n",
              "      <td>0.0</td>\n",
              "      <td>0.0</td>\n",
              "      <td>0.0</td>\n",
              "      <td>-30.00</td>\n",
              "      <td>0.00</td>\n",
              "      <td>0.00</td>\n",
              "      <td>0.00</td>\n",
              "      <td>0.0</td>\n",
              "      <td>0.0</td>\n",
              "      <td>0.0</td>\n",
              "      <td>0.00</td>\n",
              "      <td>0.00</td>\n",
              "      <td>0.00</td>\n",
              "      <td>0.00</td>\n",
              "      <td>0.0</td>\n",
              "      <td>0.0</td>\n",
              "      <td>0.0</td>\n",
              "      <td>0.0</td>\n",
              "      <td>0.0</td>\n",
              "      <td>0.0</td>\n",
              "      <td>0.0</td>\n",
              "      <td>0.00</td>\n",
              "      <td>0.0</td>\n",
              "      <td>0.0</td>\n",
              "      <td>0.00</td>\n",
              "      <td>0.00</td>\n",
              "      <td>0.0</td>\n",
              "      <td>0.00</td>\n",
              "      <td>0.0</td>\n",
              "      <td>0.0</td>\n",
              "      <td>0.0</td>\n",
              "      <td>-30.0</td>\n",
              "      <td>0.0</td>\n",
              "      <td>0.00</td>\n",
              "      <td>NO</td>\n",
              "      <td>2019-04-29 17:47:37.833</td>\n",
              "      <td>100.0</td>\n",
              "    </tr>\n",
              "    <tr>\n",
              "      <th>3</th>\n",
              "      <td>5</td>\n",
              "      <td>0.00</td>\n",
              "      <td>0.00</td>\n",
              "      <td>0.00</td>\n",
              "      <td>0.00</td>\n",
              "      <td>0.00</td>\n",
              "      <td>0.00</td>\n",
              "      <td>0.00</td>\n",
              "      <td>0.00</td>\n",
              "      <td>0.00</td>\n",
              "      <td>0.00</td>\n",
              "      <td>0.00</td>\n",
              "      <td>0.00</td>\n",
              "      <td>0.00</td>\n",
              "      <td>0.00</td>\n",
              "      <td>0.00</td>\n",
              "      <td>0.00</td>\n",
              "      <td>0.00</td>\n",
              "      <td>0.00</td>\n",
              "      <td>0.0</td>\n",
              "      <td>0.00</td>\n",
              "      <td>0.00</td>\n",
              "      <td>0.00</td>\n",
              "      <td>0.00</td>\n",
              "      <td>0.00</td>\n",
              "      <td>-40.34</td>\n",
              "      <td>-138.75</td>\n",
              "      <td>0.00</td>\n",
              "      <td>0.00</td>\n",
              "      <td>0.00</td>\n",
              "      <td>0.00</td>\n",
              "      <td>-7.00</td>\n",
              "      <td>0.00</td>\n",
              "      <td>0.00</td>\n",
              "      <td>0.0</td>\n",
              "      <td>0.00</td>\n",
              "      <td>0.00</td>\n",
              "      <td>0.00</td>\n",
              "      <td>0.00</td>\n",
              "      <td>0.00</td>\n",
              "      <td>...</td>\n",
              "      <td>0.00</td>\n",
              "      <td>0.00</td>\n",
              "      <td>0.00</td>\n",
              "      <td>0.0</td>\n",
              "      <td>0.0</td>\n",
              "      <td>0.0</td>\n",
              "      <td>-7.00</td>\n",
              "      <td>0.00</td>\n",
              "      <td>0.00</td>\n",
              "      <td>0.00</td>\n",
              "      <td>0.0</td>\n",
              "      <td>0.0</td>\n",
              "      <td>0.0</td>\n",
              "      <td>0.00</td>\n",
              "      <td>0.00</td>\n",
              "      <td>0.00</td>\n",
              "      <td>0.00</td>\n",
              "      <td>0.0</td>\n",
              "      <td>0.0</td>\n",
              "      <td>0.0</td>\n",
              "      <td>0.0</td>\n",
              "      <td>0.0</td>\n",
              "      <td>0.0</td>\n",
              "      <td>0.0</td>\n",
              "      <td>0.00</td>\n",
              "      <td>0.0</td>\n",
              "      <td>0.0</td>\n",
              "      <td>0.00</td>\n",
              "      <td>0.00</td>\n",
              "      <td>0.0</td>\n",
              "      <td>0.00</td>\n",
              "      <td>0.0</td>\n",
              "      <td>0.0</td>\n",
              "      <td>0.0</td>\n",
              "      <td>-7.0</td>\n",
              "      <td>0.0</td>\n",
              "      <td>0.00</td>\n",
              "      <td>NO</td>\n",
              "      <td>2019-04-29 20:28:54.543</td>\n",
              "      <td>100.0</td>\n",
              "    </tr>\n",
              "    <tr>\n",
              "      <th>4</th>\n",
              "      <td>6</td>\n",
              "      <td>17.02</td>\n",
              "      <td>188.69</td>\n",
              "      <td>-62.19</td>\n",
              "      <td>288.53</td>\n",
              "      <td>0.00</td>\n",
              "      <td>0.00</td>\n",
              "      <td>-266.58</td>\n",
              "      <td>-6.97</td>\n",
              "      <td>103.49</td>\n",
              "      <td>-41.82</td>\n",
              "      <td>-831.44</td>\n",
              "      <td>0.00</td>\n",
              "      <td>0.00</td>\n",
              "      <td>288.96</td>\n",
              "      <td>87.07</td>\n",
              "      <td>63.04</td>\n",
              "      <td>-630.05</td>\n",
              "      <td>960.54</td>\n",
              "      <td>0.0</td>\n",
              "      <td>0.00</td>\n",
              "      <td>32.29</td>\n",
              "      <td>14.70</td>\n",
              "      <td>-365.65</td>\n",
              "      <td>-261.43</td>\n",
              "      <td>18.39</td>\n",
              "      <td>0.00</td>\n",
              "      <td>0.00</td>\n",
              "      <td>304.50</td>\n",
              "      <td>212.35</td>\n",
              "      <td>27.61</td>\n",
              "      <td>-310.73</td>\n",
              "      <td>524.48</td>\n",
              "      <td>0.00</td>\n",
              "      <td>0.0</td>\n",
              "      <td>-230.03</td>\n",
              "      <td>6.25</td>\n",
              "      <td>84.03</td>\n",
              "      <td>-115.45</td>\n",
              "      <td>395.57</td>\n",
              "      <td>...</td>\n",
              "      <td>0.00</td>\n",
              "      <td>0.00</td>\n",
              "      <td>0.00</td>\n",
              "      <td>0.0</td>\n",
              "      <td>0.0</td>\n",
              "      <td>0.0</td>\n",
              "      <td>0.00</td>\n",
              "      <td>0.00</td>\n",
              "      <td>0.00</td>\n",
              "      <td>0.00</td>\n",
              "      <td>0.0</td>\n",
              "      <td>0.0</td>\n",
              "      <td>0.0</td>\n",
              "      <td>0.00</td>\n",
              "      <td>0.00</td>\n",
              "      <td>0.00</td>\n",
              "      <td>0.00</td>\n",
              "      <td>0.0</td>\n",
              "      <td>0.0</td>\n",
              "      <td>0.0</td>\n",
              "      <td>0.0</td>\n",
              "      <td>0.0</td>\n",
              "      <td>0.0</td>\n",
              "      <td>0.0</td>\n",
              "      <td>0.00</td>\n",
              "      <td>0.0</td>\n",
              "      <td>0.0</td>\n",
              "      <td>0.00</td>\n",
              "      <td>0.00</td>\n",
              "      <td>0.0</td>\n",
              "      <td>0.00</td>\n",
              "      <td>0.0</td>\n",
              "      <td>0.0</td>\n",
              "      <td>0.0</td>\n",
              "      <td>0.0</td>\n",
              "      <td>0.0</td>\n",
              "      <td>0.00</td>\n",
              "      <td>NO</td>\n",
              "      <td>2019-05-03 14:46:39.028</td>\n",
              "      <td>900.0</td>\n",
              "    </tr>\n",
              "  </tbody>\n",
              "</table>\n",
              "<p>5 rows × 94 columns</p>\n",
              "</div>"
            ],
            "text/plain": [
              "   ID     dia_1   dia_2  dia_3  ...   dia_90  pago                    fecha  monto\n",
              "0   1      0.00    0.00   0.00  ... -5743.11    NO  2019-04-16 10:55:50.111  150.0\n",
              "1   2  20323.83    0.00   0.00  ...     0.00    NO  2019-04-16 16:15:32.991  100.0\n",
              "2   3      0.00    0.00  -7.15  ...     0.00    NO  2019-04-29 17:47:37.833  100.0\n",
              "3   5      0.00    0.00   0.00  ...     0.00    NO  2019-04-29 20:28:54.543  100.0\n",
              "4   6     17.02  188.69 -62.19  ...     0.00    NO  2019-05-03 14:46:39.028  900.0\n",
              "\n",
              "[5 rows x 94 columns]"
            ]
          },
          "metadata": {
            "tags": []
          },
          "execution_count": 4
        }
      ]
    },
    {
      "cell_type": "markdown",
      "metadata": {
        "id": "cViax3tA9Apu",
        "colab_type": "text"
      },
      "source": [
        "## Limpieza y Transformación de la Información"
      ]
    },
    {
      "cell_type": "code",
      "metadata": {
        "id": "nNwsD2UXrZOA",
        "colab_type": "code",
        "colab": {}
      },
      "source": [
        "datos=datos.set_index(['ID'])"
      ],
      "execution_count": 0,
      "outputs": []
    },
    {
      "cell_type": "code",
      "metadata": {
        "id": "XDg4ousa9ACR",
        "colab_type": "code",
        "colab": {}
      },
      "source": [
        "#cambiar a tipo fecha\n",
        "datos['fecha']=pd.to_datetime(datos.fecha) \n",
        "\n",
        "###creacion de variables \n",
        "datos['TotalMovMes1']=datos.iloc[:,1:31].sum(axis=1)\n",
        "datos['TotalMovMes2']=datos.iloc[:,31:61].sum(axis=1)\n",
        "datos['TotalMovMes3']=datos.iloc[:,61:91].sum(axis=1)\n",
        "\n",
        "def dicotomizacion(x):\n",
        "  if x>0:\n",
        "    return(1)\n",
        "  elif(x<0):\n",
        "    return(-1)\n",
        "  else:\n",
        "    return(0)\n",
        "\n",
        "\n",
        "VarsMovs=pd.DataFrame(datos.iloc[:,0:90].apply(lambda x:[dicotomizacion(a) for a in x],axis=0))\n",
        "VarsMovs.columns=['Dico'+'_' + s1 for s1 in VarsMovs.columns]\n",
        "VarsMovs.head()\n",
        "\n",
        "\n",
        "VarsMovs['Mes1_NoMov']=(VarsMovs.iloc[:,0:30]==0).astype(int).sum(axis=1)\n",
        "VarsMovs['Mes1_MovInt']=(VarsMovs.iloc[:,0:30]==1).astype(int).sum(axis=1)\n",
        "VarsMovs['Mes1_MovOut']=(VarsMovs.iloc[:,0:30]==-1).astype(int).sum(axis=1)\n",
        "\n",
        "VarsMovs['Mes2_NoMov']=(VarsMovs.iloc[:,30:60]==0).astype(int).sum(axis=1)\n",
        "VarsMovs['Mes2_MovInt']=(VarsMovs.iloc[:,30:60]==1).astype(int).sum(axis=1)\n",
        "VarsMovs['Mes2_MovOut']=(VarsMovs.iloc[:,30:60]==-1).astype(int).sum(axis=1)\n",
        "\n",
        "VarsMovs['Mes3_NoMov']=(VarsMovs.iloc[:,60:90]==0).astype(int).sum(axis=1)\n",
        "VarsMovs['Mes3_MovInt']=(VarsMovs.iloc[:,60:90]==1).astype(int).sum(axis=1)\n",
        "VarsMovs['Mes3_MovOut']=(VarsMovs.iloc[:,60:90]==-1).astype(int).sum(axis=1)\n",
        "\n",
        "\n"
      ],
      "execution_count": 0,
      "outputs": []
    },
    {
      "cell_type": "code",
      "metadata": {
        "id": "qxaMa13rr_Pp",
        "colab_type": "code",
        "outputId": "f2419b62-7999-4ad7-c0b4-76d74130bd15",
        "colab": {
          "base_uri": "https://localhost:8080/",
          "height": 419
        }
      },
      "source": [
        "VarsMovs=VarsMovs.reset_index()\n",
        "datos=datos.reset_index()\n",
        "\n",
        "VarsFinal=VarsMovs.loc[:,['ID','Mes1_NoMov','Mes1_MovInt','Mes1_MovOut',\n",
        "                'Mes2_NoMov','Mes2_MovInt','Mes2_MovOut',\n",
        "                'Mes3_NoMov','Mes3_MovInt','Mes3_MovOut']]\n",
        "\n",
        "VarsFinal"
      ],
      "execution_count": 7,
      "outputs": [
        {
          "output_type": "execute_result",
          "data": {
            "text/html": [
              "<div>\n",
              "<style scoped>\n",
              "    .dataframe tbody tr th:only-of-type {\n",
              "        vertical-align: middle;\n",
              "    }\n",
              "\n",
              "    .dataframe tbody tr th {\n",
              "        vertical-align: top;\n",
              "    }\n",
              "\n",
              "    .dataframe thead th {\n",
              "        text-align: right;\n",
              "    }\n",
              "</style>\n",
              "<table border=\"1\" class=\"dataframe\">\n",
              "  <thead>\n",
              "    <tr style=\"text-align: right;\">\n",
              "      <th></th>\n",
              "      <th>ID</th>\n",
              "      <th>Mes1_NoMov</th>\n",
              "      <th>Mes1_MovInt</th>\n",
              "      <th>Mes1_MovOut</th>\n",
              "      <th>Mes2_NoMov</th>\n",
              "      <th>Mes2_MovInt</th>\n",
              "      <th>Mes2_MovOut</th>\n",
              "      <th>Mes3_NoMov</th>\n",
              "      <th>Mes3_MovInt</th>\n",
              "      <th>Mes3_MovOut</th>\n",
              "    </tr>\n",
              "  </thead>\n",
              "  <tbody>\n",
              "    <tr>\n",
              "      <th>0</th>\n",
              "      <td>1</td>\n",
              "      <td>29</td>\n",
              "      <td>0</td>\n",
              "      <td>1</td>\n",
              "      <td>28</td>\n",
              "      <td>0</td>\n",
              "      <td>2</td>\n",
              "      <td>25</td>\n",
              "      <td>0</td>\n",
              "      <td>5</td>\n",
              "    </tr>\n",
              "    <tr>\n",
              "      <th>1</th>\n",
              "      <td>2</td>\n",
              "      <td>9</td>\n",
              "      <td>11</td>\n",
              "      <td>10</td>\n",
              "      <td>10</td>\n",
              "      <td>15</td>\n",
              "      <td>5</td>\n",
              "      <td>16</td>\n",
              "      <td>8</td>\n",
              "      <td>6</td>\n",
              "    </tr>\n",
              "    <tr>\n",
              "      <th>2</th>\n",
              "      <td>3</td>\n",
              "      <td>27</td>\n",
              "      <td>0</td>\n",
              "      <td>3</td>\n",
              "      <td>27</td>\n",
              "      <td>0</td>\n",
              "      <td>3</td>\n",
              "      <td>29</td>\n",
              "      <td>0</td>\n",
              "      <td>1</td>\n",
              "    </tr>\n",
              "    <tr>\n",
              "      <th>3</th>\n",
              "      <td>5</td>\n",
              "      <td>28</td>\n",
              "      <td>0</td>\n",
              "      <td>2</td>\n",
              "      <td>28</td>\n",
              "      <td>0</td>\n",
              "      <td>2</td>\n",
              "      <td>29</td>\n",
              "      <td>0</td>\n",
              "      <td>1</td>\n",
              "    </tr>\n",
              "    <tr>\n",
              "      <th>4</th>\n",
              "      <td>6</td>\n",
              "      <td>8</td>\n",
              "      <td>14</td>\n",
              "      <td>8</td>\n",
              "      <td>20</td>\n",
              "      <td>6</td>\n",
              "      <td>4</td>\n",
              "      <td>30</td>\n",
              "      <td>0</td>\n",
              "      <td>0</td>\n",
              "    </tr>\n",
              "    <tr>\n",
              "      <th>...</th>\n",
              "      <td>...</td>\n",
              "      <td>...</td>\n",
              "      <td>...</td>\n",
              "      <td>...</td>\n",
              "      <td>...</td>\n",
              "      <td>...</td>\n",
              "      <td>...</td>\n",
              "      <td>...</td>\n",
              "      <td>...</td>\n",
              "      <td>...</td>\n",
              "    </tr>\n",
              "    <tr>\n",
              "      <th>1373</th>\n",
              "      <td>1481</td>\n",
              "      <td>29</td>\n",
              "      <td>0</td>\n",
              "      <td>1</td>\n",
              "      <td>30</td>\n",
              "      <td>0</td>\n",
              "      <td>0</td>\n",
              "      <td>30</td>\n",
              "      <td>0</td>\n",
              "      <td>0</td>\n",
              "    </tr>\n",
              "    <tr>\n",
              "      <th>1374</th>\n",
              "      <td>1482</td>\n",
              "      <td>7</td>\n",
              "      <td>10</td>\n",
              "      <td>13</td>\n",
              "      <td>8</td>\n",
              "      <td>9</td>\n",
              "      <td>13</td>\n",
              "      <td>6</td>\n",
              "      <td>9</td>\n",
              "      <td>15</td>\n",
              "    </tr>\n",
              "    <tr>\n",
              "      <th>1375</th>\n",
              "      <td>1483</td>\n",
              "      <td>6</td>\n",
              "      <td>6</td>\n",
              "      <td>18</td>\n",
              "      <td>1</td>\n",
              "      <td>11</td>\n",
              "      <td>18</td>\n",
              "      <td>5</td>\n",
              "      <td>7</td>\n",
              "      <td>18</td>\n",
              "    </tr>\n",
              "    <tr>\n",
              "      <th>1376</th>\n",
              "      <td>1484</td>\n",
              "      <td>8</td>\n",
              "      <td>3</td>\n",
              "      <td>19</td>\n",
              "      <td>14</td>\n",
              "      <td>4</td>\n",
              "      <td>12</td>\n",
              "      <td>29</td>\n",
              "      <td>1</td>\n",
              "      <td>0</td>\n",
              "    </tr>\n",
              "    <tr>\n",
              "      <th>1377</th>\n",
              "      <td>1485</td>\n",
              "      <td>21</td>\n",
              "      <td>1</td>\n",
              "      <td>8</td>\n",
              "      <td>16</td>\n",
              "      <td>0</td>\n",
              "      <td>14</td>\n",
              "      <td>20</td>\n",
              "      <td>2</td>\n",
              "      <td>8</td>\n",
              "    </tr>\n",
              "  </tbody>\n",
              "</table>\n",
              "<p>1378 rows × 10 columns</p>\n",
              "</div>"
            ],
            "text/plain": [
              "        ID  Mes1_NoMov  Mes1_MovInt  ...  Mes3_NoMov  Mes3_MovInt  Mes3_MovOut\n",
              "0        1          29            0  ...          25            0            5\n",
              "1        2           9           11  ...          16            8            6\n",
              "2        3          27            0  ...          29            0            1\n",
              "3        5          28            0  ...          29            0            1\n",
              "4        6           8           14  ...          30            0            0\n",
              "...    ...         ...          ...  ...         ...          ...          ...\n",
              "1373  1481          29            0  ...          30            0            0\n",
              "1374  1482           7           10  ...           6            9           15\n",
              "1375  1483           6            6  ...           5            7           18\n",
              "1376  1484           8            3  ...          29            1            0\n",
              "1377  1485          21            1  ...          20            2            8\n",
              "\n",
              "[1378 rows x 10 columns]"
            ]
          },
          "metadata": {
            "tags": []
          },
          "execution_count": 7
        }
      ]
    },
    {
      "cell_type": "code",
      "metadata": {
        "id": "Oggy0JRCsPSm",
        "colab_type": "code",
        "outputId": "4cb42da8-6111-4a4a-ede9-b2cacf07464c",
        "colab": {
          "base_uri": "https://localhost:8080/",
          "height": 338
        }
      },
      "source": [
        "DatosFinal=pd.merge(datos,VarsFinal,how='left',on='ID')\n",
        "\n",
        "DatosFinal.head()\n"
      ],
      "execution_count": 8,
      "outputs": [
        {
          "output_type": "execute_result",
          "data": {
            "text/html": [
              "<div>\n",
              "<style scoped>\n",
              "    .dataframe tbody tr th:only-of-type {\n",
              "        vertical-align: middle;\n",
              "    }\n",
              "\n",
              "    .dataframe tbody tr th {\n",
              "        vertical-align: top;\n",
              "    }\n",
              "\n",
              "    .dataframe thead th {\n",
              "        text-align: right;\n",
              "    }\n",
              "</style>\n",
              "<table border=\"1\" class=\"dataframe\">\n",
              "  <thead>\n",
              "    <tr style=\"text-align: right;\">\n",
              "      <th></th>\n",
              "      <th>ID</th>\n",
              "      <th>dia_1</th>\n",
              "      <th>dia_2</th>\n",
              "      <th>dia_3</th>\n",
              "      <th>dia_4</th>\n",
              "      <th>dia_5</th>\n",
              "      <th>dia_6</th>\n",
              "      <th>dia_7</th>\n",
              "      <th>dia_8</th>\n",
              "      <th>dia_9</th>\n",
              "      <th>dia_10</th>\n",
              "      <th>dia_11</th>\n",
              "      <th>dia_12</th>\n",
              "      <th>dia_13</th>\n",
              "      <th>dia_14</th>\n",
              "      <th>dia_15</th>\n",
              "      <th>dia_16</th>\n",
              "      <th>dia_17</th>\n",
              "      <th>dia_18</th>\n",
              "      <th>dia_19</th>\n",
              "      <th>dia_20</th>\n",
              "      <th>dia_21</th>\n",
              "      <th>dia_22</th>\n",
              "      <th>dia_23</th>\n",
              "      <th>dia_24</th>\n",
              "      <th>dia_25</th>\n",
              "      <th>dia_26</th>\n",
              "      <th>dia_27</th>\n",
              "      <th>dia_28</th>\n",
              "      <th>dia_29</th>\n",
              "      <th>dia_30</th>\n",
              "      <th>dia_31</th>\n",
              "      <th>dia_32</th>\n",
              "      <th>dia_33</th>\n",
              "      <th>dia_34</th>\n",
              "      <th>dia_35</th>\n",
              "      <th>dia_36</th>\n",
              "      <th>dia_37</th>\n",
              "      <th>dia_38</th>\n",
              "      <th>dia_39</th>\n",
              "      <th>...</th>\n",
              "      <th>dia_66</th>\n",
              "      <th>dia_67</th>\n",
              "      <th>dia_68</th>\n",
              "      <th>dia_69</th>\n",
              "      <th>dia_70</th>\n",
              "      <th>dia_71</th>\n",
              "      <th>dia_72</th>\n",
              "      <th>dia_73</th>\n",
              "      <th>dia_74</th>\n",
              "      <th>dia_75</th>\n",
              "      <th>dia_76</th>\n",
              "      <th>dia_77</th>\n",
              "      <th>dia_78</th>\n",
              "      <th>dia_79</th>\n",
              "      <th>dia_80</th>\n",
              "      <th>dia_81</th>\n",
              "      <th>dia_82</th>\n",
              "      <th>dia_83</th>\n",
              "      <th>dia_84</th>\n",
              "      <th>dia_85</th>\n",
              "      <th>dia_86</th>\n",
              "      <th>dia_87</th>\n",
              "      <th>dia_88</th>\n",
              "      <th>dia_89</th>\n",
              "      <th>dia_90</th>\n",
              "      <th>pago</th>\n",
              "      <th>fecha</th>\n",
              "      <th>monto</th>\n",
              "      <th>TotalMovMes1</th>\n",
              "      <th>TotalMovMes2</th>\n",
              "      <th>TotalMovMes3</th>\n",
              "      <th>Mes1_NoMov</th>\n",
              "      <th>Mes1_MovInt</th>\n",
              "      <th>Mes1_MovOut</th>\n",
              "      <th>Mes2_NoMov</th>\n",
              "      <th>Mes2_MovInt</th>\n",
              "      <th>Mes2_MovOut</th>\n",
              "      <th>Mes3_NoMov</th>\n",
              "      <th>Mes3_MovInt</th>\n",
              "      <th>Mes3_MovOut</th>\n",
              "    </tr>\n",
              "  </thead>\n",
              "  <tbody>\n",
              "    <tr>\n",
              "      <th>0</th>\n",
              "      <td>1</td>\n",
              "      <td>0.00</td>\n",
              "      <td>0.00</td>\n",
              "      <td>0.00</td>\n",
              "      <td>0.00</td>\n",
              "      <td>0.00</td>\n",
              "      <td>0.00</td>\n",
              "      <td>0.00</td>\n",
              "      <td>0.00</td>\n",
              "      <td>0.00</td>\n",
              "      <td>0.00</td>\n",
              "      <td>0.00</td>\n",
              "      <td>0.00</td>\n",
              "      <td>0.00</td>\n",
              "      <td>0.00</td>\n",
              "      <td>0.00</td>\n",
              "      <td>0.00</td>\n",
              "      <td>0.00</td>\n",
              "      <td>-30.00</td>\n",
              "      <td>0.0</td>\n",
              "      <td>0.00</td>\n",
              "      <td>0.00</td>\n",
              "      <td>0.00</td>\n",
              "      <td>0.00</td>\n",
              "      <td>0.00</td>\n",
              "      <td>0.00</td>\n",
              "      <td>0.00</td>\n",
              "      <td>0.00</td>\n",
              "      <td>0.00</td>\n",
              "      <td>0.00</td>\n",
              "      <td>0.00</td>\n",
              "      <td>0.00</td>\n",
              "      <td>0.00</td>\n",
              "      <td>0.00</td>\n",
              "      <td>0.0</td>\n",
              "      <td>0.00</td>\n",
              "      <td>0.00</td>\n",
              "      <td>0.00</td>\n",
              "      <td>0.00</td>\n",
              "      <td>-3500.00</td>\n",
              "      <td>...</td>\n",
              "      <td>0.0</td>\n",
              "      <td>0.00</td>\n",
              "      <td>0.00</td>\n",
              "      <td>0.00</td>\n",
              "      <td>0.00</td>\n",
              "      <td>0.0</td>\n",
              "      <td>0.0</td>\n",
              "      <td>0.0</td>\n",
              "      <td>0.0</td>\n",
              "      <td>-30.0</td>\n",
              "      <td>0.0</td>\n",
              "      <td>0.0</td>\n",
              "      <td>-102.00</td>\n",
              "      <td>0.0</td>\n",
              "      <td>0.0</td>\n",
              "      <td>0.00</td>\n",
              "      <td>0.00</td>\n",
              "      <td>0.0</td>\n",
              "      <td>-488.43</td>\n",
              "      <td>0.0</td>\n",
              "      <td>0.0</td>\n",
              "      <td>0.0</td>\n",
              "      <td>0.0</td>\n",
              "      <td>-20.0</td>\n",
              "      <td>-5743.11</td>\n",
              "      <td>NO</td>\n",
              "      <td>2019-04-16 10:55:50.111</td>\n",
              "      <td>150.0</td>\n",
              "      <td>-30.00</td>\n",
              "      <td>-3530.00</td>\n",
              "      <td>-6383.54</td>\n",
              "      <td>29</td>\n",
              "      <td>0</td>\n",
              "      <td>1</td>\n",
              "      <td>28</td>\n",
              "      <td>0</td>\n",
              "      <td>2</td>\n",
              "      <td>25</td>\n",
              "      <td>0</td>\n",
              "      <td>5</td>\n",
              "    </tr>\n",
              "    <tr>\n",
              "      <th>1</th>\n",
              "      <td>2</td>\n",
              "      <td>20323.83</td>\n",
              "      <td>0.00</td>\n",
              "      <td>0.00</td>\n",
              "      <td>1149.58</td>\n",
              "      <td>-807.37</td>\n",
              "      <td>1240.97</td>\n",
              "      <td>1189.47</td>\n",
              "      <td>-11766.97</td>\n",
              "      <td>0.00</td>\n",
              "      <td>0.00</td>\n",
              "      <td>-277.23</td>\n",
              "      <td>1911.71</td>\n",
              "      <td>-3333.63</td>\n",
              "      <td>1351.12</td>\n",
              "      <td>-994.11</td>\n",
              "      <td>0.00</td>\n",
              "      <td>0.00</td>\n",
              "      <td>-2584.20</td>\n",
              "      <td>1490.1</td>\n",
              "      <td>1497.91</td>\n",
              "      <td>909.02</td>\n",
              "      <td>-2552.57</td>\n",
              "      <td>0.00</td>\n",
              "      <td>0.00</td>\n",
              "      <td>1369.02</td>\n",
              "      <td>-2527.99</td>\n",
              "      <td>1349.96</td>\n",
              "      <td>-2708.84</td>\n",
              "      <td>-948.15</td>\n",
              "      <td>0.00</td>\n",
              "      <td>0.00</td>\n",
              "      <td>1751.82</td>\n",
              "      <td>1523.25</td>\n",
              "      <td>2105.0</td>\n",
              "      <td>1785.60</td>\n",
              "      <td>526.27</td>\n",
              "      <td>0.00</td>\n",
              "      <td>0.00</td>\n",
              "      <td>299.15</td>\n",
              "      <td>...</td>\n",
              "      <td>0.0</td>\n",
              "      <td>1224.79</td>\n",
              "      <td>-1671.22</td>\n",
              "      <td>1303.49</td>\n",
              "      <td>-3220.97</td>\n",
              "      <td>1509.8</td>\n",
              "      <td>0.0</td>\n",
              "      <td>0.0</td>\n",
              "      <td>-1490.2</td>\n",
              "      <td>1509.8</td>\n",
              "      <td>0.0</td>\n",
              "      <td>0.0</td>\n",
              "      <td>-3034.03</td>\n",
              "      <td>0.0</td>\n",
              "      <td>0.0</td>\n",
              "      <td>1323.34</td>\n",
              "      <td>1323.34</td>\n",
              "      <td>0.0</td>\n",
              "      <td>0.00</td>\n",
              "      <td>0.0</td>\n",
              "      <td>0.0</td>\n",
              "      <td>0.0</td>\n",
              "      <td>0.0</td>\n",
              "      <td>0.0</td>\n",
              "      <td>0.00</td>\n",
              "      <td>NO</td>\n",
              "      <td>2019-04-16 16:15:32.991</td>\n",
              "      <td>100.0</td>\n",
              "      <td>-15042.20</td>\n",
              "      <td>14736.95</td>\n",
              "      <td>-10850.84</td>\n",
              "      <td>9</td>\n",
              "      <td>11</td>\n",
              "      <td>10</td>\n",
              "      <td>10</td>\n",
              "      <td>15</td>\n",
              "      <td>5</td>\n",
              "      <td>16</td>\n",
              "      <td>8</td>\n",
              "      <td>6</td>\n",
              "    </tr>\n",
              "    <tr>\n",
              "      <th>2</th>\n",
              "      <td>3</td>\n",
              "      <td>0.00</td>\n",
              "      <td>0.00</td>\n",
              "      <td>-7.15</td>\n",
              "      <td>-7.15</td>\n",
              "      <td>0.00</td>\n",
              "      <td>0.00</td>\n",
              "      <td>0.00</td>\n",
              "      <td>0.00</td>\n",
              "      <td>0.00</td>\n",
              "      <td>0.00</td>\n",
              "      <td>0.00</td>\n",
              "      <td>0.00</td>\n",
              "      <td>-150.00</td>\n",
              "      <td>0.00</td>\n",
              "      <td>0.00</td>\n",
              "      <td>0.00</td>\n",
              "      <td>0.00</td>\n",
              "      <td>0.00</td>\n",
              "      <td>0.0</td>\n",
              "      <td>0.00</td>\n",
              "      <td>0.00</td>\n",
              "      <td>0.00</td>\n",
              "      <td>0.00</td>\n",
              "      <td>0.00</td>\n",
              "      <td>0.00</td>\n",
              "      <td>0.00</td>\n",
              "      <td>0.00</td>\n",
              "      <td>0.00</td>\n",
              "      <td>0.00</td>\n",
              "      <td>0.00</td>\n",
              "      <td>-30.00</td>\n",
              "      <td>0.00</td>\n",
              "      <td>0.00</td>\n",
              "      <td>0.0</td>\n",
              "      <td>0.00</td>\n",
              "      <td>0.00</td>\n",
              "      <td>0.00</td>\n",
              "      <td>0.00</td>\n",
              "      <td>0.00</td>\n",
              "      <td>...</td>\n",
              "      <td>0.0</td>\n",
              "      <td>0.00</td>\n",
              "      <td>0.00</td>\n",
              "      <td>0.00</td>\n",
              "      <td>0.00</td>\n",
              "      <td>0.0</td>\n",
              "      <td>0.0</td>\n",
              "      <td>0.0</td>\n",
              "      <td>0.0</td>\n",
              "      <td>0.0</td>\n",
              "      <td>0.0</td>\n",
              "      <td>0.0</td>\n",
              "      <td>0.00</td>\n",
              "      <td>0.0</td>\n",
              "      <td>0.0</td>\n",
              "      <td>0.00</td>\n",
              "      <td>0.00</td>\n",
              "      <td>0.0</td>\n",
              "      <td>0.00</td>\n",
              "      <td>0.0</td>\n",
              "      <td>0.0</td>\n",
              "      <td>0.0</td>\n",
              "      <td>-30.0</td>\n",
              "      <td>0.0</td>\n",
              "      <td>0.00</td>\n",
              "      <td>NO</td>\n",
              "      <td>2019-04-29 17:47:37.833</td>\n",
              "      <td>100.0</td>\n",
              "      <td>-194.30</td>\n",
              "      <td>-3530.00</td>\n",
              "      <td>-30.00</td>\n",
              "      <td>27</td>\n",
              "      <td>0</td>\n",
              "      <td>3</td>\n",
              "      <td>27</td>\n",
              "      <td>0</td>\n",
              "      <td>3</td>\n",
              "      <td>29</td>\n",
              "      <td>0</td>\n",
              "      <td>1</td>\n",
              "    </tr>\n",
              "    <tr>\n",
              "      <th>3</th>\n",
              "      <td>5</td>\n",
              "      <td>0.00</td>\n",
              "      <td>0.00</td>\n",
              "      <td>0.00</td>\n",
              "      <td>0.00</td>\n",
              "      <td>0.00</td>\n",
              "      <td>0.00</td>\n",
              "      <td>0.00</td>\n",
              "      <td>0.00</td>\n",
              "      <td>0.00</td>\n",
              "      <td>0.00</td>\n",
              "      <td>0.00</td>\n",
              "      <td>0.00</td>\n",
              "      <td>0.00</td>\n",
              "      <td>0.00</td>\n",
              "      <td>0.00</td>\n",
              "      <td>0.00</td>\n",
              "      <td>0.00</td>\n",
              "      <td>0.00</td>\n",
              "      <td>0.0</td>\n",
              "      <td>0.00</td>\n",
              "      <td>0.00</td>\n",
              "      <td>0.00</td>\n",
              "      <td>0.00</td>\n",
              "      <td>0.00</td>\n",
              "      <td>-40.34</td>\n",
              "      <td>-138.75</td>\n",
              "      <td>0.00</td>\n",
              "      <td>0.00</td>\n",
              "      <td>0.00</td>\n",
              "      <td>0.00</td>\n",
              "      <td>-7.00</td>\n",
              "      <td>0.00</td>\n",
              "      <td>0.00</td>\n",
              "      <td>0.0</td>\n",
              "      <td>0.00</td>\n",
              "      <td>0.00</td>\n",
              "      <td>0.00</td>\n",
              "      <td>0.00</td>\n",
              "      <td>0.00</td>\n",
              "      <td>...</td>\n",
              "      <td>0.0</td>\n",
              "      <td>0.00</td>\n",
              "      <td>0.00</td>\n",
              "      <td>0.00</td>\n",
              "      <td>0.00</td>\n",
              "      <td>0.0</td>\n",
              "      <td>0.0</td>\n",
              "      <td>0.0</td>\n",
              "      <td>0.0</td>\n",
              "      <td>0.0</td>\n",
              "      <td>0.0</td>\n",
              "      <td>0.0</td>\n",
              "      <td>0.00</td>\n",
              "      <td>0.0</td>\n",
              "      <td>0.0</td>\n",
              "      <td>0.00</td>\n",
              "      <td>0.00</td>\n",
              "      <td>0.0</td>\n",
              "      <td>0.00</td>\n",
              "      <td>0.0</td>\n",
              "      <td>0.0</td>\n",
              "      <td>0.0</td>\n",
              "      <td>-7.0</td>\n",
              "      <td>0.0</td>\n",
              "      <td>0.00</td>\n",
              "      <td>NO</td>\n",
              "      <td>2019-04-29 20:28:54.543</td>\n",
              "      <td>100.0</td>\n",
              "      <td>-186.09</td>\n",
              "      <td>-7.00</td>\n",
              "      <td>-7.00</td>\n",
              "      <td>28</td>\n",
              "      <td>0</td>\n",
              "      <td>2</td>\n",
              "      <td>28</td>\n",
              "      <td>0</td>\n",
              "      <td>2</td>\n",
              "      <td>29</td>\n",
              "      <td>0</td>\n",
              "      <td>1</td>\n",
              "    </tr>\n",
              "    <tr>\n",
              "      <th>4</th>\n",
              "      <td>6</td>\n",
              "      <td>17.02</td>\n",
              "      <td>188.69</td>\n",
              "      <td>-62.19</td>\n",
              "      <td>288.53</td>\n",
              "      <td>0.00</td>\n",
              "      <td>0.00</td>\n",
              "      <td>-266.58</td>\n",
              "      <td>-6.97</td>\n",
              "      <td>103.49</td>\n",
              "      <td>-41.82</td>\n",
              "      <td>-831.44</td>\n",
              "      <td>0.00</td>\n",
              "      <td>0.00</td>\n",
              "      <td>288.96</td>\n",
              "      <td>87.07</td>\n",
              "      <td>63.04</td>\n",
              "      <td>-630.05</td>\n",
              "      <td>960.54</td>\n",
              "      <td>0.0</td>\n",
              "      <td>0.00</td>\n",
              "      <td>32.29</td>\n",
              "      <td>14.70</td>\n",
              "      <td>-365.65</td>\n",
              "      <td>-261.43</td>\n",
              "      <td>18.39</td>\n",
              "      <td>0.00</td>\n",
              "      <td>0.00</td>\n",
              "      <td>304.50</td>\n",
              "      <td>212.35</td>\n",
              "      <td>27.61</td>\n",
              "      <td>-310.73</td>\n",
              "      <td>524.48</td>\n",
              "      <td>0.00</td>\n",
              "      <td>0.0</td>\n",
              "      <td>-230.03</td>\n",
              "      <td>6.25</td>\n",
              "      <td>84.03</td>\n",
              "      <td>-115.45</td>\n",
              "      <td>395.57</td>\n",
              "      <td>...</td>\n",
              "      <td>0.0</td>\n",
              "      <td>0.00</td>\n",
              "      <td>0.00</td>\n",
              "      <td>0.00</td>\n",
              "      <td>0.00</td>\n",
              "      <td>0.0</td>\n",
              "      <td>0.0</td>\n",
              "      <td>0.0</td>\n",
              "      <td>0.0</td>\n",
              "      <td>0.0</td>\n",
              "      <td>0.0</td>\n",
              "      <td>0.0</td>\n",
              "      <td>0.00</td>\n",
              "      <td>0.0</td>\n",
              "      <td>0.0</td>\n",
              "      <td>0.00</td>\n",
              "      <td>0.00</td>\n",
              "      <td>0.0</td>\n",
              "      <td>0.00</td>\n",
              "      <td>0.0</td>\n",
              "      <td>0.0</td>\n",
              "      <td>0.0</td>\n",
              "      <td>0.0</td>\n",
              "      <td>0.0</td>\n",
              "      <td>0.00</td>\n",
              "      <td>NO</td>\n",
              "      <td>2019-05-03 14:46:39.028</td>\n",
              "      <td>900.0</td>\n",
              "      <td>-186.70</td>\n",
              "      <td>752.36</td>\n",
              "      <td>0.00</td>\n",
              "      <td>8</td>\n",
              "      <td>14</td>\n",
              "      <td>8</td>\n",
              "      <td>20</td>\n",
              "      <td>6</td>\n",
              "      <td>4</td>\n",
              "      <td>30</td>\n",
              "      <td>0</td>\n",
              "      <td>0</td>\n",
              "    </tr>\n",
              "  </tbody>\n",
              "</table>\n",
              "<p>5 rows × 106 columns</p>\n",
              "</div>"
            ],
            "text/plain": [
              "   ID     dia_1   dia_2  ...  Mes3_NoMov  Mes3_MovInt  Mes3_MovOut\n",
              "0   1      0.00    0.00  ...          25            0            5\n",
              "1   2  20323.83    0.00  ...          16            8            6\n",
              "2   3      0.00    0.00  ...          29            0            1\n",
              "3   5      0.00    0.00  ...          29            0            1\n",
              "4   6     17.02  188.69  ...          30            0            0\n",
              "\n",
              "[5 rows x 106 columns]"
            ]
          },
          "metadata": {
            "tags": []
          },
          "execution_count": 8
        }
      ]
    },
    {
      "cell_type": "code",
      "metadata": {
        "id": "uI1i53usuKU_",
        "colab_type": "code",
        "colab": {}
      },
      "source": [
        "DatosFinal['Prom_15lastdays']=DatosFinal.iloc[:,75:91].mean(axis=1)\n",
        "DatosFinal['SumMov']=DatosFinal.iloc[:,1:91].sum(axis=1)\n"
      ],
      "execution_count": 0,
      "outputs": []
    },
    {
      "cell_type": "code",
      "metadata": {
        "id": "JDGmKji__V-I",
        "colab_type": "code",
        "outputId": "47d74bae-07de-4152-ff07-bccbd662e8cf",
        "colab": {
          "base_uri": "https://localhost:8080/",
          "height": 338
        }
      },
      "source": [
        "#pago: cambiar a binaria. 1 si no pagó, 0 si pagó\n",
        "DatosFinal['pago_m']=pd.get_dummies(DatosFinal.pago)[\"NO\"]\n",
        "DatosFinal.head()"
      ],
      "execution_count": 10,
      "outputs": [
        {
          "output_type": "execute_result",
          "data": {
            "text/html": [
              "<div>\n",
              "<style scoped>\n",
              "    .dataframe tbody tr th:only-of-type {\n",
              "        vertical-align: middle;\n",
              "    }\n",
              "\n",
              "    .dataframe tbody tr th {\n",
              "        vertical-align: top;\n",
              "    }\n",
              "\n",
              "    .dataframe thead th {\n",
              "        text-align: right;\n",
              "    }\n",
              "</style>\n",
              "<table border=\"1\" class=\"dataframe\">\n",
              "  <thead>\n",
              "    <tr style=\"text-align: right;\">\n",
              "      <th></th>\n",
              "      <th>ID</th>\n",
              "      <th>dia_1</th>\n",
              "      <th>dia_2</th>\n",
              "      <th>dia_3</th>\n",
              "      <th>dia_4</th>\n",
              "      <th>dia_5</th>\n",
              "      <th>dia_6</th>\n",
              "      <th>dia_7</th>\n",
              "      <th>dia_8</th>\n",
              "      <th>dia_9</th>\n",
              "      <th>dia_10</th>\n",
              "      <th>dia_11</th>\n",
              "      <th>dia_12</th>\n",
              "      <th>dia_13</th>\n",
              "      <th>dia_14</th>\n",
              "      <th>dia_15</th>\n",
              "      <th>dia_16</th>\n",
              "      <th>dia_17</th>\n",
              "      <th>dia_18</th>\n",
              "      <th>dia_19</th>\n",
              "      <th>dia_20</th>\n",
              "      <th>dia_21</th>\n",
              "      <th>dia_22</th>\n",
              "      <th>dia_23</th>\n",
              "      <th>dia_24</th>\n",
              "      <th>dia_25</th>\n",
              "      <th>dia_26</th>\n",
              "      <th>dia_27</th>\n",
              "      <th>dia_28</th>\n",
              "      <th>dia_29</th>\n",
              "      <th>dia_30</th>\n",
              "      <th>dia_31</th>\n",
              "      <th>dia_32</th>\n",
              "      <th>dia_33</th>\n",
              "      <th>dia_34</th>\n",
              "      <th>dia_35</th>\n",
              "      <th>dia_36</th>\n",
              "      <th>dia_37</th>\n",
              "      <th>dia_38</th>\n",
              "      <th>dia_39</th>\n",
              "      <th>...</th>\n",
              "      <th>dia_69</th>\n",
              "      <th>dia_70</th>\n",
              "      <th>dia_71</th>\n",
              "      <th>dia_72</th>\n",
              "      <th>dia_73</th>\n",
              "      <th>dia_74</th>\n",
              "      <th>dia_75</th>\n",
              "      <th>dia_76</th>\n",
              "      <th>dia_77</th>\n",
              "      <th>dia_78</th>\n",
              "      <th>dia_79</th>\n",
              "      <th>dia_80</th>\n",
              "      <th>dia_81</th>\n",
              "      <th>dia_82</th>\n",
              "      <th>dia_83</th>\n",
              "      <th>dia_84</th>\n",
              "      <th>dia_85</th>\n",
              "      <th>dia_86</th>\n",
              "      <th>dia_87</th>\n",
              "      <th>dia_88</th>\n",
              "      <th>dia_89</th>\n",
              "      <th>dia_90</th>\n",
              "      <th>pago</th>\n",
              "      <th>fecha</th>\n",
              "      <th>monto</th>\n",
              "      <th>TotalMovMes1</th>\n",
              "      <th>TotalMovMes2</th>\n",
              "      <th>TotalMovMes3</th>\n",
              "      <th>Mes1_NoMov</th>\n",
              "      <th>Mes1_MovInt</th>\n",
              "      <th>Mes1_MovOut</th>\n",
              "      <th>Mes2_NoMov</th>\n",
              "      <th>Mes2_MovInt</th>\n",
              "      <th>Mes2_MovOut</th>\n",
              "      <th>Mes3_NoMov</th>\n",
              "      <th>Mes3_MovInt</th>\n",
              "      <th>Mes3_MovOut</th>\n",
              "      <th>Prom_15lastdays</th>\n",
              "      <th>SumMov</th>\n",
              "      <th>pago_m</th>\n",
              "    </tr>\n",
              "  </thead>\n",
              "  <tbody>\n",
              "    <tr>\n",
              "      <th>0</th>\n",
              "      <td>1</td>\n",
              "      <td>0.00</td>\n",
              "      <td>0.00</td>\n",
              "      <td>0.00</td>\n",
              "      <td>0.00</td>\n",
              "      <td>0.00</td>\n",
              "      <td>0.00</td>\n",
              "      <td>0.00</td>\n",
              "      <td>0.00</td>\n",
              "      <td>0.00</td>\n",
              "      <td>0.00</td>\n",
              "      <td>0.00</td>\n",
              "      <td>0.00</td>\n",
              "      <td>0.00</td>\n",
              "      <td>0.00</td>\n",
              "      <td>0.00</td>\n",
              "      <td>0.00</td>\n",
              "      <td>0.00</td>\n",
              "      <td>-30.00</td>\n",
              "      <td>0.0</td>\n",
              "      <td>0.00</td>\n",
              "      <td>0.00</td>\n",
              "      <td>0.00</td>\n",
              "      <td>0.00</td>\n",
              "      <td>0.00</td>\n",
              "      <td>0.00</td>\n",
              "      <td>0.00</td>\n",
              "      <td>0.00</td>\n",
              "      <td>0.00</td>\n",
              "      <td>0.00</td>\n",
              "      <td>0.00</td>\n",
              "      <td>0.00</td>\n",
              "      <td>0.00</td>\n",
              "      <td>0.00</td>\n",
              "      <td>0.0</td>\n",
              "      <td>0.00</td>\n",
              "      <td>0.00</td>\n",
              "      <td>0.00</td>\n",
              "      <td>0.00</td>\n",
              "      <td>-3500.00</td>\n",
              "      <td>...</td>\n",
              "      <td>0.00</td>\n",
              "      <td>0.00</td>\n",
              "      <td>0.0</td>\n",
              "      <td>0.0</td>\n",
              "      <td>0.0</td>\n",
              "      <td>0.0</td>\n",
              "      <td>-30.0</td>\n",
              "      <td>0.0</td>\n",
              "      <td>0.0</td>\n",
              "      <td>-102.00</td>\n",
              "      <td>0.0</td>\n",
              "      <td>0.0</td>\n",
              "      <td>0.00</td>\n",
              "      <td>0.00</td>\n",
              "      <td>0.0</td>\n",
              "      <td>-488.43</td>\n",
              "      <td>0.0</td>\n",
              "      <td>0.0</td>\n",
              "      <td>0.0</td>\n",
              "      <td>0.0</td>\n",
              "      <td>-20.0</td>\n",
              "      <td>-5743.11</td>\n",
              "      <td>NO</td>\n",
              "      <td>2019-04-16 10:55:50.111</td>\n",
              "      <td>150.0</td>\n",
              "      <td>-30.00</td>\n",
              "      <td>-3530.00</td>\n",
              "      <td>-6383.54</td>\n",
              "      <td>29</td>\n",
              "      <td>0</td>\n",
              "      <td>1</td>\n",
              "      <td>28</td>\n",
              "      <td>0</td>\n",
              "      <td>2</td>\n",
              "      <td>25</td>\n",
              "      <td>0</td>\n",
              "      <td>5</td>\n",
              "      <td>-398.971250</td>\n",
              "      <td>-9943.54</td>\n",
              "      <td>1</td>\n",
              "    </tr>\n",
              "    <tr>\n",
              "      <th>1</th>\n",
              "      <td>2</td>\n",
              "      <td>20323.83</td>\n",
              "      <td>0.00</td>\n",
              "      <td>0.00</td>\n",
              "      <td>1149.58</td>\n",
              "      <td>-807.37</td>\n",
              "      <td>1240.97</td>\n",
              "      <td>1189.47</td>\n",
              "      <td>-11766.97</td>\n",
              "      <td>0.00</td>\n",
              "      <td>0.00</td>\n",
              "      <td>-277.23</td>\n",
              "      <td>1911.71</td>\n",
              "      <td>-3333.63</td>\n",
              "      <td>1351.12</td>\n",
              "      <td>-994.11</td>\n",
              "      <td>0.00</td>\n",
              "      <td>0.00</td>\n",
              "      <td>-2584.20</td>\n",
              "      <td>1490.1</td>\n",
              "      <td>1497.91</td>\n",
              "      <td>909.02</td>\n",
              "      <td>-2552.57</td>\n",
              "      <td>0.00</td>\n",
              "      <td>0.00</td>\n",
              "      <td>1369.02</td>\n",
              "      <td>-2527.99</td>\n",
              "      <td>1349.96</td>\n",
              "      <td>-2708.84</td>\n",
              "      <td>-948.15</td>\n",
              "      <td>0.00</td>\n",
              "      <td>0.00</td>\n",
              "      <td>1751.82</td>\n",
              "      <td>1523.25</td>\n",
              "      <td>2105.0</td>\n",
              "      <td>1785.60</td>\n",
              "      <td>526.27</td>\n",
              "      <td>0.00</td>\n",
              "      <td>0.00</td>\n",
              "      <td>299.15</td>\n",
              "      <td>...</td>\n",
              "      <td>1303.49</td>\n",
              "      <td>-3220.97</td>\n",
              "      <td>1509.8</td>\n",
              "      <td>0.0</td>\n",
              "      <td>0.0</td>\n",
              "      <td>-1490.2</td>\n",
              "      <td>1509.8</td>\n",
              "      <td>0.0</td>\n",
              "      <td>0.0</td>\n",
              "      <td>-3034.03</td>\n",
              "      <td>0.0</td>\n",
              "      <td>0.0</td>\n",
              "      <td>1323.34</td>\n",
              "      <td>1323.34</td>\n",
              "      <td>0.0</td>\n",
              "      <td>0.00</td>\n",
              "      <td>0.0</td>\n",
              "      <td>0.0</td>\n",
              "      <td>0.0</td>\n",
              "      <td>0.0</td>\n",
              "      <td>0.0</td>\n",
              "      <td>0.00</td>\n",
              "      <td>NO</td>\n",
              "      <td>2019-04-16 16:15:32.991</td>\n",
              "      <td>100.0</td>\n",
              "      <td>-15042.20</td>\n",
              "      <td>14736.95</td>\n",
              "      <td>-10850.84</td>\n",
              "      <td>9</td>\n",
              "      <td>11</td>\n",
              "      <td>10</td>\n",
              "      <td>10</td>\n",
              "      <td>15</td>\n",
              "      <td>5</td>\n",
              "      <td>16</td>\n",
              "      <td>8</td>\n",
              "      <td>6</td>\n",
              "      <td>70.153125</td>\n",
              "      <td>9167.74</td>\n",
              "      <td>1</td>\n",
              "    </tr>\n",
              "    <tr>\n",
              "      <th>2</th>\n",
              "      <td>3</td>\n",
              "      <td>0.00</td>\n",
              "      <td>0.00</td>\n",
              "      <td>-7.15</td>\n",
              "      <td>-7.15</td>\n",
              "      <td>0.00</td>\n",
              "      <td>0.00</td>\n",
              "      <td>0.00</td>\n",
              "      <td>0.00</td>\n",
              "      <td>0.00</td>\n",
              "      <td>0.00</td>\n",
              "      <td>0.00</td>\n",
              "      <td>0.00</td>\n",
              "      <td>-150.00</td>\n",
              "      <td>0.00</td>\n",
              "      <td>0.00</td>\n",
              "      <td>0.00</td>\n",
              "      <td>0.00</td>\n",
              "      <td>0.00</td>\n",
              "      <td>0.0</td>\n",
              "      <td>0.00</td>\n",
              "      <td>0.00</td>\n",
              "      <td>0.00</td>\n",
              "      <td>0.00</td>\n",
              "      <td>0.00</td>\n",
              "      <td>0.00</td>\n",
              "      <td>0.00</td>\n",
              "      <td>0.00</td>\n",
              "      <td>0.00</td>\n",
              "      <td>0.00</td>\n",
              "      <td>0.00</td>\n",
              "      <td>-30.00</td>\n",
              "      <td>0.00</td>\n",
              "      <td>0.00</td>\n",
              "      <td>0.0</td>\n",
              "      <td>0.00</td>\n",
              "      <td>0.00</td>\n",
              "      <td>0.00</td>\n",
              "      <td>0.00</td>\n",
              "      <td>0.00</td>\n",
              "      <td>...</td>\n",
              "      <td>0.00</td>\n",
              "      <td>0.00</td>\n",
              "      <td>0.0</td>\n",
              "      <td>0.0</td>\n",
              "      <td>0.0</td>\n",
              "      <td>0.0</td>\n",
              "      <td>0.0</td>\n",
              "      <td>0.0</td>\n",
              "      <td>0.0</td>\n",
              "      <td>0.00</td>\n",
              "      <td>0.0</td>\n",
              "      <td>0.0</td>\n",
              "      <td>0.00</td>\n",
              "      <td>0.00</td>\n",
              "      <td>0.0</td>\n",
              "      <td>0.00</td>\n",
              "      <td>0.0</td>\n",
              "      <td>0.0</td>\n",
              "      <td>0.0</td>\n",
              "      <td>-30.0</td>\n",
              "      <td>0.0</td>\n",
              "      <td>0.00</td>\n",
              "      <td>NO</td>\n",
              "      <td>2019-04-29 17:47:37.833</td>\n",
              "      <td>100.0</td>\n",
              "      <td>-194.30</td>\n",
              "      <td>-3530.00</td>\n",
              "      <td>-30.00</td>\n",
              "      <td>27</td>\n",
              "      <td>0</td>\n",
              "      <td>3</td>\n",
              "      <td>27</td>\n",
              "      <td>0</td>\n",
              "      <td>3</td>\n",
              "      <td>29</td>\n",
              "      <td>0</td>\n",
              "      <td>1</td>\n",
              "      <td>-1.875000</td>\n",
              "      <td>-3754.30</td>\n",
              "      <td>1</td>\n",
              "    </tr>\n",
              "    <tr>\n",
              "      <th>3</th>\n",
              "      <td>5</td>\n",
              "      <td>0.00</td>\n",
              "      <td>0.00</td>\n",
              "      <td>0.00</td>\n",
              "      <td>0.00</td>\n",
              "      <td>0.00</td>\n",
              "      <td>0.00</td>\n",
              "      <td>0.00</td>\n",
              "      <td>0.00</td>\n",
              "      <td>0.00</td>\n",
              "      <td>0.00</td>\n",
              "      <td>0.00</td>\n",
              "      <td>0.00</td>\n",
              "      <td>0.00</td>\n",
              "      <td>0.00</td>\n",
              "      <td>0.00</td>\n",
              "      <td>0.00</td>\n",
              "      <td>0.00</td>\n",
              "      <td>0.00</td>\n",
              "      <td>0.0</td>\n",
              "      <td>0.00</td>\n",
              "      <td>0.00</td>\n",
              "      <td>0.00</td>\n",
              "      <td>0.00</td>\n",
              "      <td>0.00</td>\n",
              "      <td>-40.34</td>\n",
              "      <td>-138.75</td>\n",
              "      <td>0.00</td>\n",
              "      <td>0.00</td>\n",
              "      <td>0.00</td>\n",
              "      <td>0.00</td>\n",
              "      <td>-7.00</td>\n",
              "      <td>0.00</td>\n",
              "      <td>0.00</td>\n",
              "      <td>0.0</td>\n",
              "      <td>0.00</td>\n",
              "      <td>0.00</td>\n",
              "      <td>0.00</td>\n",
              "      <td>0.00</td>\n",
              "      <td>0.00</td>\n",
              "      <td>...</td>\n",
              "      <td>0.00</td>\n",
              "      <td>0.00</td>\n",
              "      <td>0.0</td>\n",
              "      <td>0.0</td>\n",
              "      <td>0.0</td>\n",
              "      <td>0.0</td>\n",
              "      <td>0.0</td>\n",
              "      <td>0.0</td>\n",
              "      <td>0.0</td>\n",
              "      <td>0.00</td>\n",
              "      <td>0.0</td>\n",
              "      <td>0.0</td>\n",
              "      <td>0.00</td>\n",
              "      <td>0.00</td>\n",
              "      <td>0.0</td>\n",
              "      <td>0.00</td>\n",
              "      <td>0.0</td>\n",
              "      <td>0.0</td>\n",
              "      <td>0.0</td>\n",
              "      <td>-7.0</td>\n",
              "      <td>0.0</td>\n",
              "      <td>0.00</td>\n",
              "      <td>NO</td>\n",
              "      <td>2019-04-29 20:28:54.543</td>\n",
              "      <td>100.0</td>\n",
              "      <td>-186.09</td>\n",
              "      <td>-7.00</td>\n",
              "      <td>-7.00</td>\n",
              "      <td>28</td>\n",
              "      <td>0</td>\n",
              "      <td>2</td>\n",
              "      <td>28</td>\n",
              "      <td>0</td>\n",
              "      <td>2</td>\n",
              "      <td>29</td>\n",
              "      <td>0</td>\n",
              "      <td>1</td>\n",
              "      <td>-0.437500</td>\n",
              "      <td>-200.09</td>\n",
              "      <td>1</td>\n",
              "    </tr>\n",
              "    <tr>\n",
              "      <th>4</th>\n",
              "      <td>6</td>\n",
              "      <td>17.02</td>\n",
              "      <td>188.69</td>\n",
              "      <td>-62.19</td>\n",
              "      <td>288.53</td>\n",
              "      <td>0.00</td>\n",
              "      <td>0.00</td>\n",
              "      <td>-266.58</td>\n",
              "      <td>-6.97</td>\n",
              "      <td>103.49</td>\n",
              "      <td>-41.82</td>\n",
              "      <td>-831.44</td>\n",
              "      <td>0.00</td>\n",
              "      <td>0.00</td>\n",
              "      <td>288.96</td>\n",
              "      <td>87.07</td>\n",
              "      <td>63.04</td>\n",
              "      <td>-630.05</td>\n",
              "      <td>960.54</td>\n",
              "      <td>0.0</td>\n",
              "      <td>0.00</td>\n",
              "      <td>32.29</td>\n",
              "      <td>14.70</td>\n",
              "      <td>-365.65</td>\n",
              "      <td>-261.43</td>\n",
              "      <td>18.39</td>\n",
              "      <td>0.00</td>\n",
              "      <td>0.00</td>\n",
              "      <td>304.50</td>\n",
              "      <td>212.35</td>\n",
              "      <td>27.61</td>\n",
              "      <td>-310.73</td>\n",
              "      <td>524.48</td>\n",
              "      <td>0.00</td>\n",
              "      <td>0.0</td>\n",
              "      <td>-230.03</td>\n",
              "      <td>6.25</td>\n",
              "      <td>84.03</td>\n",
              "      <td>-115.45</td>\n",
              "      <td>395.57</td>\n",
              "      <td>...</td>\n",
              "      <td>0.00</td>\n",
              "      <td>0.00</td>\n",
              "      <td>0.0</td>\n",
              "      <td>0.0</td>\n",
              "      <td>0.0</td>\n",
              "      <td>0.0</td>\n",
              "      <td>0.0</td>\n",
              "      <td>0.0</td>\n",
              "      <td>0.0</td>\n",
              "      <td>0.00</td>\n",
              "      <td>0.0</td>\n",
              "      <td>0.0</td>\n",
              "      <td>0.00</td>\n",
              "      <td>0.00</td>\n",
              "      <td>0.0</td>\n",
              "      <td>0.00</td>\n",
              "      <td>0.0</td>\n",
              "      <td>0.0</td>\n",
              "      <td>0.0</td>\n",
              "      <td>0.0</td>\n",
              "      <td>0.0</td>\n",
              "      <td>0.00</td>\n",
              "      <td>NO</td>\n",
              "      <td>2019-05-03 14:46:39.028</td>\n",
              "      <td>900.0</td>\n",
              "      <td>-186.70</td>\n",
              "      <td>752.36</td>\n",
              "      <td>0.00</td>\n",
              "      <td>8</td>\n",
              "      <td>14</td>\n",
              "      <td>8</td>\n",
              "      <td>20</td>\n",
              "      <td>6</td>\n",
              "      <td>4</td>\n",
              "      <td>30</td>\n",
              "      <td>0</td>\n",
              "      <td>0</td>\n",
              "      <td>0.000000</td>\n",
              "      <td>582.68</td>\n",
              "      <td>1</td>\n",
              "    </tr>\n",
              "  </tbody>\n",
              "</table>\n",
              "<p>5 rows × 109 columns</p>\n",
              "</div>"
            ],
            "text/plain": [
              "   ID     dia_1   dia_2  dia_3  ...  Mes3_MovOut  Prom_15lastdays   SumMov  pago_m\n",
              "0   1      0.00    0.00   0.00  ...            5      -398.971250 -9943.54       1\n",
              "1   2  20323.83    0.00   0.00  ...            6        70.153125  9167.74       1\n",
              "2   3      0.00    0.00  -7.15  ...            1        -1.875000 -3754.30       1\n",
              "3   5      0.00    0.00   0.00  ...            1        -0.437500  -200.09       1\n",
              "4   6     17.02  188.69 -62.19  ...            0         0.000000   582.68       1\n",
              "\n",
              "[5 rows x 109 columns]"
            ]
          },
          "metadata": {
            "tags": []
          },
          "execution_count": 10
        }
      ]
    },
    {
      "cell_type": "markdown",
      "metadata": {
        "id": "wkJqsONVBCfC",
        "colab_type": "text"
      },
      "source": [
        "## Análisis Exploratorio"
      ]
    },
    {
      "cell_type": "markdown",
      "metadata": {
        "id": "SBLengXY4K7A",
        "colab_type": "text"
      },
      "source": [
        "Se muestra el comportamiento de los pagos, se ilustra el BASELINE. Se evidencia que los datos estan desbalanceados, el 83,5% de los clientes pagan los creditos y el 16,47% no los pagan."
      ]
    },
    {
      "cell_type": "code",
      "metadata": {
        "id": "MfigDnDF4I0p",
        "colab_type": "code",
        "colab": {}
      },
      "source": [
        "Baseline=pd.DataFrame({'Count':DatosFinal.groupby(['pago']).size()})\n",
        "Baseline=Baseline.reset_index()\n",
        "Baseline['Prop']=Baseline['Count']/Baseline['Count'].sum()\n"
      ],
      "execution_count": 0,
      "outputs": []
    },
    {
      "cell_type": "code",
      "metadata": {
        "id": "FvyHX6Ms53XE",
        "colab_type": "code",
        "outputId": "cd65fa7d-f55c-46bb-c1f8-46328ce4c041",
        "colab": {
          "base_uri": "https://localhost:8080/",
          "height": 464
        }
      },
      "source": [
        "ggplot(aes(x='pago',y='Prop',fill='pago'),data=Baseline)+\\\n",
        "geom_col()\n"
      ],
      "execution_count": 0,
      "outputs": [
        {
          "output_type": "display_data",
          "data": {
            "image/png": "[encoded data removed]",
            "text/plain": [
              "<Figure size 640x480 with 1 Axes>"
            ]
          },
          "metadata": {
            "tags": []
          }
        },
        {
          "output_type": "execute_result",
          "data": {
            "text/plain": [
              "<ggplot: (8784685800603)>"
            ]
          },
          "metadata": {
            "tags": []
          },
          "execution_count": 11
        }
      ]
    },
    {
      "cell_type": "markdown",
      "metadata": {
        "id": "cjW785766Wkr",
        "colab_type": "text"
      },
      "source": [
        "Se evidencia que hay mayor concentración del no pago de los creditos en prestamos de menores montos. "
      ]
    },
    {
      "cell_type": "code",
      "metadata": {
        "id": "g_P5hI-U4TMu",
        "colab_type": "code",
        "outputId": "1f84e3ac-f1a7-4194-eec3-22ced0fbd2d0",
        "colab": {
          "base_uri": "https://localhost:8080/",
          "height": 470
        }
      },
      "source": [
        "ggplot(aes(x='monto',color='pago'),data=DatosFinal)+\\\n",
        "geom_density()"
      ],
      "execution_count": 0,
      "outputs": [
        {
          "output_type": "display_data",
          "data": {
            "image/png": "[encoded data removed]",
            "text/plain": [
              "<Figure size 640x480 with 1 Axes>"
            ]
          },
          "metadata": {
            "tags": []
          }
        },
        {
          "output_type": "execute_result",
          "data": {
            "text/plain": [
              "<ggplot: (8729220916947)>"
            ]
          },
          "metadata": {
            "tags": []
          },
          "execution_count": 13
        }
      ]
    },
    {
      "cell_type": "markdown",
      "metadata": {
        "id": "sB6EvYJ19LAG",
        "colab_type": "text"
      },
      "source": [
        "Se crea una variable que permita particionar el nivel del monto que se le ha prestado al cliente"
      ]
    },
    {
      "cell_type": "code",
      "metadata": {
        "id": "Ya2KYBah8ULb",
        "colab_type": "code",
        "colab": {}
      },
      "source": [
        "DatosFinal['MontoCat']=DatosFinal['monto'].apply(lambda x: 'Menos de 5000' if x<=5000 else (\n",
        " '5000-10000' if x>5000 and x<=10000 else ('Mas de 10000')))"
      ],
      "execution_count": 0,
      "outputs": []
    },
    {
      "cell_type": "code",
      "metadata": {
        "id": "GmnyBnuM9TZ3",
        "colab_type": "code",
        "outputId": "93a15523-9b55-4fc7-b124-0633e5e819dc",
        "colab": {
          "base_uri": "https://localhost:8080/",
          "height": 235
        }
      },
      "source": [
        "CuentaMontoCat=DatosFinal.groupby(['MontoCat','pago']).size().reset_index(name=\"count\")\n",
        "CategoricalDtype(categories=['Menos de 50000','5000-10000' 'Gold'], ordered=True)\n",
        "CuentaMontoCat['MontoCat']=pd.Categorical(CuentaMontoCat['MontoCat'],ordered=True,categories=['Menos de 5000','5000-10000','Mas de 10000'])\n",
        "CuentaMontoCat"
      ],
      "execution_count": 13,
      "outputs": [
        {
          "output_type": "execute_result",
          "data": {
            "text/html": [
              "<div>\n",
              "<style scoped>\n",
              "    .dataframe tbody tr th:only-of-type {\n",
              "        vertical-align: middle;\n",
              "    }\n",
              "\n",
              "    .dataframe tbody tr th {\n",
              "        vertical-align: top;\n",
              "    }\n",
              "\n",
              "    .dataframe thead th {\n",
              "        text-align: right;\n",
              "    }\n",
              "</style>\n",
              "<table border=\"1\" class=\"dataframe\">\n",
              "  <thead>\n",
              "    <tr style=\"text-align: right;\">\n",
              "      <th></th>\n",
              "      <th>MontoCat</th>\n",
              "      <th>pago</th>\n",
              "      <th>count</th>\n",
              "    </tr>\n",
              "  </thead>\n",
              "  <tbody>\n",
              "    <tr>\n",
              "      <th>0</th>\n",
              "      <td>5000-10000</td>\n",
              "      <td>NO</td>\n",
              "      <td>5</td>\n",
              "    </tr>\n",
              "    <tr>\n",
              "      <th>1</th>\n",
              "      <td>5000-10000</td>\n",
              "      <td>SI</td>\n",
              "      <td>82</td>\n",
              "    </tr>\n",
              "    <tr>\n",
              "      <th>2</th>\n",
              "      <td>Mas de 10000</td>\n",
              "      <td>NO</td>\n",
              "      <td>2</td>\n",
              "    </tr>\n",
              "    <tr>\n",
              "      <th>3</th>\n",
              "      <td>Mas de 10000</td>\n",
              "      <td>SI</td>\n",
              "      <td>28</td>\n",
              "    </tr>\n",
              "    <tr>\n",
              "      <th>4</th>\n",
              "      <td>Menos de 5000</td>\n",
              "      <td>NO</td>\n",
              "      <td>220</td>\n",
              "    </tr>\n",
              "    <tr>\n",
              "      <th>5</th>\n",
              "      <td>Menos de 5000</td>\n",
              "      <td>SI</td>\n",
              "      <td>1041</td>\n",
              "    </tr>\n",
              "  </tbody>\n",
              "</table>\n",
              "</div>"
            ],
            "text/plain": [
              "        MontoCat pago  count\n",
              "0     5000-10000   NO      5\n",
              "1     5000-10000   SI     82\n",
              "2   Mas de 10000   NO      2\n",
              "3   Mas de 10000   SI     28\n",
              "4  Menos de 5000   NO    220\n",
              "5  Menos de 5000   SI   1041"
            ]
          },
          "metadata": {
            "tags": []
          },
          "execution_count": 13
        }
      ]
    },
    {
      "cell_type": "markdown",
      "metadata": {
        "id": "d3gqrVUOCYCM",
        "colab_type": "text"
      },
      "source": [
        "Se ilustra el comportamiento del nivel del monto prestado y si el cliente paga o no, se observa que la gran mayoria de los prestamos que no son pagados son menores a los US 5000, 5 creditos que estan entre los 5000 y los 10000 son no pagados y solo 2 de mas de 10000 no son pagados. "
      ]
    },
    {
      "cell_type": "code",
      "metadata": {
        "id": "hqwNeavO-5Ps",
        "colab_type": "code",
        "outputId": "16734004-a883-4946-e194-f0a61d3dacde",
        "colab": {
          "base_uri": "https://localhost:8080/",
          "height": 464
        }
      },
      "source": [
        "ggplot(aes(x='MontoCat',y='count',fill='pago'),data=CuentaMontoCat)+\\\n",
        "geom_col(position=position_dodge())"
      ],
      "execution_count": 0,
      "outputs": [
        {
          "output_type": "display_data",
          "data": {
            "image/png": "[encoded data removed]",
            "text/plain": [
              "<Figure size 640x480 with 1 Axes>"
            ]
          },
          "metadata": {
            "tags": []
          }
        },
        {
          "output_type": "execute_result",
          "data": {
            "text/plain": [
              "<ggplot: (-9223363250519336367)>"
            ]
          },
          "metadata": {
            "tags": []
          },
          "execution_count": 28
        }
      ]
    },
    {
      "cell_type": "markdown",
      "metadata": {
        "id": "6ttJ7UQP618D",
        "colab_type": "text"
      },
      "source": [
        "Se estudio el numeor de movimientos realizados por los clientes y se relacionan con el pago o no pago del credito"
      ]
    },
    {
      "cell_type": "code",
      "metadata": {
        "id": "nciK-5xs6s7x",
        "colab_type": "code",
        "outputId": "5afd2afb-3c06-4f5a-9416-4888c4311004",
        "colab": {
          "base_uri": "https://localhost:8080/",
          "height": 464
        }
      },
      "source": [
        "ggplot(aes(x='TotalMovMes1',color='pago'),data=DatosFinal)+\\\n",
        "geom_density()"
      ],
      "execution_count": 0,
      "outputs": [
        {
          "output_type": "display_data",
          "data": {
            "image/png": "[encoded data removed]",
            "text/plain": [
              "<Figure size 640x480 with 1 Axes>"
            ]
          },
          "metadata": {
            "tags": []
          }
        },
        {
          "output_type": "execute_result",
          "data": {
            "text/plain": [
              "<ggplot: (8786335441721)>"
            ]
          },
          "metadata": {
            "tags": []
          },
          "execution_count": 29
        }
      ]
    },
    {
      "cell_type": "code",
      "metadata": {
        "id": "gZ8ygk5y6uyC",
        "colab_type": "code",
        "outputId": "882021b7-75df-415b-ea8e-29a6adc6c96d",
        "colab": {
          "base_uri": "https://localhost:8080/",
          "height": 464
        }
      },
      "source": [
        "ggplot(aes(x='TotalMovMes2',color='pago'),data=DatosFinal)+\\\n",
        "geom_density()\n"
      ],
      "execution_count": 0,
      "outputs": [
        {
          "output_type": "display_data",
          "data": {
            "image/png": "[encoded data removed]",
            "text/plain": [
              "<Figure size 640x480 with 1 Axes>"
            ]
          },
          "metadata": {
            "tags": []
          }
        },
        {
          "output_type": "execute_result",
          "data": {
            "text/plain": [
              "<ggplot: (-9223363250522329642)>"
            ]
          },
          "metadata": {
            "tags": []
          },
          "execution_count": 30
        }
      ]
    },
    {
      "cell_type": "code",
      "metadata": {
        "id": "Hf7hZ5xM6weB",
        "colab_type": "code",
        "outputId": "1f27bc20-c6a5-4dda-e7e8-f3fc72388e04",
        "colab": {
          "base_uri": "https://localhost:8080/",
          "height": 464
        }
      },
      "source": [
        "ggplot(aes(x='TotalMovMes3',color='pago'),data=DatosFinal)+\\\n",
        "geom_density()\n"
      ],
      "execution_count": 0,
      "outputs": [
        {
          "output_type": "display_data",
          "data": {
            "image/png": "[encoded data removed]",
            "text/plain": [
              "<Figure size 640x480 with 1 Axes>"
            ]
          },
          "metadata": {
            "tags": []
          }
        },
        {
          "output_type": "execute_result",
          "data": {
            "text/plain": [
              "<ggplot: (8786332388437)>"
            ]
          },
          "metadata": {
            "tags": []
          },
          "execution_count": 31
        }
      ]
    },
    {
      "cell_type": "markdown",
      "metadata": {
        "id": "ZJalY7M06-iR",
        "colab_type": "text"
      },
      "source": [
        "Ahora bien, se estudia el tipo de movimientos en cada uno de los meses, lo clientes pueden no tener movimientos en sus cuentas, pueden tener movimientos negativos los cuales hacen referencia a debitos en sus cuentas o pagos realizados y por ultimo, se encuentran los movimientos positivos los cuales evidencia un credito o la entrada de dinero a sus cuentas."
      ]
    },
    {
      "cell_type": "markdown",
      "metadata": {
        "id": "zmcwDQbl7jGd",
        "colab_type": "text"
      },
      "source": [
        "Clientes sin movimientos y su comportamiento de pago o no pago:"
      ]
    },
    {
      "cell_type": "code",
      "metadata": {
        "id": "0AM2qg3p7bfK",
        "colab_type": "code",
        "colab": {}
      },
      "source": [
        "ggplot(aes(x='Mes1_NoMov',color='pago'),data=DatosFinal)+\\\n",
        "geom_density()"
      ],
      "execution_count": 0,
      "outputs": []
    },
    {
      "cell_type": "code",
      "metadata": {
        "id": "1t_oCX6B7bvF",
        "colab_type": "code",
        "colab": {}
      },
      "source": [
        "ggplot(aes(x='Mes2_NoMov',color='pago'),data=DatosFinal)+\\\n",
        "geom_density()"
      ],
      "execution_count": 0,
      "outputs": []
    },
    {
      "cell_type": "code",
      "metadata": {
        "id": "Pt1uqmCk7b5E",
        "colab_type": "code",
        "colab": {}
      },
      "source": [
        "ggplot(aes(x='Mes3_NoMov',color='pago'),data=DatosFinal)+\\\n",
        "geom_density()\n"
      ],
      "execution_count": 0,
      "outputs": []
    },
    {
      "cell_type": "markdown",
      "metadata": {
        "id": "vxzfoj2T7ory",
        "colab_type": "text"
      },
      "source": [
        "Clientes con movimientos positivos o creditos y su comportamiento de pago o no pago:"
      ]
    },
    {
      "cell_type": "code",
      "metadata": {
        "id": "L6MmRamx7zKh",
        "colab_type": "code",
        "outputId": "619886ee-4e7d-4af8-ee71-4f5899a25b3a",
        "colab": {
          "base_uri": "https://localhost:8080/",
          "height": 465
        }
      },
      "source": [
        "ggplot(aes(x='Mes1_MovInt',color='pago'),data=DatosFinal)+\\\n",
        "geom_density()\n",
        "\n"
      ],
      "execution_count": 0,
      "outputs": [
        {
          "output_type": "display_data",
          "data": {
            "image/png": "[encoded data removed]",
            "text/plain": [
              "<Figure size 640x480 with 1 Axes>"
            ]
          },
          "metadata": {
            "tags": []
          }
        },
        {
          "output_type": "execute_result",
          "data": {
            "text/plain": [
              "<ggplot: (-9223363254295300983)>"
            ]
          },
          "metadata": {
            "tags": []
          },
          "execution_count": 15
        }
      ]
    },
    {
      "cell_type": "code",
      "metadata": {
        "id": "T1pyedTv7zXk",
        "colab_type": "code",
        "outputId": "386ab968-1309-426d-a568-9477526e8da1",
        "colab": {
          "base_uri": "https://localhost:8080/",
          "height": 465
        }
      },
      "source": [
        "ggplot(aes(x='Mes2_MovInt',color='pago'),data=DatosFinal)+\\\n",
        "geom_density()\n"
      ],
      "execution_count": 0,
      "outputs": [
        {
          "output_type": "display_data",
          "data": {
            "image/png": "[encoded data removed]",
            "text/plain": [
              "<Figure size 640x480 with 1 Axes>"
            ]
          },
          "metadata": {
            "tags": []
          }
        },
        {
          "output_type": "execute_result",
          "data": {
            "text/plain": [
              "<ggplot: (8782559805490)>"
            ]
          },
          "metadata": {
            "tags": []
          },
          "execution_count": 16
        }
      ]
    },
    {
      "cell_type": "code",
      "metadata": {
        "id": "KgoFPfXD7zew",
        "colab_type": "code",
        "colab": {}
      },
      "source": [
        "ggplot(aes(x='Mes3_MovInt',color='pago'),data=DatosFinal)+\\\n",
        "geom_density()\n"
      ],
      "execution_count": 0,
      "outputs": []
    },
    {
      "cell_type": "markdown",
      "metadata": {
        "id": "PdDJUDFs78KO",
        "colab_type": "text"
      },
      "source": [
        "Clientes con movimientos negaticos o debitos y su comportamiento de pago o no pago:"
      ]
    },
    {
      "cell_type": "code",
      "metadata": {
        "id": "xymqCxrJ8AaI",
        "colab_type": "code",
        "colab": {}
      },
      "source": [
        "ggplot(aes(x='Mes1_MovOut',color='pago'),data=DatosFinal)+\\\n",
        "geom_density()\n",
        "\n",
        "\n"
      ],
      "execution_count": 0,
      "outputs": []
    },
    {
      "cell_type": "code",
      "metadata": {
        "id": "FnZc0DSL8Aih",
        "colab_type": "code",
        "colab": {}
      },
      "source": [
        "ggplot(aes(x='Mes2_MovOut',color='pago'),data=DatosFinal)+\\\n",
        "geom_density()\n"
      ],
      "execution_count": 0,
      "outputs": []
    },
    {
      "cell_type": "code",
      "metadata": {
        "id": "uAVXfJG68Aqu",
        "colab_type": "code",
        "colab": {}
      },
      "source": [
        "ggplot(aes(x='Mes3_MovOut',color='pago'),data=DatosFinal)+\\\n",
        "geom_density()"
      ],
      "execution_count": 0,
      "outputs": []
    },
    {
      "cell_type": "code",
      "metadata": {
        "id": "tf7k8NLiv2IC",
        "colab_type": "code",
        "outputId": "ffd9e9a5-9d54-46d7-ffec-edab7516e81c",
        "colab": {
          "base_uri": "https://localhost:8080/",
          "height": 465
        }
      },
      "source": [
        "ggplot(aes(x='Prom_15lastdays',color='pago'),data=DatosFinal)+\\\n",
        "geom_density()"
      ],
      "execution_count": 0,
      "outputs": [
        {
          "output_type": "display_data",
          "data": {
            "image/png": "[encoded data removed]",
            "text/plain": [
              "<Figure size 640x480 with 1 Axes>"
            ]
          },
          "metadata": {
            "tags": []
          }
        },
        {
          "output_type": "execute_result",
          "data": {
            "text/plain": [
              "<ggplot: (-9223363250522395683)>"
            ]
          },
          "metadata": {
            "tags": []
          },
          "execution_count": 33
        }
      ]
    },
    {
      "cell_type": "code",
      "metadata": {
        "id": "CrwsAbkJwOk9",
        "colab_type": "code",
        "outputId": "8ab9c64e-af96-40a2-ee46-4f387dbf229e",
        "colab": {
          "base_uri": "https://localhost:8080/",
          "height": 464
        }
      },
      "source": [
        "ggplot(aes(x='SumMov',color='pago'),data=DatosFinal)+\\\n",
        "geom_density()"
      ],
      "execution_count": 0,
      "outputs": [
        {
          "output_type": "display_data",
          "data": {
            "image/png": "[encoded data removed]",
            "text/plain": [
              "<Figure size 640x480 with 1 Axes>"
            ]
          },
          "metadata": {
            "tags": []
          }
        },
        {
          "output_type": "execute_result",
          "data": {
            "text/plain": [
              "<ggplot: (-9223363250522475155)>"
            ]
          },
          "metadata": {
            "tags": []
          },
          "execution_count": 34
        }
      ]
    },
    {
      "cell_type": "markdown",
      "metadata": {
        "id": "QkMa2xGepijJ",
        "colab_type": "text"
      },
      "source": [
        "### Analicemos los créditos otorgados por mes\n",
        "Podemos observar que la actividad de otorgamiento tiene mayor magnitud entre julio y septiembre"
      ]
    },
    {
      "cell_type": "code",
      "metadata": {
        "id": "LRh84963phnm",
        "colab_type": "code",
        "outputId": "8bc73d1c-1e61-4066-d6bd-490a92252edb",
        "colab": {
          "base_uri": "https://localhost:8080/",
          "height": 513
        }
      },
      "source": [
        "dataux=DatosFinal\n",
        "dataux['mes']=DatosFinal.fecha.dt.month\n",
        "dataux['dayweek']=DatosFinal.fecha.dt.dayofweek\n",
        "\n",
        "ax,fig=plt.subplots(figsize=(8,8))\n",
        "ax=sns.countplot(x='mes',data=dataux,color=\"darkgray\")\n",
        "ax.set_title(\"Número de Créditos Aprobados por Mes\");\n",
        "ax.set_ylabel(\"Conteo\");"
      ],
      "execution_count": 82,
      "outputs": [
        {
          "output_type": "display_data",
          "data": {
            "image/png": "[encoded data removed]",
            "text/plain": [
              "<Figure size 576x576 with 1 Axes>"
            ]
          },
          "metadata": {
            "tags": [],
            "needs_background": "light"
          }
        }
      ]
    },
    {
      "cell_type": "markdown",
      "metadata": {
        "id": "rjhCZ2KDanfd",
        "colab_type": "text"
      },
      "source": [
        "### Habrá diferencias en el comportamiento de los créditos otorgados por mes o por día?\n",
        "No se observan mayores diferencias al analizar la hora del otorgamiento del crédito ni día del mes"
      ]
    },
    {
      "cell_type": "code",
      "metadata": {
        "id": "adjkuMlYamIs",
        "colab_type": "code",
        "outputId": "c827a1d9-d031-431c-a4de-8411389bf9a8",
        "colab": {
          "base_uri": "https://localhost:8080/",
          "height": 123
        }
      },
      "source": [
        "def highlight(val):\n",
        "  return ['background-color: red' if a>0.7 else '' for a in val] \n",
        "\n",
        "#por hora de aprobación\n",
        "ct=pd.crosstab(DatosFinal.fecha.dt.hour,DatosFinal.pago_m,normalize=\"index\").transpose()\n",
        "ct.style.apply(highlight)"
      ],
      "execution_count": 0,
      "outputs": [
        {
          "output_type": "execute_result",
          "data": {
            "text/html": [
              "<style  type=\"text/css\" >\n",
              "    #T_513971e4_93ef_11ea_9130_0242ac1c0002row0_col0 {\n",
              "            background-color:  red;\n",
              "        }    #T_513971e4_93ef_11ea_9130_0242ac1c0002row0_col1 {\n",
              "            background-color:  red;\n",
              "        }    #T_513971e4_93ef_11ea_9130_0242ac1c0002row0_col2 {\n",
              "            background-color:  red;\n",
              "        }    #T_513971e4_93ef_11ea_9130_0242ac1c0002row0_col3 {\n",
              "            background-color:  red;\n",
              "        }    #T_513971e4_93ef_11ea_9130_0242ac1c0002row0_col4 {\n",
              "            background-color:  red;\n",
              "        }    #T_513971e4_93ef_11ea_9130_0242ac1c0002row0_col5 {\n",
              "            background-color:  red;\n",
              "        }    #T_513971e4_93ef_11ea_9130_0242ac1c0002row0_col6 {\n",
              "            background-color:  red;\n",
              "        }    #T_513971e4_93ef_11ea_9130_0242ac1c0002row0_col7 {\n",
              "            background-color:  red;\n",
              "        }    #T_513971e4_93ef_11ea_9130_0242ac1c0002row0_col8 {\n",
              "            background-color:  red;\n",
              "        }    #T_513971e4_93ef_11ea_9130_0242ac1c0002row0_col9 {\n",
              "            background-color:  red;\n",
              "        }    #T_513971e4_93ef_11ea_9130_0242ac1c0002row0_col10 {\n",
              "            background-color:  red;\n",
              "        }    #T_513971e4_93ef_11ea_9130_0242ac1c0002row0_col11 {\n",
              "            background-color:  red;\n",
              "        }    #T_513971e4_93ef_11ea_9130_0242ac1c0002row0_col13 {\n",
              "            background-color:  red;\n",
              "        }    #T_513971e4_93ef_11ea_9130_0242ac1c0002row0_col14 {\n",
              "            background-color:  red;\n",
              "        }    #T_513971e4_93ef_11ea_9130_0242ac1c0002row0_col15 {\n",
              "            background-color:  red;\n",
              "        }    #T_513971e4_93ef_11ea_9130_0242ac1c0002row0_col16 {\n",
              "            background-color:  red;\n",
              "        }    #T_513971e4_93ef_11ea_9130_0242ac1c0002row0_col17 {\n",
              "            background-color:  red;\n",
              "        }    #T_513971e4_93ef_11ea_9130_0242ac1c0002row0_col18 {\n",
              "            background-color:  red;\n",
              "        }    #T_513971e4_93ef_11ea_9130_0242ac1c0002row0_col19 {\n",
              "            background-color:  red;\n",
              "        }    #T_513971e4_93ef_11ea_9130_0242ac1c0002row0_col20 {\n",
              "            background-color:  red;\n",
              "        }    #T_513971e4_93ef_11ea_9130_0242ac1c0002row0_col21 {\n",
              "            background-color:  red;\n",
              "        }    #T_513971e4_93ef_11ea_9130_0242ac1c0002row0_col22 {\n",
              "            background-color:  red;\n",
              "        }    #T_513971e4_93ef_11ea_9130_0242ac1c0002row0_col23 {\n",
              "            background-color:  red;\n",
              "        }</style><table id=\"T_513971e4_93ef_11ea_9130_0242ac1c0002\" ><thead>    <tr>        <th class=\"index_name level0\" >fecha</th>        <th class=\"col_heading level0 col0\" >0</th>        <th class=\"col_heading level0 col1\" >1</th>        <th class=\"col_heading level0 col2\" >2</th>        <th class=\"col_heading level0 col3\" >3</th>        <th class=\"col_heading level0 col4\" >4</th>        <th class=\"col_heading level0 col5\" >5</th>        <th class=\"col_heading level0 col6\" >6</th>        <th class=\"col_heading level0 col7\" >7</th>        <th class=\"col_heading level0 col8\" >8</th>        <th class=\"col_heading level0 col9\" >9</th>        <th class=\"col_heading level0 col10\" >10</th>        <th class=\"col_heading level0 col11\" >11</th>        <th class=\"col_heading level0 col12\" >12</th>        <th class=\"col_heading level0 col13\" >13</th>        <th class=\"col_heading level0 col14\" >14</th>        <th class=\"col_heading level0 col15\" >15</th>        <th class=\"col_heading level0 col16\" >16</th>        <th class=\"col_heading level0 col17\" >17</th>        <th class=\"col_heading level0 col18\" >18</th>        <th class=\"col_heading level0 col19\" >19</th>        <th class=\"col_heading level0 col20\" >20</th>        <th class=\"col_heading level0 col21\" >21</th>        <th class=\"col_heading level0 col22\" >22</th>        <th class=\"col_heading level0 col23\" >23</th>    </tr>    <tr>        <th class=\"index_name level0\" >pago_m</th>        <th class=\"blank\" ></th>        <th class=\"blank\" ></th>        <th class=\"blank\" ></th>        <th class=\"blank\" ></th>        <th class=\"blank\" ></th>        <th class=\"blank\" ></th>        <th class=\"blank\" ></th>        <th class=\"blank\" ></th>        <th class=\"blank\" ></th>        <th class=\"blank\" ></th>        <th class=\"blank\" ></th>        <th class=\"blank\" ></th>        <th class=\"blank\" ></th>        <th class=\"blank\" ></th>        <th class=\"blank\" ></th>        <th class=\"blank\" ></th>        <th class=\"blank\" ></th>        <th class=\"blank\" ></th>        <th class=\"blank\" ></th>        <th class=\"blank\" ></th>        <th class=\"blank\" ></th>        <th class=\"blank\" ></th>        <th class=\"blank\" ></th>        <th class=\"blank\" ></th>    </tr></thead><tbody>\n",
              "                <tr>\n",
              "                        <th id=\"T_513971e4_93ef_11ea_9130_0242ac1c0002level0_row0\" class=\"row_heading level0 row0\" >0</th>\n",
              "                        <td id=\"T_513971e4_93ef_11ea_9130_0242ac1c0002row0_col0\" class=\"data row0 col0\" >0.862069</td>\n",
              "                        <td id=\"T_513971e4_93ef_11ea_9130_0242ac1c0002row0_col1\" class=\"data row0 col1\" >0.859649</td>\n",
              "                        <td id=\"T_513971e4_93ef_11ea_9130_0242ac1c0002row0_col2\" class=\"data row0 col2\" >0.820513</td>\n",
              "                        <td id=\"T_513971e4_93ef_11ea_9130_0242ac1c0002row0_col3\" class=\"data row0 col3\" >0.782609</td>\n",
              "                        <td id=\"T_513971e4_93ef_11ea_9130_0242ac1c0002row0_col4\" class=\"data row0 col4\" >0.826087</td>\n",
              "                        <td id=\"T_513971e4_93ef_11ea_9130_0242ac1c0002row0_col5\" class=\"data row0 col5\" >0.805556</td>\n",
              "                        <td id=\"T_513971e4_93ef_11ea_9130_0242ac1c0002row0_col6\" class=\"data row0 col6\" >0.909091</td>\n",
              "                        <td id=\"T_513971e4_93ef_11ea_9130_0242ac1c0002row0_col7\" class=\"data row0 col7\" >0.736842</td>\n",
              "                        <td id=\"T_513971e4_93ef_11ea_9130_0242ac1c0002row0_col8\" class=\"data row0 col8\" >0.956522</td>\n",
              "                        <td id=\"T_513971e4_93ef_11ea_9130_0242ac1c0002row0_col9\" class=\"data row0 col9\" >0.833333</td>\n",
              "                        <td id=\"T_513971e4_93ef_11ea_9130_0242ac1c0002row0_col10\" class=\"data row0 col10\" >0.828571</td>\n",
              "                        <td id=\"T_513971e4_93ef_11ea_9130_0242ac1c0002row0_col11\" class=\"data row0 col11\" >0.812500</td>\n",
              "                        <td id=\"T_513971e4_93ef_11ea_9130_0242ac1c0002row0_col12\" class=\"data row0 col12\" >0.567901</td>\n",
              "                        <td id=\"T_513971e4_93ef_11ea_9130_0242ac1c0002row0_col13\" class=\"data row0 col13\" >0.855263</td>\n",
              "                        <td id=\"T_513971e4_93ef_11ea_9130_0242ac1c0002row0_col14\" class=\"data row0 col14\" >0.857143</td>\n",
              "                        <td id=\"T_513971e4_93ef_11ea_9130_0242ac1c0002row0_col15\" class=\"data row0 col15\" >0.895833</td>\n",
              "                        <td id=\"T_513971e4_93ef_11ea_9130_0242ac1c0002row0_col16\" class=\"data row0 col16\" >0.793478</td>\n",
              "                        <td id=\"T_513971e4_93ef_11ea_9130_0242ac1c0002row0_col17\" class=\"data row0 col17\" >0.902778</td>\n",
              "                        <td id=\"T_513971e4_93ef_11ea_9130_0242ac1c0002row0_col18\" class=\"data row0 col18\" >0.756410</td>\n",
              "                        <td id=\"T_513971e4_93ef_11ea_9130_0242ac1c0002row0_col19\" class=\"data row0 col19\" >0.898305</td>\n",
              "                        <td id=\"T_513971e4_93ef_11ea_9130_0242ac1c0002row0_col20\" class=\"data row0 col20\" >0.842857</td>\n",
              "                        <td id=\"T_513971e4_93ef_11ea_9130_0242ac1c0002row0_col21\" class=\"data row0 col21\" >0.895522</td>\n",
              "                        <td id=\"T_513971e4_93ef_11ea_9130_0242ac1c0002row0_col22\" class=\"data row0 col22\" >0.929412</td>\n",
              "                        <td id=\"T_513971e4_93ef_11ea_9130_0242ac1c0002row0_col23\" class=\"data row0 col23\" >0.826923</td>\n",
              "            </tr>\n",
              "            <tr>\n",
              "                        <th id=\"T_513971e4_93ef_11ea_9130_0242ac1c0002level0_row1\" class=\"row_heading level0 row1\" >1</th>\n",
              "                        <td id=\"T_513971e4_93ef_11ea_9130_0242ac1c0002row1_col0\" class=\"data row1 col0\" >0.137931</td>\n",
              "                        <td id=\"T_513971e4_93ef_11ea_9130_0242ac1c0002row1_col1\" class=\"data row1 col1\" >0.140351</td>\n",
              "                        <td id=\"T_513971e4_93ef_11ea_9130_0242ac1c0002row1_col2\" class=\"data row1 col2\" >0.179487</td>\n",
              "                        <td id=\"T_513971e4_93ef_11ea_9130_0242ac1c0002row1_col3\" class=\"data row1 col3\" >0.217391</td>\n",
              "                        <td id=\"T_513971e4_93ef_11ea_9130_0242ac1c0002row1_col4\" class=\"data row1 col4\" >0.173913</td>\n",
              "                        <td id=\"T_513971e4_93ef_11ea_9130_0242ac1c0002row1_col5\" class=\"data row1 col5\" >0.194444</td>\n",
              "                        <td id=\"T_513971e4_93ef_11ea_9130_0242ac1c0002row1_col6\" class=\"data row1 col6\" >0.090909</td>\n",
              "                        <td id=\"T_513971e4_93ef_11ea_9130_0242ac1c0002row1_col7\" class=\"data row1 col7\" >0.263158</td>\n",
              "                        <td id=\"T_513971e4_93ef_11ea_9130_0242ac1c0002row1_col8\" class=\"data row1 col8\" >0.043478</td>\n",
              "                        <td id=\"T_513971e4_93ef_11ea_9130_0242ac1c0002row1_col9\" class=\"data row1 col9\" >0.166667</td>\n",
              "                        <td id=\"T_513971e4_93ef_11ea_9130_0242ac1c0002row1_col10\" class=\"data row1 col10\" >0.171429</td>\n",
              "                        <td id=\"T_513971e4_93ef_11ea_9130_0242ac1c0002row1_col11\" class=\"data row1 col11\" >0.187500</td>\n",
              "                        <td id=\"T_513971e4_93ef_11ea_9130_0242ac1c0002row1_col12\" class=\"data row1 col12\" >0.432099</td>\n",
              "                        <td id=\"T_513971e4_93ef_11ea_9130_0242ac1c0002row1_col13\" class=\"data row1 col13\" >0.144737</td>\n",
              "                        <td id=\"T_513971e4_93ef_11ea_9130_0242ac1c0002row1_col14\" class=\"data row1 col14\" >0.142857</td>\n",
              "                        <td id=\"T_513971e4_93ef_11ea_9130_0242ac1c0002row1_col15\" class=\"data row1 col15\" >0.104167</td>\n",
              "                        <td id=\"T_513971e4_93ef_11ea_9130_0242ac1c0002row1_col16\" class=\"data row1 col16\" >0.206522</td>\n",
              "                        <td id=\"T_513971e4_93ef_11ea_9130_0242ac1c0002row1_col17\" class=\"data row1 col17\" >0.097222</td>\n",
              "                        <td id=\"T_513971e4_93ef_11ea_9130_0242ac1c0002row1_col18\" class=\"data row1 col18\" >0.243590</td>\n",
              "                        <td id=\"T_513971e4_93ef_11ea_9130_0242ac1c0002row1_col19\" class=\"data row1 col19\" >0.101695</td>\n",
              "                        <td id=\"T_513971e4_93ef_11ea_9130_0242ac1c0002row1_col20\" class=\"data row1 col20\" >0.157143</td>\n",
              "                        <td id=\"T_513971e4_93ef_11ea_9130_0242ac1c0002row1_col21\" class=\"data row1 col21\" >0.104478</td>\n",
              "                        <td id=\"T_513971e4_93ef_11ea_9130_0242ac1c0002row1_col22\" class=\"data row1 col22\" >0.070588</td>\n",
              "                        <td id=\"T_513971e4_93ef_11ea_9130_0242ac1c0002row1_col23\" class=\"data row1 col23\" >0.173077</td>\n",
              "            </tr>\n",
              "    </tbody></table>"
            ],
            "text/plain": [
              "<pandas.io.formats.style.Styler at 0x7fcd94cf6e10>"
            ]
          },
          "metadata": {
            "tags": []
          },
          "execution_count": 72
        }
      ]
    },
    {
      "cell_type": "code",
      "metadata": {
        "id": "MYHD8TTAh6yW",
        "colab_type": "code",
        "outputId": "50071e02-838b-416b-8d16-b79a9e68530a",
        "colab": {
          "base_uri": "https://localhost:8080/",
          "height": 123
        }
      },
      "source": [
        "##por día del mes\n",
        "ct=pd.crosstab(DatosFinal.fecha.dt.day,DatosFinal.pago_m,normalize=\"index\").transpose()\n",
        "ct.style.apply(highlight)"
      ],
      "execution_count": 0,
      "outputs": [
        {
          "output_type": "execute_result",
          "data": {
            "text/html": [
              "<style  type=\"text/css\" >\n",
              "    #T_eedb50b6_8e72_11ea_972e_0242ac1c0002row0_col0 {\n",
              "            background-color:  red;\n",
              "        }    #T_eedb50b6_8e72_11ea_972e_0242ac1c0002row0_col1 {\n",
              "            background-color:  red;\n",
              "        }    #T_eedb50b6_8e72_11ea_972e_0242ac1c0002row0_col2 {\n",
              "            background-color:  red;\n",
              "        }    #T_eedb50b6_8e72_11ea_972e_0242ac1c0002row0_col3 {\n",
              "            background-color:  red;\n",
              "        }    #T_eedb50b6_8e72_11ea_972e_0242ac1c0002row0_col4 {\n",
              "            background-color:  red;\n",
              "        }    #T_eedb50b6_8e72_11ea_972e_0242ac1c0002row0_col5 {\n",
              "            background-color:  red;\n",
              "        }    #T_eedb50b6_8e72_11ea_972e_0242ac1c0002row0_col6 {\n",
              "            background-color:  red;\n",
              "        }    #T_eedb50b6_8e72_11ea_972e_0242ac1c0002row0_col7 {\n",
              "            background-color:  red;\n",
              "        }    #T_eedb50b6_8e72_11ea_972e_0242ac1c0002row0_col8 {\n",
              "            background-color:  red;\n",
              "        }    #T_eedb50b6_8e72_11ea_972e_0242ac1c0002row0_col9 {\n",
              "            background-color:  red;\n",
              "        }    #T_eedb50b6_8e72_11ea_972e_0242ac1c0002row0_col10 {\n",
              "            background-color:  red;\n",
              "        }    #T_eedb50b6_8e72_11ea_972e_0242ac1c0002row0_col11 {\n",
              "            background-color:  red;\n",
              "        }    #T_eedb50b6_8e72_11ea_972e_0242ac1c0002row0_col12 {\n",
              "            background-color:  red;\n",
              "        }    #T_eedb50b6_8e72_11ea_972e_0242ac1c0002row0_col13 {\n",
              "            background-color:  red;\n",
              "        }    #T_eedb50b6_8e72_11ea_972e_0242ac1c0002row0_col14 {\n",
              "            background-color:  red;\n",
              "        }    #T_eedb50b6_8e72_11ea_972e_0242ac1c0002row0_col15 {\n",
              "            background-color:  red;\n",
              "        }    #T_eedb50b6_8e72_11ea_972e_0242ac1c0002row0_col16 {\n",
              "            background-color:  red;\n",
              "        }    #T_eedb50b6_8e72_11ea_972e_0242ac1c0002row0_col17 {\n",
              "            background-color:  red;\n",
              "        }    #T_eedb50b6_8e72_11ea_972e_0242ac1c0002row0_col19 {\n",
              "            background-color:  red;\n",
              "        }    #T_eedb50b6_8e72_11ea_972e_0242ac1c0002row0_col20 {\n",
              "            background-color:  red;\n",
              "        }    #T_eedb50b6_8e72_11ea_972e_0242ac1c0002row0_col21 {\n",
              "            background-color:  red;\n",
              "        }    #T_eedb50b6_8e72_11ea_972e_0242ac1c0002row0_col22 {\n",
              "            background-color:  red;\n",
              "        }    #T_eedb50b6_8e72_11ea_972e_0242ac1c0002row0_col23 {\n",
              "            background-color:  red;\n",
              "        }    #T_eedb50b6_8e72_11ea_972e_0242ac1c0002row0_col24 {\n",
              "            background-color:  red;\n",
              "        }    #T_eedb50b6_8e72_11ea_972e_0242ac1c0002row0_col25 {\n",
              "            background-color:  red;\n",
              "        }    #T_eedb50b6_8e72_11ea_972e_0242ac1c0002row0_col26 {\n",
              "            background-color:  red;\n",
              "        }    #T_eedb50b6_8e72_11ea_972e_0242ac1c0002row0_col27 {\n",
              "            background-color:  red;\n",
              "        }    #T_eedb50b6_8e72_11ea_972e_0242ac1c0002row0_col28 {\n",
              "            background-color:  red;\n",
              "        }    #T_eedb50b6_8e72_11ea_972e_0242ac1c0002row0_col29 {\n",
              "            background-color:  red;\n",
              "        }    #T_eedb50b6_8e72_11ea_972e_0242ac1c0002row0_col30 {\n",
              "            background-color:  red;\n",
              "        }</style><table id=\"T_eedb50b6_8e72_11ea_972e_0242ac1c0002\" ><thead>    <tr>        <th class=\"index_name level0\" >fecha</th>        <th class=\"col_heading level0 col0\" >1</th>        <th class=\"col_heading level0 col1\" >2</th>        <th class=\"col_heading level0 col2\" >3</th>        <th class=\"col_heading level0 col3\" >4</th>        <th class=\"col_heading level0 col4\" >5</th>        <th class=\"col_heading level0 col5\" >6</th>        <th class=\"col_heading level0 col6\" >7</th>        <th class=\"col_heading level0 col7\" >8</th>        <th class=\"col_heading level0 col8\" >9</th>        <th class=\"col_heading level0 col9\" >10</th>        <th class=\"col_heading level0 col10\" >11</th>        <th class=\"col_heading level0 col11\" >12</th>        <th class=\"col_heading level0 col12\" >13</th>        <th class=\"col_heading level0 col13\" >14</th>        <th class=\"col_heading level0 col14\" >15</th>        <th class=\"col_heading level0 col15\" >16</th>        <th class=\"col_heading level0 col16\" >17</th>        <th class=\"col_heading level0 col17\" >18</th>        <th class=\"col_heading level0 col18\" >19</th>        <th class=\"col_heading level0 col19\" >20</th>        <th class=\"col_heading level0 col20\" >21</th>        <th class=\"col_heading level0 col21\" >22</th>        <th class=\"col_heading level0 col22\" >23</th>        <th class=\"col_heading level0 col23\" >24</th>        <th class=\"col_heading level0 col24\" >25</th>        <th class=\"col_heading level0 col25\" >26</th>        <th class=\"col_heading level0 col26\" >27</th>        <th class=\"col_heading level0 col27\" >28</th>        <th class=\"col_heading level0 col28\" >29</th>        <th class=\"col_heading level0 col29\" >30</th>        <th class=\"col_heading level0 col30\" >31</th>    </tr>    <tr>        <th class=\"index_name level0\" >pago_m</th>        <th class=\"blank\" ></th>        <th class=\"blank\" ></th>        <th class=\"blank\" ></th>        <th class=\"blank\" ></th>        <th class=\"blank\" ></th>        <th class=\"blank\" ></th>        <th class=\"blank\" ></th>        <th class=\"blank\" ></th>        <th class=\"blank\" ></th>        <th class=\"blank\" ></th>        <th class=\"blank\" ></th>        <th class=\"blank\" ></th>        <th class=\"blank\" ></th>        <th class=\"blank\" ></th>        <th class=\"blank\" ></th>        <th class=\"blank\" ></th>        <th class=\"blank\" ></th>        <th class=\"blank\" ></th>        <th class=\"blank\" ></th>        <th class=\"blank\" ></th>        <th class=\"blank\" ></th>        <th class=\"blank\" ></th>        <th class=\"blank\" ></th>        <th class=\"blank\" ></th>        <th class=\"blank\" ></th>        <th class=\"blank\" ></th>        <th class=\"blank\" ></th>        <th class=\"blank\" ></th>        <th class=\"blank\" ></th>        <th class=\"blank\" ></th>        <th class=\"blank\" ></th>    </tr></thead><tbody>\n",
              "                <tr>\n",
              "                        <th id=\"T_eedb50b6_8e72_11ea_972e_0242ac1c0002level0_row0\" class=\"row_heading level0 row0\" >0</th>\n",
              "                        <td id=\"T_eedb50b6_8e72_11ea_972e_0242ac1c0002row0_col0\" class=\"data row0 col0\" >0.791667</td>\n",
              "                        <td id=\"T_eedb50b6_8e72_11ea_972e_0242ac1c0002row0_col1\" class=\"data row0 col1\" >0.833333</td>\n",
              "                        <td id=\"T_eedb50b6_8e72_11ea_972e_0242ac1c0002row0_col2\" class=\"data row0 col2\" >0.904762</td>\n",
              "                        <td id=\"T_eedb50b6_8e72_11ea_972e_0242ac1c0002row0_col3\" class=\"data row0 col3\" >0.875000</td>\n",
              "                        <td id=\"T_eedb50b6_8e72_11ea_972e_0242ac1c0002row0_col4\" class=\"data row0 col4\" >0.918033</td>\n",
              "                        <td id=\"T_eedb50b6_8e72_11ea_972e_0242ac1c0002row0_col5\" class=\"data row0 col5\" >0.788889</td>\n",
              "                        <td id=\"T_eedb50b6_8e72_11ea_972e_0242ac1c0002row0_col6\" class=\"data row0 col6\" >0.800000</td>\n",
              "                        <td id=\"T_eedb50b6_8e72_11ea_972e_0242ac1c0002row0_col7\" class=\"data row0 col7\" >0.852941</td>\n",
              "                        <td id=\"T_eedb50b6_8e72_11ea_972e_0242ac1c0002row0_col8\" class=\"data row0 col8\" >0.863636</td>\n",
              "                        <td id=\"T_eedb50b6_8e72_11ea_972e_0242ac1c0002row0_col9\" class=\"data row0 col9\" >0.854839</td>\n",
              "                        <td id=\"T_eedb50b6_8e72_11ea_972e_0242ac1c0002row0_col10\" class=\"data row0 col10\" >0.844444</td>\n",
              "                        <td id=\"T_eedb50b6_8e72_11ea_972e_0242ac1c0002row0_col11\" class=\"data row0 col11\" >0.901639</td>\n",
              "                        <td id=\"T_eedb50b6_8e72_11ea_972e_0242ac1c0002row0_col12\" class=\"data row0 col12\" >0.887324</td>\n",
              "                        <td id=\"T_eedb50b6_8e72_11ea_972e_0242ac1c0002row0_col13\" class=\"data row0 col13\" >0.866667</td>\n",
              "                        <td id=\"T_eedb50b6_8e72_11ea_972e_0242ac1c0002row0_col14\" class=\"data row0 col14\" >0.750000</td>\n",
              "                        <td id=\"T_eedb50b6_8e72_11ea_972e_0242ac1c0002row0_col15\" class=\"data row0 col15\" >0.838710</td>\n",
              "                        <td id=\"T_eedb50b6_8e72_11ea_972e_0242ac1c0002row0_col16\" class=\"data row0 col16\" >0.941176</td>\n",
              "                        <td id=\"T_eedb50b6_8e72_11ea_972e_0242ac1c0002row0_col17\" class=\"data row0 col17\" >0.888889</td>\n",
              "                        <td id=\"T_eedb50b6_8e72_11ea_972e_0242ac1c0002row0_col18\" class=\"data row0 col18\" >0.506329</td>\n",
              "                        <td id=\"T_eedb50b6_8e72_11ea_972e_0242ac1c0002row0_col19\" class=\"data row0 col19\" >0.857143</td>\n",
              "                        <td id=\"T_eedb50b6_8e72_11ea_972e_0242ac1c0002row0_col20\" class=\"data row0 col20\" >0.818182</td>\n",
              "                        <td id=\"T_eedb50b6_8e72_11ea_972e_0242ac1c0002row0_col21\" class=\"data row0 col21\" >0.833333</td>\n",
              "                        <td id=\"T_eedb50b6_8e72_11ea_972e_0242ac1c0002row0_col22\" class=\"data row0 col22\" >0.807692</td>\n",
              "                        <td id=\"T_eedb50b6_8e72_11ea_972e_0242ac1c0002row0_col23\" class=\"data row0 col23\" >0.941176</td>\n",
              "                        <td id=\"T_eedb50b6_8e72_11ea_972e_0242ac1c0002row0_col24\" class=\"data row0 col24\" >0.823529</td>\n",
              "                        <td id=\"T_eedb50b6_8e72_11ea_972e_0242ac1c0002row0_col25\" class=\"data row0 col25\" >0.873016</td>\n",
              "                        <td id=\"T_eedb50b6_8e72_11ea_972e_0242ac1c0002row0_col26\" class=\"data row0 col26\" >0.847458</td>\n",
              "                        <td id=\"T_eedb50b6_8e72_11ea_972e_0242ac1c0002row0_col27\" class=\"data row0 col27\" >0.871795</td>\n",
              "                        <td id=\"T_eedb50b6_8e72_11ea_972e_0242ac1c0002row0_col28\" class=\"data row0 col28\" >0.744681</td>\n",
              "                        <td id=\"T_eedb50b6_8e72_11ea_972e_0242ac1c0002row0_col29\" class=\"data row0 col29\" >0.888889</td>\n",
              "                        <td id=\"T_eedb50b6_8e72_11ea_972e_0242ac1c0002row0_col30\" class=\"data row0 col30\" >0.894737</td>\n",
              "            </tr>\n",
              "            <tr>\n",
              "                        <th id=\"T_eedb50b6_8e72_11ea_972e_0242ac1c0002level0_row1\" class=\"row_heading level0 row1\" >1</th>\n",
              "                        <td id=\"T_eedb50b6_8e72_11ea_972e_0242ac1c0002row1_col0\" class=\"data row1 col0\" >0.208333</td>\n",
              "                        <td id=\"T_eedb50b6_8e72_11ea_972e_0242ac1c0002row1_col1\" class=\"data row1 col1\" >0.166667</td>\n",
              "                        <td id=\"T_eedb50b6_8e72_11ea_972e_0242ac1c0002row1_col2\" class=\"data row1 col2\" >0.095238</td>\n",
              "                        <td id=\"T_eedb50b6_8e72_11ea_972e_0242ac1c0002row1_col3\" class=\"data row1 col3\" >0.125000</td>\n",
              "                        <td id=\"T_eedb50b6_8e72_11ea_972e_0242ac1c0002row1_col4\" class=\"data row1 col4\" >0.081967</td>\n",
              "                        <td id=\"T_eedb50b6_8e72_11ea_972e_0242ac1c0002row1_col5\" class=\"data row1 col5\" >0.211111</td>\n",
              "                        <td id=\"T_eedb50b6_8e72_11ea_972e_0242ac1c0002row1_col6\" class=\"data row1 col6\" >0.200000</td>\n",
              "                        <td id=\"T_eedb50b6_8e72_11ea_972e_0242ac1c0002row1_col7\" class=\"data row1 col7\" >0.147059</td>\n",
              "                        <td id=\"T_eedb50b6_8e72_11ea_972e_0242ac1c0002row1_col8\" class=\"data row1 col8\" >0.136364</td>\n",
              "                        <td id=\"T_eedb50b6_8e72_11ea_972e_0242ac1c0002row1_col9\" class=\"data row1 col9\" >0.145161</td>\n",
              "                        <td id=\"T_eedb50b6_8e72_11ea_972e_0242ac1c0002row1_col10\" class=\"data row1 col10\" >0.155556</td>\n",
              "                        <td id=\"T_eedb50b6_8e72_11ea_972e_0242ac1c0002row1_col11\" class=\"data row1 col11\" >0.098361</td>\n",
              "                        <td id=\"T_eedb50b6_8e72_11ea_972e_0242ac1c0002row1_col12\" class=\"data row1 col12\" >0.112676</td>\n",
              "                        <td id=\"T_eedb50b6_8e72_11ea_972e_0242ac1c0002row1_col13\" class=\"data row1 col13\" >0.133333</td>\n",
              "                        <td id=\"T_eedb50b6_8e72_11ea_972e_0242ac1c0002row1_col14\" class=\"data row1 col14\" >0.250000</td>\n",
              "                        <td id=\"T_eedb50b6_8e72_11ea_972e_0242ac1c0002row1_col15\" class=\"data row1 col15\" >0.161290</td>\n",
              "                        <td id=\"T_eedb50b6_8e72_11ea_972e_0242ac1c0002row1_col16\" class=\"data row1 col16\" >0.058824</td>\n",
              "                        <td id=\"T_eedb50b6_8e72_11ea_972e_0242ac1c0002row1_col17\" class=\"data row1 col17\" >0.111111</td>\n",
              "                        <td id=\"T_eedb50b6_8e72_11ea_972e_0242ac1c0002row1_col18\" class=\"data row1 col18\" >0.493671</td>\n",
              "                        <td id=\"T_eedb50b6_8e72_11ea_972e_0242ac1c0002row1_col19\" class=\"data row1 col19\" >0.142857</td>\n",
              "                        <td id=\"T_eedb50b6_8e72_11ea_972e_0242ac1c0002row1_col20\" class=\"data row1 col20\" >0.181818</td>\n",
              "                        <td id=\"T_eedb50b6_8e72_11ea_972e_0242ac1c0002row1_col21\" class=\"data row1 col21\" >0.166667</td>\n",
              "                        <td id=\"T_eedb50b6_8e72_11ea_972e_0242ac1c0002row1_col22\" class=\"data row1 col22\" >0.192308</td>\n",
              "                        <td id=\"T_eedb50b6_8e72_11ea_972e_0242ac1c0002row1_col23\" class=\"data row1 col23\" >0.058824</td>\n",
              "                        <td id=\"T_eedb50b6_8e72_11ea_972e_0242ac1c0002row1_col24\" class=\"data row1 col24\" >0.176471</td>\n",
              "                        <td id=\"T_eedb50b6_8e72_11ea_972e_0242ac1c0002row1_col25\" class=\"data row1 col25\" >0.126984</td>\n",
              "                        <td id=\"T_eedb50b6_8e72_11ea_972e_0242ac1c0002row1_col26\" class=\"data row1 col26\" >0.152542</td>\n",
              "                        <td id=\"T_eedb50b6_8e72_11ea_972e_0242ac1c0002row1_col27\" class=\"data row1 col27\" >0.128205</td>\n",
              "                        <td id=\"T_eedb50b6_8e72_11ea_972e_0242ac1c0002row1_col28\" class=\"data row1 col28\" >0.255319</td>\n",
              "                        <td id=\"T_eedb50b6_8e72_11ea_972e_0242ac1c0002row1_col29\" class=\"data row1 col29\" >0.111111</td>\n",
              "                        <td id=\"T_eedb50b6_8e72_11ea_972e_0242ac1c0002row1_col30\" class=\"data row1 col30\" >0.105263</td>\n",
              "            </tr>\n",
              "    </tbody></table>"
            ],
            "text/plain": [
              "<pandas.io.formats.style.Styler at 0x7f0707913c88>"
            ]
          },
          "metadata": {
            "tags": []
          },
          "execution_count": 49
        }
      ]
    },
    {
      "cell_type": "code",
      "metadata": {
        "id": "XEoFyo7miHqs",
        "colab_type": "code",
        "outputId": "79305146-6f72-4180-cea8-ed4c44c1d6d2",
        "colab": {
          "base_uri": "https://localhost:8080/",
          "height": 103
        }
      },
      "source": [
        "#por mes de aprobación\n",
        "#parece que las personas que obtuvieron prestamos de abril a mayo, o las que lo hicieorn en noviembre, no pagan sus obligaciones\n",
        "ct=pd.crosstab(DatosFinal.fecha.dt.month,DatosFinal.pago_m,normalize=\"index\").transpose()\n",
        "ct.style.apply(highlight)"
      ],
      "execution_count": 0,
      "outputs": [
        {
          "output_type": "execute_result",
          "data": {
            "text/html": [
              "<style  type=\"text/css\" >\n",
              "    #T_0eb134d2_8e73_11ea_972e_0242ac1c0002row0_col1 {\n",
              "            background-color:  red;\n",
              "        }    #T_0eb134d2_8e73_11ea_972e_0242ac1c0002row0_col2 {\n",
              "            background-color:  red;\n",
              "        }    #T_0eb134d2_8e73_11ea_972e_0242ac1c0002row0_col6 {\n",
              "            background-color:  red;\n",
              "        }    #T_0eb134d2_8e73_11ea_972e_0242ac1c0002row0_col7 {\n",
              "            background-color:  red;\n",
              "        }    #T_0eb134d2_8e73_11ea_972e_0242ac1c0002row0_col8 {\n",
              "            background-color:  red;\n",
              "        }    #T_0eb134d2_8e73_11ea_972e_0242ac1c0002row0_col11 {\n",
              "            background-color:  red;\n",
              "        }    #T_0eb134d2_8e73_11ea_972e_0242ac1c0002row1_col3 {\n",
              "            background-color:  red;\n",
              "        }    #T_0eb134d2_8e73_11ea_972e_0242ac1c0002row1_col4 {\n",
              "            background-color:  red;\n",
              "        }    #T_0eb134d2_8e73_11ea_972e_0242ac1c0002row1_col5 {\n",
              "            background-color:  red;\n",
              "        }</style><table id=\"T_0eb134d2_8e73_11ea_972e_0242ac1c0002\" ><thead>    <tr>        <th class=\"index_name level0\" >fecha</th>        <th class=\"col_heading level0 col0\" >1</th>        <th class=\"col_heading level0 col1\" >2</th>        <th class=\"col_heading level0 col2\" >3</th>        <th class=\"col_heading level0 col3\" >4</th>        <th class=\"col_heading level0 col4\" >5</th>        <th class=\"col_heading level0 col5\" >6</th>        <th class=\"col_heading level0 col6\" >7</th>        <th class=\"col_heading level0 col7\" >8</th>        <th class=\"col_heading level0 col8\" >9</th>        <th class=\"col_heading level0 col9\" >10</th>        <th class=\"col_heading level0 col10\" >11</th>        <th class=\"col_heading level0 col11\" >12</th>    </tr>    <tr>        <th class=\"index_name level0\" >pago_m</th>        <th class=\"blank\" ></th>        <th class=\"blank\" ></th>        <th class=\"blank\" ></th>        <th class=\"blank\" ></th>        <th class=\"blank\" ></th>        <th class=\"blank\" ></th>        <th class=\"blank\" ></th>        <th class=\"blank\" ></th>        <th class=\"blank\" ></th>        <th class=\"blank\" ></th>        <th class=\"blank\" ></th>        <th class=\"blank\" ></th>    </tr></thead><tbody>\n",
              "                <tr>\n",
              "                        <th id=\"T_0eb134d2_8e73_11ea_972e_0242ac1c0002level0_row0\" class=\"row_heading level0 row0\" >0</th>\n",
              "                        <td id=\"T_0eb134d2_8e73_11ea_972e_0242ac1c0002row0_col0\" class=\"data row0 col0\" >0.407407</td>\n",
              "                        <td id=\"T_0eb134d2_8e73_11ea_972e_0242ac1c0002row0_col1\" class=\"data row0 col1\" >0.937500</td>\n",
              "                        <td id=\"T_0eb134d2_8e73_11ea_972e_0242ac1c0002row0_col2\" class=\"data row0 col2\" >1.000000</td>\n",
              "                        <td id=\"T_0eb134d2_8e73_11ea_972e_0242ac1c0002row0_col3\" class=\"data row0 col3\" >0.000000</td>\n",
              "                        <td id=\"T_0eb134d2_8e73_11ea_972e_0242ac1c0002row0_col4\" class=\"data row0 col4\" >0.000000</td>\n",
              "                        <td id=\"T_0eb134d2_8e73_11ea_972e_0242ac1c0002row0_col5\" class=\"data row0 col5\" >0.000000</td>\n",
              "                        <td id=\"T_0eb134d2_8e73_11ea_972e_0242ac1c0002row0_col6\" class=\"data row0 col6\" >0.840336</td>\n",
              "                        <td id=\"T_0eb134d2_8e73_11ea_972e_0242ac1c0002row0_col7\" class=\"data row0 col7\" >0.838843</td>\n",
              "                        <td id=\"T_0eb134d2_8e73_11ea_972e_0242ac1c0002row0_col8\" class=\"data row0 col8\" >0.918089</td>\n",
              "                        <td id=\"T_0eb134d2_8e73_11ea_972e_0242ac1c0002row0_col9\" class=\"data row0 col9\" >0.500000</td>\n",
              "                        <td id=\"T_0eb134d2_8e73_11ea_972e_0242ac1c0002row0_col10\" class=\"data row0 col10\" >0.316667</td>\n",
              "                        <td id=\"T_0eb134d2_8e73_11ea_972e_0242ac1c0002row0_col11\" class=\"data row0 col11\" >0.784615</td>\n",
              "            </tr>\n",
              "            <tr>\n",
              "                        <th id=\"T_0eb134d2_8e73_11ea_972e_0242ac1c0002level0_row1\" class=\"row_heading level0 row1\" >1</th>\n",
              "                        <td id=\"T_0eb134d2_8e73_11ea_972e_0242ac1c0002row1_col0\" class=\"data row1 col0\" >0.592593</td>\n",
              "                        <td id=\"T_0eb134d2_8e73_11ea_972e_0242ac1c0002row1_col1\" class=\"data row1 col1\" >0.062500</td>\n",
              "                        <td id=\"T_0eb134d2_8e73_11ea_972e_0242ac1c0002row1_col2\" class=\"data row1 col2\" >0.000000</td>\n",
              "                        <td id=\"T_0eb134d2_8e73_11ea_972e_0242ac1c0002row1_col3\" class=\"data row1 col3\" >1.000000</td>\n",
              "                        <td id=\"T_0eb134d2_8e73_11ea_972e_0242ac1c0002row1_col4\" class=\"data row1 col4\" >1.000000</td>\n",
              "                        <td id=\"T_0eb134d2_8e73_11ea_972e_0242ac1c0002row1_col5\" class=\"data row1 col5\" >1.000000</td>\n",
              "                        <td id=\"T_0eb134d2_8e73_11ea_972e_0242ac1c0002row1_col6\" class=\"data row1 col6\" >0.159664</td>\n",
              "                        <td id=\"T_0eb134d2_8e73_11ea_972e_0242ac1c0002row1_col7\" class=\"data row1 col7\" >0.161157</td>\n",
              "                        <td id=\"T_0eb134d2_8e73_11ea_972e_0242ac1c0002row1_col8\" class=\"data row1 col8\" >0.081911</td>\n",
              "                        <td id=\"T_0eb134d2_8e73_11ea_972e_0242ac1c0002row1_col9\" class=\"data row1 col9\" >0.500000</td>\n",
              "                        <td id=\"T_0eb134d2_8e73_11ea_972e_0242ac1c0002row1_col10\" class=\"data row1 col10\" >0.683333</td>\n",
              "                        <td id=\"T_0eb134d2_8e73_11ea_972e_0242ac1c0002row1_col11\" class=\"data row1 col11\" >0.215385</td>\n",
              "            </tr>\n",
              "    </tbody></table>"
            ],
            "text/plain": [
              "<pandas.io.formats.style.Styler at 0x7f0707913f98>"
            ]
          },
          "metadata": {
            "tags": []
          },
          "execution_count": 50
        }
      ]
    },
    {
      "cell_type": "code",
      "metadata": {
        "id": "MBBP4uTffdKQ",
        "colab_type": "code",
        "outputId": "c35d8d4e-af2e-4969-eea5-e4b353ddee75",
        "colab": {
          "base_uri": "https://localhost:8080/",
          "height": 501
        }
      },
      "source": [
        "# vimos que existen meses en los que las personas no cumplieron con sus obligaciones. Sin embargo  veamos si este comportamiento\n",
        "# puede desagregarse por día de la semana en que fue aprobado.\n",
        "\n",
        "ct=pd.pivot_table(dataux, values='pago_m', index=['mes'],\n",
        "                    columns=['dayweek'], aggfunc=np.mean).fillna(0).transpose()\n",
        "import matplotlib.pyplot as plt\n",
        "\n",
        "ax,fig=plt.subplots(figsize=(15,8))\n",
        "ax=sns.heatmap(ct,cmap='Reds',linewidths=.5)"
      ],
      "execution_count": 0,
      "outputs": [
        {
          "output_type": "display_data",
          "data": {
            "image/png": "[encoded data removed]",
            "text/plain": [
              "<Figure size 1080x576 with 2 Axes>"
            ]
          },
          "metadata": {
            "tags": [],
            "needs_background": "light"
          }
        }
      ]
    },
    {
      "cell_type": "code",
      "metadata": {
        "id": "jhxnAXPdZwaW",
        "colab_type": "code",
        "outputId": "2103d0d0-811e-410e-9c2a-551491102418",
        "colab": {
          "base_uri": "https://localhost:8080/",
          "height": 107
        }
      },
      "source": [
        "## Codificar monto de préstamo\n",
        "le=LabelEncoder()\n",
        "montocat_enc=le.fit_transform(DatosFinal.MontoCat)\n",
        "DatosFinal.loc[:,'MontoCat']=montocat_enc\n",
        "\n",
        "print(\"Nuevas clases transformadas:\\n\")\n",
        "\n",
        "[print(j[0],\":\",j[1]) for j in zip(le.classes_,np.unique(montocat_enc))];\n"
      ],
      "execution_count": 14,
      "outputs": [
        {
          "output_type": "stream",
          "text": [
            "Nuevas clases transformadas:\n",
            "\n",
            "5000-10000 : 0\n",
            "Mas de 10000 : 1\n",
            "Menos de 5000 : 2\n"
          ],
          "name": "stdout"
        }
      ]
    },
    {
      "cell_type": "markdown",
      "metadata": {
        "id": "kire-lhuBFgo",
        "colab_type": "text"
      },
      "source": [
        "## Ajuste de Modelos \n",
        "\n",
        "### Generación test y training set (70% train, 30% test)"
      ]
    },
    {
      "cell_type": "code",
      "metadata": {
        "id": "uaxvISqOBID5",
        "colab_type": "code",
        "colab": {}
      },
      "source": [
        "datamodel=DatosFinal.drop(columns=['ID','pago','fecha'])\n",
        "\n",
        "X_train, X_test, y_train, y_test = train_test_split(\n",
        "    datamodel.drop(columns=['pago_m']),  # matriz con las variables predictivas\n",
        "    datamodel['pago_m'], # array con los valores de la variable objetivo\n",
        "    test_size=0.3,  # proporción a dejar en el test set\n",
        "    random_state=123, # para controlar la semilla aleatoria\n",
        "    stratify=datamodel['pago_m']) # indica la variable de estratificación estratificación de la muestra\n",
        "\n"
      ],
      "execution_count": 0,
      "outputs": []
    },
    {
      "cell_type": "markdown",
      "metadata": {
        "id": "9wsJhej4wzgJ",
        "colab_type": "text"
      },
      "source": [
        "### Metricas\n"
      ]
    },
    {
      "cell_type": "markdown",
      "metadata": {
        "id": "7YQqV9TRw3rz",
        "colab_type": "text"
      },
      "source": [
        ""
      ]
    },
    {
      "cell_type": "code",
      "metadata": {
        "id": "J8JFFeLWw6Fm",
        "colab_type": "code",
        "colab": {}
      },
      "source": [
        "## medir el desempeño del clasificador\n",
        "def metrics(real,pred):\n",
        "  kappa=cohen_kappa_score(real,pred)\n",
        "  acc=accuracy_score(real,pred)\n",
        "  f1=f1_score(real,pred)\n",
        "  print (f\" Accuracy:{acc:.4f} \\n Kappa: {kappa:.4f} \\n F1-Score: {f1:.4f}\")\n"
      ],
      "execution_count": 0,
      "outputs": []
    },
    {
      "cell_type": "code",
      "metadata": {
        "id": "7Jt_7rIERTsC",
        "colab_type": "code",
        "colab": {}
      },
      "source": [
        ""
      ],
      "execution_count": 0,
      "outputs": []
    },
    {
      "cell_type": "markdown",
      "metadata": {
        "id": "ogGUI99nRVhB",
        "colab_type": "text"
      },
      "source": [
        "\n",
        "## Regresion Logistica \n",
        "```\n",
        "# Esto tiene formato de código\n",
        "```\n",
        "\n"
      ]
    },
    {
      "cell_type": "markdown",
      "metadata": {
        "id": "icZvXdrUR_IY",
        "colab_type": "text"
      },
      "source": [
        ""
      ]
    },
    {
      "cell_type": "code",
      "metadata": {
        "id": "nXCmlUDkR_iY",
        "colab_type": "code",
        "outputId": "8f987765-d248-4c50-fd27-911417070e02",
        "colab": {
          "base_uri": "https://localhost:8080/",
          "height": 89
        }
      },
      "source": [
        "from sklearn.linear_model import LogisticRegression\n",
        "pipeline = Pipeline([\n",
        "  ('clf', LogisticRegression(penalty='l2',class_weight='balanced', dual=False,\n",
        "                                    fit_intercept=True, intercept_scaling=1,\n",
        "                                    l1_ratio=None, max_iter=10000,\n",
        "                                    multi_class='auto', n_jobs=None,\n",
        "                                    random_state=None,\n",
        "                                    solver='lbfgs', tol=0.0001, verbose=0,\n",
        "                                    warm_start=False))])\n",
        "\n",
        "params = {'clf__C':[0.1, 1, 10]}\n",
        "grid= GridSearchCV(pipeline, params)\n",
        "grid.fit(X_train,y_train)\n",
        "pred_lass=grid.predict(X_test)\n",
        "print(grid.best_params_)\n",
        "\n",
        "metrics(y_test,pred_lass)\n"
      ],
      "execution_count": 21,
      "outputs": [
        {
          "output_type": "stream",
          "text": [
            "{'clf__C': 1}\n",
            " Accuracy:0.6425 \n",
            " Kappa: 0.1228 \n",
            " F1-Score: 0.3211\n"
          ],
          "name": "stdout"
        }
      ]
    },
    {
      "cell_type": "markdown",
      "metadata": {
        "id": "9q1o0Sb9SFox",
        "colab_type": "text"
      },
      "source": [
        ""
      ]
    },
    {
      "cell_type": "code",
      "metadata": {
        "id": "w3B4hNDRSGBo",
        "colab_type": "code",
        "colab": {}
      },
      "source": [
        "steps = [('STD', StandardScaler()), ('RIDGE', SGDClassifier(penalty=\"l2\",early_stopping=True,validation_fraction=0.1,\n",
        "                                                            max_iter=15000, tol=0.01))]\n",
        "pipeline = Pipeline(steps)\n",
        "parametros = {'Ridge__alpha':alphas}\n",
        "grid1=GridSearchCV(pipeline,param_grid=parametros,cv=5,n_jobs=-1)\n",
        "grid1.fit(X_train,y_train)\n",
        "pred_enet=grid1.predict(X_test)\n",
        "metrics(y_test,pred_enet)\n"
      ],
      "execution_count": 0,
      "outputs": []
    },
    {
      "cell_type": "markdown",
      "metadata": {
        "id": "FattvInj1wHG",
        "colab_type": "text"
      },
      "source": [
        "### LDA"
      ]
    },
    {
      "cell_type": "code",
      "metadata": {
        "id": "vLQ8pDkF39H6",
        "colab_type": "code",
        "colab": {}
      },
      "source": [
        "## definir pasos para estandarizar los datos y entrenar el LDA\n",
        "steps = [('STD', StandardScaler()), ('LDA', LinearDiscriminantAnalysis())]\n",
        "pipeline = Pipeline(steps)\n",
        "##correr el pipeline\n",
        "pipeline.get_params().keys()\n",
        "pipeline.fit(X_train,y_train)\n",
        "pred_lda=pipeline.predict(X_test)\n"
      ],
      "execution_count": 0,
      "outputs": []
    },
    {
      "cell_type": "code",
      "metadata": {
        "id": "f07MnzOx7BvN",
        "colab_type": "code",
        "outputId": "baa25f57-177e-44aa-8932-d574ae3989c2",
        "colab": {
          "base_uri": "https://localhost:8080/",
          "height": 68
        }
      },
      "source": [
        "metrics(y_test,pred_lda)"
      ],
      "execution_count": 0,
      "outputs": [
        {
          "output_type": "stream",
          "text": [
            " Accuracy:0.8261 \n",
            " Kappa: 0.0187 \n",
            " F1-Score: 0.0526\n"
          ],
          "name": "stdout"
        }
      ]
    },
    {
      "cell_type": "markdown",
      "metadata": {
        "colab_type": "text",
        "id": "GcZ6G-xvDcHJ"
      },
      "source": [
        "### QDA"
      ]
    },
    {
      "cell_type": "code",
      "metadata": {
        "id": "D-3sSyNMquIy",
        "colab_type": "code",
        "outputId": "307e618f-a5ab-4c78-d801-eaf59ed38c1c",
        "colab": {
          "base_uri": "https://localhost:8080/",
          "height": 102
        }
      },
      "source": [
        "from sklearn.discriminant_analysis import QuadraticDiscriminantAnalysis\n",
        "steps = [('STD', StandardScaler()), ('QDA', QuadraticDiscriminantAnalysis())]\n",
        "pipeline = Pipeline(steps)\n",
        "##correr el pipeline\n",
        "pipeline.get_params().keys()\n",
        "pipeline.fit(X_train,y_train)\n",
        "pred_qda=pipeline.predict(X_test)\n",
        "metrics(y_test,pred_qda)"
      ],
      "execution_count": 0,
      "outputs": [
        {
          "output_type": "stream",
          "text": [
            " Accuracy:0.7053 \n",
            " Kappa: -0.0023 \n",
            " F1-Score: 0.1757\n"
          ],
          "name": "stdout"
        },
        {
          "output_type": "stream",
          "text": [
            "/usr/local/lib/python3.6/dist-packages/sklearn/discriminant_analysis.py:691: UserWarning: Variables are collinear\n",
            "  warnings.warn(\"Variables are collinear\")\n"
          ],
          "name": "stderr"
        }
      ]
    },
    {
      "cell_type": "markdown",
      "metadata": {
        "id": "vIu4vaYx05n3",
        "colab_type": "text"
      },
      "source": [
        "### SVM"
      ]
    },
    {
      "cell_type": "markdown",
      "metadata": {
        "id": "b_Y9huh04ilj",
        "colab_type": "text"
      },
      "source": [
        "SVM - Kernel Lineal"
      ]
    },
    {
      "cell_type": "code",
      "metadata": {
        "id": "Eu-Ff-mA07xE",
        "colab_type": "code",
        "colab": {}
      },
      "source": [
        "metrica='accuracy'\n",
        "steps = [(\"SVM_linear\", SVC(kernel=\"linear\"))]\n",
        "pipeline = Pipeline(steps)\n",
        "parametros = {'SVM_linear__C':[0.01,0.1,1,10]}\n",
        "grid1 = GridSearchCV(pipeline, param_grid=parametros, cv=5, scoring=metrica,n_jobs=-1)\n",
        "grid1.fit(X_train, y_train)\n",
        "print(\"score = %3.4f\" %(grid1.score(X_test,y_test)))\n",
        "print(grid1.best_params_)"
      ],
      "execution_count": 0,
      "outputs": []
    },
    {
      "cell_type": "markdown",
      "metadata": {
        "id": "wfcVHpFY4nFb",
        "colab_type": "text"
      },
      "source": [
        "SVM - Kernel RBF"
      ]
    },
    {
      "cell_type": "code",
      "metadata": {
        "id": "q1srLwZis65J",
        "colab_type": "code",
        "outputId": "cf1e1640-54b2-4eb7-aa28-11a4d26a23ea",
        "colab": {
          "base_uri": "https://localhost:8080/",
          "height": 1000
        }
      },
      "source": [
        "metrica='accuracy'\n",
        "steps = [(\"SVM_linear\", SVC(kernel=\"rbf\"))]\n",
        "pipeline = Pipeline(steps)\n",
        "parametros = {'SVM_rbf__C':[0.01,0.1,1,10], 'SVM_rbf__gamma':[0.05,0.01, 1, 5]}\n",
        "grid1 = GridSearchCV(pipeline, param_grid=parametros, cv=5, scoring=metrica,n_jobs=-1)\n",
        "grid1.fit(X_train, y_train)\n",
        "print(\"score = %3.4f\" %(grid1.score(X_test,y_test)))\n",
        "print(grid1.best_params_)"
      ],
      "execution_count": 0,
      "outputs": [
        {
          "output_type": "error",
          "ename": "ValueError",
          "evalue": "ignored",
          "traceback": [
            "\u001b[0;31m---------------------------------------------------------------------------\u001b[0m",
            "\u001b[0;31m_RemoteTraceback\u001b[0m                          Traceback (most recent call last)",
            "\u001b[0;31m_RemoteTraceback\u001b[0m: \n\"\"\"\nTraceback (most recent call last):\n  File \"/usr/local/lib/python3.6/dist-packages/joblib/externals/loky/process_executor.py\", line 418, in _process_worker\n    r = call_item()\n  File \"/usr/local/lib/python3.6/dist-packages/joblib/externals/loky/process_executor.py\", line 272, in __call__\n    return self.fn(*self.args, **self.kwargs)\n  File \"/usr/local/lib/python3.6/dist-packages/joblib/_parallel_backends.py\", line 608, in __call__\n    return self.func(*args, **kwargs)\n  File \"/usr/local/lib/python3.6/dist-packages/joblib/parallel.py\", line 256, in __call__\n    for func, args, kwargs in self.items]\n  File \"/usr/local/lib/python3.6/dist-packages/joblib/parallel.py\", line 256, in <listcomp>\n    for func, args, kwargs in self.items]\n  File \"/usr/local/lib/python3.6/dist-packages/sklearn/model_selection/_validation.py\", line 504, in _fit_and_score\n    estimator = estimator.set_params(**cloned_parameters)\n  File \"/usr/local/lib/python3.6/dist-packages/sklearn/pipeline.py\", line 163, in set_params\n    self._set_params('steps', **kwargs)\n  File \"/usr/local/lib/python3.6/dist-packages/sklearn/utils/metaestimators.py\", line 50, in _set_params\n    super().set_params(**params)\n  File \"/usr/local/lib/python3.6/dist-packages/sklearn/base.py\", line 236, in set_params\n    (key, self))\nValueError: Invalid parameter SVM_rbf for estimator Pipeline(memory=None,\n         steps=[('SVM_linear',\n                 SVC(C=1.0, break_ties=False, cache_size=200, class_weight=None,\n                     coef0=0.0, decision_function_shape='ovr', degree=3,\n                     gamma='scale', kernel='rbf', max_iter=-1,\n                     probability=False, random_state=None, shrinking=True,\n                     tol=0.001, verbose=False))],\n         verbose=False). Check the list of available parameters with `estimator.get_params().keys()`.\n\"\"\"",
            "\nThe above exception was the direct cause of the following exception:\n",
            "\u001b[0;31mValueError\u001b[0m                                Traceback (most recent call last)",
            "\u001b[0;32m<ipython-input-68-4351d27f9eea>\u001b[0m in \u001b[0;36m<module>\u001b[0;34m()\u001b[0m\n\u001b[1;32m      4\u001b[0m \u001b[0mparametros\u001b[0m \u001b[0;34m=\u001b[0m \u001b[0;34m{\u001b[0m\u001b[0;34m'SVM_rbf__C'\u001b[0m\u001b[0;34m:\u001b[0m\u001b[0;34m[\u001b[0m\u001b[0;36m0.01\u001b[0m\u001b[0;34m,\u001b[0m\u001b[0;36m0.1\u001b[0m\u001b[0;34m,\u001b[0m\u001b[0;36m1\u001b[0m\u001b[0;34m,\u001b[0m\u001b[0;36m10\u001b[0m\u001b[0;34m]\u001b[0m\u001b[0;34m,\u001b[0m \u001b[0;34m'SVM_rbf__gamma'\u001b[0m\u001b[0;34m:\u001b[0m\u001b[0;34m[\u001b[0m\u001b[0;36m0.05\u001b[0m\u001b[0;34m,\u001b[0m\u001b[0;36m0.01\u001b[0m\u001b[0;34m,\u001b[0m \u001b[0;36m1\u001b[0m\u001b[0;34m,\u001b[0m \u001b[0;36m5\u001b[0m\u001b[0;34m]\u001b[0m\u001b[0;34m}\u001b[0m\u001b[0;34m\u001b[0m\u001b[0;34m\u001b[0m\u001b[0m\n\u001b[1;32m      5\u001b[0m \u001b[0mgrid1\u001b[0m \u001b[0;34m=\u001b[0m \u001b[0mGridSearchCV\u001b[0m\u001b[0;34m(\u001b[0m\u001b[0mpipeline\u001b[0m\u001b[0;34m,\u001b[0m \u001b[0mparam_grid\u001b[0m\u001b[0;34m=\u001b[0m\u001b[0mparametros\u001b[0m\u001b[0;34m,\u001b[0m \u001b[0mcv\u001b[0m\u001b[0;34m=\u001b[0m\u001b[0;36m5\u001b[0m\u001b[0;34m,\u001b[0m \u001b[0mscoring\u001b[0m\u001b[0;34m=\u001b[0m\u001b[0mmetrica\u001b[0m\u001b[0;34m,\u001b[0m\u001b[0mn_jobs\u001b[0m\u001b[0;34m=\u001b[0m\u001b[0;34m-\u001b[0m\u001b[0;36m1\u001b[0m\u001b[0;34m)\u001b[0m\u001b[0;34m\u001b[0m\u001b[0;34m\u001b[0m\u001b[0m\n\u001b[0;32m----> 6\u001b[0;31m \u001b[0mgrid1\u001b[0m\u001b[0;34m.\u001b[0m\u001b[0mfit\u001b[0m\u001b[0;34m(\u001b[0m\u001b[0mX_train\u001b[0m\u001b[0;34m,\u001b[0m \u001b[0my_train\u001b[0m\u001b[0;34m)\u001b[0m\u001b[0;34m\u001b[0m\u001b[0;34m\u001b[0m\u001b[0m\n\u001b[0m\u001b[1;32m      7\u001b[0m \u001b[0mprint\u001b[0m\u001b[0;34m(\u001b[0m\u001b[0;34m\"score = %3.4f\"\u001b[0m \u001b[0;34m%\u001b[0m\u001b[0;34m(\u001b[0m\u001b[0mgrid1\u001b[0m\u001b[0;34m.\u001b[0m\u001b[0mscore\u001b[0m\u001b[0;34m(\u001b[0m\u001b[0mX_test\u001b[0m\u001b[0;34m,\u001b[0m\u001b[0my_test\u001b[0m\u001b[0;34m)\u001b[0m\u001b[0;34m)\u001b[0m\u001b[0;34m)\u001b[0m\u001b[0;34m\u001b[0m\u001b[0;34m\u001b[0m\u001b[0m\n\u001b[1;32m      8\u001b[0m \u001b[0mprint\u001b[0m\u001b[0;34m(\u001b[0m\u001b[0mgrid1\u001b[0m\u001b[0;34m.\u001b[0m\u001b[0mbest_params_\u001b[0m\u001b[0;34m)\u001b[0m\u001b[0;34m\u001b[0m\u001b[0;34m\u001b[0m\u001b[0m\n",
            "\u001b[0;32m/usr/local/lib/python3.6/dist-packages/sklearn/model_selection/_search.py\u001b[0m in \u001b[0;36mfit\u001b[0;34m(self, X, y, groups, **fit_params)\u001b[0m\n\u001b[1;32m    708\u001b[0m                 \u001b[0;32mreturn\u001b[0m \u001b[0mresults\u001b[0m\u001b[0;34m\u001b[0m\u001b[0;34m\u001b[0m\u001b[0m\n\u001b[1;32m    709\u001b[0m \u001b[0;34m\u001b[0m\u001b[0m\n\u001b[0;32m--> 710\u001b[0;31m             \u001b[0mself\u001b[0m\u001b[0;34m.\u001b[0m\u001b[0m_run_search\u001b[0m\u001b[0;34m(\u001b[0m\u001b[0mevaluate_candidates\u001b[0m\u001b[0;34m)\u001b[0m\u001b[0;34m\u001b[0m\u001b[0;34m\u001b[0m\u001b[0m\n\u001b[0m\u001b[1;32m    711\u001b[0m \u001b[0;34m\u001b[0m\u001b[0m\n\u001b[1;32m    712\u001b[0m         \u001b[0;31m# For multi-metric evaluation, store the best_index_, best_params_ and\u001b[0m\u001b[0;34m\u001b[0m\u001b[0;34m\u001b[0m\u001b[0;34m\u001b[0m\u001b[0m\n",
            "\u001b[0;32m/usr/local/lib/python3.6/dist-packages/sklearn/model_selection/_search.py\u001b[0m in \u001b[0;36m_run_search\u001b[0;34m(self, evaluate_candidates)\u001b[0m\n\u001b[1;32m   1149\u001b[0m     \u001b[0;32mdef\u001b[0m \u001b[0m_run_search\u001b[0m\u001b[0;34m(\u001b[0m\u001b[0mself\u001b[0m\u001b[0;34m,\u001b[0m \u001b[0mevaluate_candidates\u001b[0m\u001b[0;34m)\u001b[0m\u001b[0;34m:\u001b[0m\u001b[0;34m\u001b[0m\u001b[0;34m\u001b[0m\u001b[0m\n\u001b[1;32m   1150\u001b[0m         \u001b[0;34m\"\"\"Search all candidates in param_grid\"\"\"\u001b[0m\u001b[0;34m\u001b[0m\u001b[0;34m\u001b[0m\u001b[0m\n\u001b[0;32m-> 1151\u001b[0;31m         \u001b[0mevaluate_candidates\u001b[0m\u001b[0;34m(\u001b[0m\u001b[0mParameterGrid\u001b[0m\u001b[0;34m(\u001b[0m\u001b[0mself\u001b[0m\u001b[0;34m.\u001b[0m\u001b[0mparam_grid\u001b[0m\u001b[0;34m)\u001b[0m\u001b[0;34m)\u001b[0m\u001b[0;34m\u001b[0m\u001b[0;34m\u001b[0m\u001b[0m\n\u001b[0m\u001b[1;32m   1152\u001b[0m \u001b[0;34m\u001b[0m\u001b[0m\n\u001b[1;32m   1153\u001b[0m \u001b[0;34m\u001b[0m\u001b[0m\n",
            "\u001b[0;32m/usr/local/lib/python3.6/dist-packages/sklearn/model_selection/_search.py\u001b[0m in \u001b[0;36mevaluate_candidates\u001b[0;34m(candidate_params)\u001b[0m\n\u001b[1;32m    687\u001b[0m                                \u001b[0;32mfor\u001b[0m \u001b[0mparameters\u001b[0m\u001b[0;34m,\u001b[0m \u001b[0;34m(\u001b[0m\u001b[0mtrain\u001b[0m\u001b[0;34m,\u001b[0m \u001b[0mtest\u001b[0m\u001b[0;34m)\u001b[0m\u001b[0;34m\u001b[0m\u001b[0;34m\u001b[0m\u001b[0m\n\u001b[1;32m    688\u001b[0m                                in product(candidate_params,\n\u001b[0;32m--> 689\u001b[0;31m                                           cv.split(X, y, groups)))\n\u001b[0m\u001b[1;32m    690\u001b[0m \u001b[0;34m\u001b[0m\u001b[0m\n\u001b[1;32m    691\u001b[0m                 \u001b[0;32mif\u001b[0m \u001b[0mlen\u001b[0m\u001b[0;34m(\u001b[0m\u001b[0mout\u001b[0m\u001b[0;34m)\u001b[0m \u001b[0;34m<\u001b[0m \u001b[0;36m1\u001b[0m\u001b[0;34m:\u001b[0m\u001b[0;34m\u001b[0m\u001b[0;34m\u001b[0m\u001b[0m\n",
            "\u001b[0;32m/usr/local/lib/python3.6/dist-packages/joblib/parallel.py\u001b[0m in \u001b[0;36m__call__\u001b[0;34m(self, iterable)\u001b[0m\n\u001b[1;32m   1015\u001b[0m \u001b[0;34m\u001b[0m\u001b[0m\n\u001b[1;32m   1016\u001b[0m             \u001b[0;32mwith\u001b[0m \u001b[0mself\u001b[0m\u001b[0;34m.\u001b[0m\u001b[0m_backend\u001b[0m\u001b[0;34m.\u001b[0m\u001b[0mretrieval_context\u001b[0m\u001b[0;34m(\u001b[0m\u001b[0;34m)\u001b[0m\u001b[0;34m:\u001b[0m\u001b[0;34m\u001b[0m\u001b[0;34m\u001b[0m\u001b[0m\n\u001b[0;32m-> 1017\u001b[0;31m                 \u001b[0mself\u001b[0m\u001b[0;34m.\u001b[0m\u001b[0mretrieve\u001b[0m\u001b[0;34m(\u001b[0m\u001b[0;34m)\u001b[0m\u001b[0;34m\u001b[0m\u001b[0;34m\u001b[0m\u001b[0m\n\u001b[0m\u001b[1;32m   1018\u001b[0m             \u001b[0;31m# Make sure that we get a last message telling us we are done\u001b[0m\u001b[0;34m\u001b[0m\u001b[0;34m\u001b[0m\u001b[0;34m\u001b[0m\u001b[0m\n\u001b[1;32m   1019\u001b[0m             \u001b[0melapsed_time\u001b[0m \u001b[0;34m=\u001b[0m \u001b[0mtime\u001b[0m\u001b[0;34m.\u001b[0m\u001b[0mtime\u001b[0m\u001b[0;34m(\u001b[0m\u001b[0;34m)\u001b[0m \u001b[0;34m-\u001b[0m \u001b[0mself\u001b[0m\u001b[0;34m.\u001b[0m\u001b[0m_start_time\u001b[0m\u001b[0;34m\u001b[0m\u001b[0;34m\u001b[0m\u001b[0m\n",
            "\u001b[0;32m/usr/local/lib/python3.6/dist-packages/joblib/parallel.py\u001b[0m in \u001b[0;36mretrieve\u001b[0;34m(self)\u001b[0m\n\u001b[1;32m    907\u001b[0m             \u001b[0;32mtry\u001b[0m\u001b[0;34m:\u001b[0m\u001b[0;34m\u001b[0m\u001b[0;34m\u001b[0m\u001b[0m\n\u001b[1;32m    908\u001b[0m                 \u001b[0;32mif\u001b[0m \u001b[0mgetattr\u001b[0m\u001b[0;34m(\u001b[0m\u001b[0mself\u001b[0m\u001b[0;34m.\u001b[0m\u001b[0m_backend\u001b[0m\u001b[0;34m,\u001b[0m \u001b[0;34m'supports_timeout'\u001b[0m\u001b[0;34m,\u001b[0m \u001b[0;32mFalse\u001b[0m\u001b[0;34m)\u001b[0m\u001b[0;34m:\u001b[0m\u001b[0;34m\u001b[0m\u001b[0;34m\u001b[0m\u001b[0m\n\u001b[0;32m--> 909\u001b[0;31m                     \u001b[0mself\u001b[0m\u001b[0;34m.\u001b[0m\u001b[0m_output\u001b[0m\u001b[0;34m.\u001b[0m\u001b[0mextend\u001b[0m\u001b[0;34m(\u001b[0m\u001b[0mjob\u001b[0m\u001b[0;34m.\u001b[0m\u001b[0mget\u001b[0m\u001b[0;34m(\u001b[0m\u001b[0mtimeout\u001b[0m\u001b[0;34m=\u001b[0m\u001b[0mself\u001b[0m\u001b[0;34m.\u001b[0m\u001b[0mtimeout\u001b[0m\u001b[0;34m)\u001b[0m\u001b[0;34m)\u001b[0m\u001b[0;34m\u001b[0m\u001b[0;34m\u001b[0m\u001b[0m\n\u001b[0m\u001b[1;32m    910\u001b[0m                 \u001b[0;32melse\u001b[0m\u001b[0;34m:\u001b[0m\u001b[0;34m\u001b[0m\u001b[0;34m\u001b[0m\u001b[0m\n\u001b[1;32m    911\u001b[0m                     \u001b[0mself\u001b[0m\u001b[0;34m.\u001b[0m\u001b[0m_output\u001b[0m\u001b[0;34m.\u001b[0m\u001b[0mextend\u001b[0m\u001b[0;34m(\u001b[0m\u001b[0mjob\u001b[0m\u001b[0;34m.\u001b[0m\u001b[0mget\u001b[0m\u001b[0;34m(\u001b[0m\u001b[0;34m)\u001b[0m\u001b[0;34m)\u001b[0m\u001b[0;34m\u001b[0m\u001b[0;34m\u001b[0m\u001b[0m\n",
            "\u001b[0;32m/usr/local/lib/python3.6/dist-packages/joblib/_parallel_backends.py\u001b[0m in \u001b[0;36mwrap_future_result\u001b[0;34m(future, timeout)\u001b[0m\n\u001b[1;32m    560\u001b[0m         AsyncResults.get from multiprocessing.\"\"\"\n\u001b[1;32m    561\u001b[0m         \u001b[0;32mtry\u001b[0m\u001b[0;34m:\u001b[0m\u001b[0;34m\u001b[0m\u001b[0;34m\u001b[0m\u001b[0m\n\u001b[0;32m--> 562\u001b[0;31m             \u001b[0;32mreturn\u001b[0m \u001b[0mfuture\u001b[0m\u001b[0;34m.\u001b[0m\u001b[0mresult\u001b[0m\u001b[0;34m(\u001b[0m\u001b[0mtimeout\u001b[0m\u001b[0;34m=\u001b[0m\u001b[0mtimeout\u001b[0m\u001b[0;34m)\u001b[0m\u001b[0;34m\u001b[0m\u001b[0;34m\u001b[0m\u001b[0m\n\u001b[0m\u001b[1;32m    563\u001b[0m         \u001b[0;32mexcept\u001b[0m \u001b[0mLokyTimeoutError\u001b[0m\u001b[0;34m:\u001b[0m\u001b[0;34m\u001b[0m\u001b[0;34m\u001b[0m\u001b[0m\n\u001b[1;32m    564\u001b[0m             \u001b[0;32mraise\u001b[0m \u001b[0mTimeoutError\u001b[0m\u001b[0;34m(\u001b[0m\u001b[0;34m)\u001b[0m\u001b[0;34m\u001b[0m\u001b[0;34m\u001b[0m\u001b[0m\n",
            "\u001b[0;32m/usr/lib/python3.6/concurrent/futures/_base.py\u001b[0m in \u001b[0;36mresult\u001b[0;34m(self, timeout)\u001b[0m\n\u001b[1;32m    430\u001b[0m                 \u001b[0;32mraise\u001b[0m \u001b[0mCancelledError\u001b[0m\u001b[0;34m(\u001b[0m\u001b[0;34m)\u001b[0m\u001b[0;34m\u001b[0m\u001b[0;34m\u001b[0m\u001b[0m\n\u001b[1;32m    431\u001b[0m             \u001b[0;32melif\u001b[0m \u001b[0mself\u001b[0m\u001b[0;34m.\u001b[0m\u001b[0m_state\u001b[0m \u001b[0;34m==\u001b[0m \u001b[0mFINISHED\u001b[0m\u001b[0;34m:\u001b[0m\u001b[0;34m\u001b[0m\u001b[0;34m\u001b[0m\u001b[0m\n\u001b[0;32m--> 432\u001b[0;31m                 \u001b[0;32mreturn\u001b[0m \u001b[0mself\u001b[0m\u001b[0;34m.\u001b[0m\u001b[0m__get_result\u001b[0m\u001b[0;34m(\u001b[0m\u001b[0;34m)\u001b[0m\u001b[0;34m\u001b[0m\u001b[0;34m\u001b[0m\u001b[0m\n\u001b[0m\u001b[1;32m    433\u001b[0m             \u001b[0;32melse\u001b[0m\u001b[0;34m:\u001b[0m\u001b[0;34m\u001b[0m\u001b[0;34m\u001b[0m\u001b[0m\n\u001b[1;32m    434\u001b[0m                 \u001b[0;32mraise\u001b[0m \u001b[0mTimeoutError\u001b[0m\u001b[0;34m(\u001b[0m\u001b[0;34m)\u001b[0m\u001b[0;34m\u001b[0m\u001b[0;34m\u001b[0m\u001b[0m\n",
            "\u001b[0;32m/usr/lib/python3.6/concurrent/futures/_base.py\u001b[0m in \u001b[0;36m__get_result\u001b[0;34m(self)\u001b[0m\n\u001b[1;32m    382\u001b[0m     \u001b[0;32mdef\u001b[0m \u001b[0m__get_result\u001b[0m\u001b[0;34m(\u001b[0m\u001b[0mself\u001b[0m\u001b[0;34m)\u001b[0m\u001b[0;34m:\u001b[0m\u001b[0;34m\u001b[0m\u001b[0;34m\u001b[0m\u001b[0m\n\u001b[1;32m    383\u001b[0m         \u001b[0;32mif\u001b[0m \u001b[0mself\u001b[0m\u001b[0;34m.\u001b[0m\u001b[0m_exception\u001b[0m\u001b[0;34m:\u001b[0m\u001b[0;34m\u001b[0m\u001b[0;34m\u001b[0m\u001b[0m\n\u001b[0;32m--> 384\u001b[0;31m             \u001b[0;32mraise\u001b[0m \u001b[0mself\u001b[0m\u001b[0;34m.\u001b[0m\u001b[0m_exception\u001b[0m\u001b[0;34m\u001b[0m\u001b[0;34m\u001b[0m\u001b[0m\n\u001b[0m\u001b[1;32m    385\u001b[0m         \u001b[0;32melse\u001b[0m\u001b[0;34m:\u001b[0m\u001b[0;34m\u001b[0m\u001b[0;34m\u001b[0m\u001b[0m\n\u001b[1;32m    386\u001b[0m             \u001b[0;32mreturn\u001b[0m \u001b[0mself\u001b[0m\u001b[0;34m.\u001b[0m\u001b[0m_result\u001b[0m\u001b[0;34m\u001b[0m\u001b[0;34m\u001b[0m\u001b[0m\n",
            "\u001b[0;31mValueError\u001b[0m: Invalid parameter SVM_rbf for estimator Pipeline(memory=None,\n         steps=[('SVM_linear',\n                 SVC(C=1.0, break_ties=False, cache_size=200, class_weight=None,\n                     coef0=0.0, decision_function_shape='ovr', degree=3,\n                     gamma='scale', kernel='rbf', max_iter=-1,\n                     probability=False, random_state=None, shrinking=True,\n                     tol=0.001, verbose=False))],\n         verbose=False). Check the list of available parameters with `estimator.get_params().keys()`."
          ]
        }
      ]
    },
    {
      "cell_type": "markdown",
      "metadata": {
        "id": "n3R9nRyr4za9",
        "colab_type": "text"
      },
      "source": [
        "Kernel - Kernel Polinomial "
      ]
    },
    {
      "cell_type": "code",
      "metadata": {
        "id": "ebzdQavstdBN",
        "colab_type": "code",
        "colab": {}
      },
      "source": [
        "metrica='accuracy'\n",
        "steps = [(\"SVM_linear\", SVC(kernel=\"poly\"))]\n",
        "pipeline = Pipeline(steps)\n",
        "parametros = {'SVM_linear__C':[0.01,0.1,1,10]}\n",
        "grid1 = GridSearchCV(pipeline, param_grid=parametros, cv=5, scoring=metrica,n_jobs=-1)\n",
        "grid1.fit(X_train, y_train)\n",
        "print(\"score = %3.4f\" %(grid1.score(X_test,y_test)))\n",
        "print(grid1.best_params_)"
      ],
      "execution_count": 0,
      "outputs": []
    },
    {
      "cell_type": "markdown",
      "metadata": {
        "id": "BxW9KKkV4qYg",
        "colab_type": "text"
      },
      "source": [
        "SVM - Kernel Sigmoid"
      ]
    },
    {
      "cell_type": "code",
      "metadata": {
        "id": "rySC0gzCtjTR",
        "colab_type": "code",
        "colab": {}
      },
      "source": [
        "metrica='accuracy'\n",
        "steps = [(\"SVM_linear\", SVC(kernel=\"sigmoid\"))]\n",
        "pipeline = Pipeline(steps)\n",
        "parametros = {'SVM_sigmoid__C':[0.01,0.1,1,10], 'SVM_sigmoid__gamma':[0.05,0.01, 1, 5]}\n",
        "grid1 = GridSearchCV(pipeline, param_grid=parametros, cv=5, scoring=metrica,n_jobs=-1)\n",
        "grid1.fit(X_train, y_train)\n",
        "print(\"score = %3.4f\" %(grid1.score(X_test,y_test)))\n",
        "print(grid1.best_params_)"
      ],
      "execution_count": 0,
      "outputs": []
    },
    {
      "cell_type": "markdown",
      "metadata": {
        "id": "yPNz43O908Mq",
        "colab_type": "text"
      },
      "source": [
        "### RIDGE Y LASSO: ELASTIC NET"
      ]
    },
    {
      "cell_type": "code",
      "metadata": {
        "id": "VJakQLW71AdF",
        "colab_type": "code",
        "outputId": "68002869-25fb-4c39-918d-767e58ec935f",
        "colab": {
          "base_uri": "https://localhost:8080/",
          "height": 68
        }
      },
      "source": [
        "### Clasificador con regularización l1 y l2 por elastic net: regresión logística y SVM\n",
        "steps = [('STD', StandardScaler()), ('ELNET', SGDClassifier(penalty=\"elasticnet\",early_stopping=True,validation_fraction=0.1))]\n",
        "pipeline = Pipeline(steps)\n",
        "parametros={'ELNET__loss':['log','hinge','squared_hinge'],\n",
        "            'ELNET__l1_ratio':np.linspace(0,1,11)}\n",
        "grid1=GridSearchCV(pipeline,param_grid=parametros,cv=5,n_jobs=-1)\n",
        "grid1.fit(X_train,y_train)\n",
        "pred_enet=grid1.predict(X_test)\n",
        "metrics(y_test,pred_enet)\n",
        "\n"
      ],
      "execution_count": 0,
      "outputs": [
        {
          "output_type": "stream",
          "text": [
            " Accuracy:0.7681 \n",
            " Kappa: 0.0909 \n",
            " F1-Score: 0.2258\n"
          ],
          "name": "stdout"
        }
      ]
    },
    {
      "cell_type": "code",
      "metadata": {
        "id": "LYz6zvoylm1b",
        "colab_type": "code",
        "outputId": "1709066a-7e2f-4ecc-ec23-0eb6ceeec4ae",
        "colab": {
          "base_uri": "https://localhost:8080/",
          "height": 34
        }
      },
      "source": [
        "#revisar cuál fue el modelo que tuvo el mejor comportamiento de los ajustados en ElasticNet\n",
        "grid1.best_estimator_.get_params()['ELNET']"
      ],
      "execution_count": 0,
      "outputs": [
        {
          "output_type": "execute_result",
          "data": {
            "text/plain": [
              "StandardScaler(copy=True, with_mean=True, with_std=True)"
            ]
          },
          "metadata": {
            "tags": []
          },
          "execution_count": 41
        }
      ]
    },
    {
      "cell_type": "markdown",
      "metadata": {
        "id": "pUbbIasD1BSS",
        "colab_type": "text"
      },
      "source": [
        "### REDES NEURONALES\n",
        "\n",
        "A partir de los últimos 90 días del comportamiento, analizaremos la probabilidad de que una persona no pague sus obligaciones, a través del uso de una red neuronal convencional (MLP) y una recurrente (LSTM)."
      ]
    },
    {
      "cell_type": "code",
      "metadata": {
        "id": "cKYJudu5zR1X",
        "colab_type": "code",
        "outputId": "d8925116-a22e-44b6-d2d8-ef946692b503",
        "colab": {
          "base_uri": "https://localhost:8080/",
          "height": 71
        }
      },
      "source": [
        "from sklearn.neural_network import MLPClassifier\n",
        "from sklearn.metrics import mean_squared_error, mean_absolute_error, r2_score\n",
        "from math import sqrt\n",
        "\n",
        "np.random.seed(1234)\n",
        "mlp = MLPClassifier(hidden_layer_sizes=(100,100,100), max_iter=1000,)\n",
        "mlp.fit(X_train.iloc[:,0:90],y_train)\n",
        "\n",
        "y_pred = mlp.predict(X_test.iloc[:,0:90])\n",
        "metrics(y_test,y_pred)"
      ],
      "execution_count": 22,
      "outputs": [
        {
          "output_type": "stream",
          "text": [
            " Accuracy:0.7536 \n",
            " Kappa: 0.1801 \n",
            " F1-Score: 0.3289\n"
          ],
          "name": "stdout"
        }
      ]
    },
    {
      "cell_type": "markdown",
      "metadata": {
        "id": "3OlEQJaRzTUj",
        "colab_type": "text"
      },
      "source": [
        "Ahora veamos cómo se comporta una Red Neuronal Recurrente, para ello debemos redimiensionar la base de entrenamiento, de forma que el input tenga 3 dimensiones. En el caso de la variable de respuesta, debemos tener una matriz con número de columnas igual al número de clases, con valores binarios en donde aplique cada categoría."
      ]
    },
    {
      "cell_type": "code",
      "metadata": {
        "id": "gp0FfTR04CZ2",
        "colab_type": "code",
        "outputId": "33fbe565-426c-4d2e-f85d-377fb4ca3bda",
        "colab": {
          "base_uri": "https://localhost:8080/",
          "height": 53
        }
      },
      "source": [
        "from tensorflow.keras.utils import to_categorical\n",
        "\n",
        "sc=StandardScaler()\n",
        "X_train2=sc.fit_transform(X_train.iloc[:,0:90])\n",
        "X_test2=sc.transform(X_test.iloc[:,0:90])\n",
        "print(\"Dimensión original de la base: \",X_train2.shape)\n",
        "\n",
        "##Redimensionar para que la red neuronal tome valores de entrenamiento en dimensión (90 días, 1 registro)\n",
        "X_train2=np.reshape(X_train2,(-1,90,1))\n",
        "X_test2=np.reshape(X_test2,(-1,90,1))\n",
        "y_train2=to_categorical(y_train,2)\n",
        "y_test2=to_categorical(y_test,2)\n",
        "print(\"Dimensión transformada de la base: \",X_train2.shape)"
      ],
      "execution_count": 23,
      "outputs": [
        {
          "output_type": "stream",
          "text": [
            "Dimensión original de la base:  (964, 90)\n",
            "Dimensión transformada de la base:  (964, 90, 1)\n"
          ],
          "name": "stdout"
        }
      ]
    },
    {
      "cell_type": "code",
      "metadata": {
        "id": "WyXLUIlj1C9i",
        "colab_type": "code",
        "outputId": "b6b124c5-1d11-4a56-ba26-24e0c6733630",
        "colab": {
          "base_uri": "https://localhost:8080/",
          "height": 1000
        }
      },
      "source": [
        "from tensorflow.keras.layers import LSTM,Dense,Conv1D,TimeDistributed,Dropout,BatchNormalization,Flatten\n",
        "from tensorflow.keras.models import Sequential\n",
        "\n",
        "mod=Sequential()\n",
        "## capa convolucional que recorre cada 8 días los picos de actividad más relevantes\n",
        "mod.add(Conv1D(filters=64,input_shape=(X_train2.shape[1],1),kernel_size=8,activation=\"relu\"))\n",
        "mod.add(LSTM(50,return_sequences=True))\n",
        "mod.add(Dropout(0.5))\n",
        "mod.add(LSTM(50,return_sequences=True))\n",
        "mod.add(Dropout(0.5))\n",
        "mod.add(LSTM(50,return_sequences=False))\n",
        "mod.add(Dropout(0.5))\n",
        "mod.add(Flatten())\n",
        "mod.add(Dense(1,activation=\"sigmoid\"))\n",
        "\n",
        "opt=tf.keras.optimizers.RMSprop(\n",
        "    learning_rate=0.001\n",
        ")\n",
        "cb = tf.keras.callbacks.EarlyStopping(monitor='loss', patience=5)\n",
        "\n",
        "mod.compile(loss='binary_crossentropy',\n",
        "    optimizer=opt,\n",
        "    metrics=['accuracy'])\n",
        "\n",
        "mod.fit(\n",
        "    X_train2,\n",
        "    y_train,\n",
        "    validation_split = 0.1,\n",
        "    epochs = 50,\n",
        "    batch_size = 20,\n",
        "    callbacks=[cb]\n",
        ")"
      ],
      "execution_count": 50,
      "outputs": [
        {
          "output_type": "stream",
          "text": [
            "Epoch 1/50\n",
            "44/44 [==============================] - 6s 140ms/step - loss: 0.4709 - accuracy: 0.8304 - val_loss: 0.5194 - val_accuracy: 0.7938\n",
            "Epoch 2/50\n",
            "44/44 [==============================] - 5s 119ms/step - loss: 0.4606 - accuracy: 0.8397 - val_loss: 0.5190 - val_accuracy: 0.7938\n",
            "Epoch 3/50\n",
            "44/44 [==============================] - 5s 117ms/step - loss: 0.4564 - accuracy: 0.8397 - val_loss: 0.5381 - val_accuracy: 0.7938\n",
            "Epoch 4/50\n",
            "44/44 [==============================] - 5s 120ms/step - loss: 0.4442 - accuracy: 0.8397 - val_loss: 0.5358 - val_accuracy: 0.7938\n",
            "Epoch 5/50\n",
            "44/44 [==============================] - 5s 118ms/step - loss: 0.4433 - accuracy: 0.8385 - val_loss: 0.5537 - val_accuracy: 0.7938\n",
            "Epoch 6/50\n",
            "44/44 [==============================] - 5s 119ms/step - loss: 0.4340 - accuracy: 0.8431 - val_loss: 0.5287 - val_accuracy: 0.7938\n",
            "Epoch 7/50\n",
            "44/44 [==============================] - 5s 120ms/step - loss: 0.4300 - accuracy: 0.8397 - val_loss: 0.5395 - val_accuracy: 0.7938\n",
            "Epoch 8/50\n",
            "44/44 [==============================] - 5s 122ms/step - loss: 0.4270 - accuracy: 0.8374 - val_loss: 0.5461 - val_accuracy: 0.7938\n",
            "Epoch 9/50\n",
            "44/44 [==============================] - 5s 117ms/step - loss: 0.4232 - accuracy: 0.8420 - val_loss: 0.5435 - val_accuracy: 0.7835\n",
            "Epoch 10/50\n",
            "44/44 [==============================] - 5s 120ms/step - loss: 0.4272 - accuracy: 0.8385 - val_loss: 0.4939 - val_accuracy: 0.7938\n",
            "Epoch 11/50\n",
            "44/44 [==============================] - 5s 120ms/step - loss: 0.4200 - accuracy: 0.8408 - val_loss: 0.5348 - val_accuracy: 0.7835\n",
            "Epoch 12/50\n",
            "44/44 [==============================] - 5s 122ms/step - loss: 0.4193 - accuracy: 0.8431 - val_loss: 0.5239 - val_accuracy: 0.7938\n",
            "Epoch 13/50\n",
            "44/44 [==============================] - 5s 122ms/step - loss: 0.4162 - accuracy: 0.8443 - val_loss: 0.5562 - val_accuracy: 0.7938\n",
            "Epoch 14/50\n",
            "44/44 [==============================] - 5s 120ms/step - loss: 0.4159 - accuracy: 0.8489 - val_loss: 0.5060 - val_accuracy: 0.7938\n",
            "Epoch 15/50\n",
            "44/44 [==============================] - 5s 122ms/step - loss: 0.4159 - accuracy: 0.8478 - val_loss: 0.5068 - val_accuracy: 0.7835\n",
            "Epoch 16/50\n",
            "44/44 [==============================] - 5s 122ms/step - loss: 0.3962 - accuracy: 0.8431 - val_loss: 0.5566 - val_accuracy: 0.7938\n",
            "Epoch 17/50\n",
            "44/44 [==============================] - 5s 120ms/step - loss: 0.4040 - accuracy: 0.8524 - val_loss: 0.5467 - val_accuracy: 0.7938\n",
            "Epoch 18/50\n",
            "44/44 [==============================] - 5s 118ms/step - loss: 0.4033 - accuracy: 0.8466 - val_loss: 0.5846 - val_accuracy: 0.8041\n",
            "Epoch 19/50\n",
            "44/44 [==============================] - 5s 118ms/step - loss: 0.3846 - accuracy: 0.8478 - val_loss: 0.6181 - val_accuracy: 0.7938\n",
            "Epoch 20/50\n",
            "44/44 [==============================] - 5s 123ms/step - loss: 0.3852 - accuracy: 0.8478 - val_loss: 0.5620 - val_accuracy: 0.8144\n",
            "Epoch 21/50\n",
            "44/44 [==============================] - 6s 127ms/step - loss: 0.4150 - accuracy: 0.8466 - val_loss: 0.5199 - val_accuracy: 0.7938\n",
            "Epoch 22/50\n",
            "44/44 [==============================] - 5s 118ms/step - loss: 0.3876 - accuracy: 0.8478 - val_loss: 0.6365 - val_accuracy: 0.7938\n",
            "Epoch 23/50\n",
            "44/44 [==============================] - 5s 120ms/step - loss: 0.3679 - accuracy: 0.8524 - val_loss: 0.5608 - val_accuracy: 0.8041\n",
            "Epoch 24/50\n",
            "44/44 [==============================] - 5s 118ms/step - loss: 0.3686 - accuracy: 0.8616 - val_loss: 0.5175 - val_accuracy: 0.8041\n",
            "Epoch 25/50\n",
            "44/44 [==============================] - 5s 120ms/step - loss: 0.3709 - accuracy: 0.8547 - val_loss: 0.5253 - val_accuracy: 0.8144\n",
            "Epoch 26/50\n",
            "44/44 [==============================] - 5s 117ms/step - loss: 0.3679 - accuracy: 0.8639 - val_loss: 0.5707 - val_accuracy: 0.7835\n",
            "Epoch 27/50\n",
            "44/44 [==============================] - 5s 117ms/step - loss: 0.3570 - accuracy: 0.8662 - val_loss: 0.5520 - val_accuracy: 0.8041\n",
            "Epoch 28/50\n",
            "44/44 [==============================] - 5s 117ms/step - loss: 0.3633 - accuracy: 0.8697 - val_loss: 0.5347 - val_accuracy: 0.7835\n",
            "Epoch 29/50\n",
            "44/44 [==============================] - 5s 122ms/step - loss: 0.3639 - accuracy: 0.8604 - val_loss: 0.5145 - val_accuracy: 0.8041\n",
            "Epoch 30/50\n",
            "44/44 [==============================] - 5s 119ms/step - loss: 0.3654 - accuracy: 0.8616 - val_loss: 0.5073 - val_accuracy: 0.8041\n",
            "Epoch 31/50\n",
            "44/44 [==============================] - 5s 120ms/step - loss: 0.3599 - accuracy: 0.8639 - val_loss: 0.5581 - val_accuracy: 0.8041\n",
            "Epoch 32/50\n",
            "44/44 [==============================] - 5s 118ms/step - loss: 0.3468 - accuracy: 0.8685 - val_loss: 0.5758 - val_accuracy: 0.8041\n",
            "Epoch 33/50\n",
            "44/44 [==============================] - 5s 118ms/step - loss: 0.3559 - accuracy: 0.8651 - val_loss: 0.5086 - val_accuracy: 0.8041\n",
            "Epoch 34/50\n",
            "44/44 [==============================] - 5s 120ms/step - loss: 0.3458 - accuracy: 0.8697 - val_loss: 0.5320 - val_accuracy: 0.7938\n",
            "Epoch 35/50\n",
            "44/44 [==============================] - 5s 118ms/step - loss: 0.3340 - accuracy: 0.8800 - val_loss: 0.5216 - val_accuracy: 0.8041\n",
            "Epoch 36/50\n",
            "44/44 [==============================] - 5s 118ms/step - loss: 0.3414 - accuracy: 0.8708 - val_loss: 0.5742 - val_accuracy: 0.8041\n",
            "Epoch 37/50\n",
            "44/44 [==============================] - 5s 121ms/step - loss: 0.3369 - accuracy: 0.8651 - val_loss: 0.5074 - val_accuracy: 0.8247\n",
            "Epoch 38/50\n",
            "44/44 [==============================] - 5s 120ms/step - loss: 0.3148 - accuracy: 0.8847 - val_loss: 0.5211 - val_accuracy: 0.8144\n",
            "Epoch 39/50\n",
            "44/44 [==============================] - 5s 120ms/step - loss: 0.3156 - accuracy: 0.8812 - val_loss: 0.5990 - val_accuracy: 0.8041\n",
            "Epoch 40/50\n",
            "44/44 [==============================] - 5s 119ms/step - loss: 0.3289 - accuracy: 0.8731 - val_loss: 0.5468 - val_accuracy: 0.7938\n",
            "Epoch 41/50\n",
            "44/44 [==============================] - 5s 118ms/step - loss: 0.3175 - accuracy: 0.8812 - val_loss: 0.5763 - val_accuracy: 0.8041\n",
            "Epoch 42/50\n",
            "44/44 [==============================] - 5s 120ms/step - loss: 0.3249 - accuracy: 0.8766 - val_loss: 0.5590 - val_accuracy: 0.8247\n",
            "Epoch 43/50\n",
            "44/44 [==============================] - 5s 119ms/step - loss: 0.3172 - accuracy: 0.8812 - val_loss: 0.4881 - val_accuracy: 0.8351\n"
          ],
          "name": "stdout"
        },
        {
          "output_type": "execute_result",
          "data": {
            "text/plain": [
              "<tensorflow.python.keras.callbacks.History at 0x7f542c10d710>"
            ]
          },
          "metadata": {
            "tags": []
          },
          "execution_count": 50
        }
      ]
    },
    {
      "cell_type": "code",
      "metadata": {
        "id": "6mbg6PilNK3r",
        "colab_type": "code",
        "colab": {
          "base_uri": "https://localhost:8080/",
          "height": 485
        },
        "outputId": "60542958-6b78-412e-ad10-05b6cfdd4059"
      },
      "source": [
        "### Revisemos la estructura del modelo\n",
        "mod.summary()"
      ],
      "execution_count": 51,
      "outputs": [
        {
          "output_type": "stream",
          "text": [
            "Model: \"sequential_2\"\n",
            "_________________________________________________________________\n",
            "Layer (type)                 Output Shape              Param #   \n",
            "=================================================================\n",
            "conv1d_2 (Conv1D)            (None, 83, 50)            450       \n",
            "_________________________________________________________________\n",
            "lstm_6 (LSTM)                (None, 83, 50)            20200     \n",
            "_________________________________________________________________\n",
            "dropout_6 (Dropout)          (None, 83, 50)            0         \n",
            "_________________________________________________________________\n",
            "lstm_7 (LSTM)                (None, 83, 50)            20200     \n",
            "_________________________________________________________________\n",
            "dropout_7 (Dropout)          (None, 83, 50)            0         \n",
            "_________________________________________________________________\n",
            "lstm_8 (LSTM)                (None, 50)                20200     \n",
            "_________________________________________________________________\n",
            "dropout_8 (Dropout)          (None, 50)                0         \n",
            "_________________________________________________________________\n",
            "flatten_2 (Flatten)          (None, 50)                0         \n",
            "_________________________________________________________________\n",
            "dense_2 (Dense)              (None, 1)                 51        \n",
            "=================================================================\n",
            "Total params: 61,101\n",
            "Trainable params: 61,101\n",
            "Non-trainable params: 0\n",
            "_________________________________________________________________\n"
          ],
          "name": "stdout"
        }
      ]
    },
    {
      "cell_type": "code",
      "metadata": {
        "id": "G8KGMvWwD733",
        "colab_type": "code",
        "colab": {
          "base_uri": "https://localhost:8080/",
          "height": 71
        },
        "outputId": "14382841-7130-4670-dee7-e819e529d816"
      },
      "source": [
        "##Predecir valores de prueba y realizar métricas\n",
        "y_pred_lstm_proba=mod.predict(X_test2)\n",
        "#y_pred_lstm=np.argmax(y_pred_lstm,axis=1)\n",
        "\n",
        "\n",
        "y_pred_lstm=np.where(y_pred_lstm_proba>0.5,1,0)\n",
        "\n",
        "metrics(y_test,y_pred_lstm)"
      ],
      "execution_count": 58,
      "outputs": [
        {
          "output_type": "stream",
          "text": [
            " Accuracy:0.8406 \n",
            " Kappa: 0.2512 \n",
            " F1-Score: 0.3265\n"
          ],
          "name": "stdout"
        }
      ]
    },
    {
      "cell_type": "markdown",
      "metadata": {
        "id": "TWPoNqDGOjdL",
        "colab_type": "text"
      },
      "source": [
        "## Analicemos la curva ROC\n",
        "\n",
        "El valor de corte entre 0.5 y 0.6 parece ser un valor adecuado bajo el trade-off entre la sensibilidad y especificidad \n",
        "\n"
      ]
    },
    {
      "cell_type": "code",
      "metadata": {
        "id": "RM6nAHqGEp-U",
        "colab_type": "code",
        "outputId": "e094275e-bf93-438f-ee5b-f7f059e51676",
        "colab": {
          "base_uri": "https://localhost:8080/",
          "height": 513
        }
      },
      "source": [
        "from sklearn.metrics import roc_auc_score,roc_curve\n",
        "from sklearn.metrics import auc\n",
        "\n",
        "# Compute fpr, tpr, thresholds and roc auc\n",
        "fpr, tpr, thresholds = roc_curve(y_test, y_pred_lstm_proba)\n",
        "roc_auc = roc_auc_score(y_test, y_pred_lstm_proba)\n",
        "\n",
        "# Plot ROC curve\n",
        "\n",
        "ax,fig=plt.subplots(figsize=(10,8))\n",
        "ax=plt.plot(fpr, tpr, label='Curva ROC (area = %0.3f)' % roc_auc, color=\"red\");\n",
        "ax=plt.plot([0, 1], [0, 1], '--',color=\"black\",label=\"Predicción Random\") \n",
        "ax=plt.xlim([0.0, 1.0])\n",
        "ax=plt.ylim([0.0, 1.0])\n",
        "ax=plt.xlabel('1-Especificidad')\n",
        "ax=plt.ylabel('Sensibilidad')\n",
        "ax=plt.title('Curva ROC')\n",
        "ax=plt.legend(loc=\"lower right\")\n",
        "\n"
      ],
      "execution_count": 106,
      "outputs": [
        {
          "output_type": "display_data",
          "data": {
            "image/png": "[encoded data removed]",
            "text/plain": [
              "<Figure size 720x576 with 1 Axes>"
            ]
          },
          "metadata": {
            "tags": [],
            "needs_background": "light"
          }
        }
      ]
    },
    {
      "cell_type": "markdown",
      "metadata": {
        "id": "o7whwriQIM6x",
        "colab_type": "text"
      },
      "source": [
        "### STACKING: \n",
        "Vamos a utilizar los tres modelos más precisos para elaborar un modelo final que establezca la probabilidad de pago usando toda la información disponible."
      ]
    },
    {
      "cell_type": "markdown",
      "metadata": {
        "id": "eIzNjXYdEVPq",
        "colab_type": "text"
      },
      "source": [
        ""
      ]
    }
  ]
}